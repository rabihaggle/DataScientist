{
  "cells": [
    {
      "cell_type": "markdown",
      "metadata": {
        "id": "Nw6dacOWc4sT"
      },
      "source": [
        "\n",
        "## Workshop Python "
      ]
    },
    {
      "cell_type": "markdown",
      "metadata": {
        "id": "gB4pA5ZAdOMK"
      },
      "source": [
        "En esta primera intervención del workshop vamos a trabajar con los siguientes paquetes:\n",
        "\n",
        "* Pandas.\n",
        "* Seaborn.\n",
        "* Matplotlib"
      ]
    },
    {
      "cell_type": "code",
      "execution_count": 1,
      "metadata": {
        "id": "_uBK2kfSvUJC"
      },
      "outputs": [],
      "source": [
        "#Importamos los paquetes\n",
        "import pandas as pd\n",
        "import seaborn as sns\n",
        "import matplotlib.pyplot as plt"
      ]
    },
    {
      "cell_type": "markdown",
      "metadata": {
        "id": "vm2Aj8KhvbgJ"
      },
      "source": [
        "El **dataset** que vamos a utilizar se denomina **\"tips\"** y contiene los datos que un camarero registró sobre cada propina que recibió durante un período de unos meses trabajando en un restaurante. Podemos encontrar el link al dataset en un repositorio público en GitHub.\n",
        "\n",
        "Link: 'https://raw.githubusercontent.com/mwaskom/seaborn-data/master/tips.csv'"
      ]
    },
    {
      "cell_type": "markdown",
      "metadata": {
        "id": "Lbp6e4CbD4ua"
      },
      "source": [
        "1. Para este primer paso, procederemos a realizar la importación del archivo:"
      ]
    },
    {
      "cell_type": "code",
      "execution_count": 2,
      "metadata": {
        "id": "5s-TyYJED4ub"
      },
      "outputs": [],
      "source": [
        "df=pd.read_csv('https://raw.githubusercontent.com/mwaskom/seaborn-data/master/tips.csv')"
      ]
    },
    {
      "cell_type": "markdown",
      "metadata": {
        "id": "jW6nCVrnjbu_"
      },
      "source": [
        "2. Visualizar las primeras filas del dataframe"
      ]
    },
    {
      "cell_type": "code",
      "execution_count": 3,
      "metadata": {
        "id": "mK3ynBfJjjyq"
      },
      "outputs": [
        {
          "data": {
            "text/html": [
              "<div>\n",
              "<style scoped>\n",
              "    .dataframe tbody tr th:only-of-type {\n",
              "        vertical-align: middle;\n",
              "    }\n",
              "\n",
              "    .dataframe tbody tr th {\n",
              "        vertical-align: top;\n",
              "    }\n",
              "\n",
              "    .dataframe thead th {\n",
              "        text-align: right;\n",
              "    }\n",
              "</style>\n",
              "<table border=\"1\" class=\"dataframe\">\n",
              "  <thead>\n",
              "    <tr style=\"text-align: right;\">\n",
              "      <th></th>\n",
              "      <th>total_bill</th>\n",
              "      <th>tip</th>\n",
              "      <th>sex</th>\n",
              "      <th>smoker</th>\n",
              "      <th>day</th>\n",
              "      <th>time</th>\n",
              "      <th>size</th>\n",
              "    </tr>\n",
              "  </thead>\n",
              "  <tbody>\n",
              "    <tr>\n",
              "      <th>0</th>\n",
              "      <td>16.99</td>\n",
              "      <td>1.01</td>\n",
              "      <td>Female</td>\n",
              "      <td>No</td>\n",
              "      <td>Sun</td>\n",
              "      <td>Dinner</td>\n",
              "      <td>2</td>\n",
              "    </tr>\n",
              "    <tr>\n",
              "      <th>1</th>\n",
              "      <td>10.34</td>\n",
              "      <td>1.66</td>\n",
              "      <td>Male</td>\n",
              "      <td>No</td>\n",
              "      <td>Sun</td>\n",
              "      <td>Dinner</td>\n",
              "      <td>3</td>\n",
              "    </tr>\n",
              "    <tr>\n",
              "      <th>2</th>\n",
              "      <td>21.01</td>\n",
              "      <td>3.50</td>\n",
              "      <td>Male</td>\n",
              "      <td>No</td>\n",
              "      <td>Sun</td>\n",
              "      <td>Dinner</td>\n",
              "      <td>3</td>\n",
              "    </tr>\n",
              "    <tr>\n",
              "      <th>3</th>\n",
              "      <td>23.68</td>\n",
              "      <td>3.31</td>\n",
              "      <td>Male</td>\n",
              "      <td>No</td>\n",
              "      <td>Sun</td>\n",
              "      <td>Dinner</td>\n",
              "      <td>2</td>\n",
              "    </tr>\n",
              "    <tr>\n",
              "      <th>4</th>\n",
              "      <td>24.59</td>\n",
              "      <td>3.61</td>\n",
              "      <td>Female</td>\n",
              "      <td>No</td>\n",
              "      <td>Sun</td>\n",
              "      <td>Dinner</td>\n",
              "      <td>4</td>\n",
              "    </tr>\n",
              "  </tbody>\n",
              "</table>\n",
              "</div>"
            ],
            "text/plain": [
              "   total_bill   tip     sex smoker  day    time  size\n",
              "0       16.99  1.01  Female     No  Sun  Dinner     2\n",
              "1       10.34  1.66    Male     No  Sun  Dinner     3\n",
              "2       21.01  3.50    Male     No  Sun  Dinner     3\n",
              "3       23.68  3.31    Male     No  Sun  Dinner     2\n",
              "4       24.59  3.61  Female     No  Sun  Dinner     4"
            ]
          },
          "execution_count": 3,
          "metadata": {},
          "output_type": "execute_result"
        }
      ],
      "source": [
        "#Completar\n",
        "df.head()"
      ]
    },
    {
      "cell_type": "markdown",
      "metadata": {
        "id": "2DVgvCG6vf-9"
      },
      "source": [
        "3. Generar las estadisticas descriptivas del df a través del uso de la función describe()."
      ]
    },
    {
      "cell_type": "code",
      "execution_count": null,
      "metadata": {
        "id": "rFzOfJN2vi7v"
      },
      "outputs": [],
      "source": [
        "#Completar"
      ]
    },
    {
      "cell_type": "markdown",
      "metadata": {
        "id": "m3PpwcPyKu4E"
      },
      "source": [
        "4. Imprimir por pantalla el shape del df"
      ]
    },
    {
      "cell_type": "code",
      "execution_count": null,
      "metadata": {
        "id": "sVx-uBBoK4oP"
      },
      "outputs": [],
      "source": [
        "#Completar"
      ]
    },
    {
      "cell_type": "markdown",
      "metadata": {
        "id": "ikK1xAmEv9xu"
      },
      "source": [
        "# Scatter plot\n",
        "-------------\n",
        "5. Crear un scatterplot entre x='total_bill' - y='tip' a través del uso de la Librería Seaborn\n"
      ]
    },
    {
      "cell_type": "code",
      "execution_count": null,
      "metadata": {
        "id": "z-AYUDI1v289"
      },
      "outputs": [],
      "source": [
        "#Completar"
      ]
    },
    {
      "cell_type": "markdown",
      "metadata": {
        "id": "IhUkPO6Vn7oG"
      },
      "source": [
        "6. Modificar el tamaño del plot por ancho = 20, alto= 10. Tip: Hay que utilizar plt.figure"
      ]
    },
    {
      "cell_type": "code",
      "execution_count": null,
      "metadata": {
        "id": "Y0ywbPv8wxFc"
      },
      "outputs": [],
      "source": [
        "#Completar"
      ]
    },
    {
      "cell_type": "markdown",
      "metadata": {
        "id": "wUOyKf6yxJBV"
      },
      "source": [
        "7. Cambiar el color por defecto que tiene el grafico por el color verde"
      ]
    },
    {
      "cell_type": "code",
      "execution_count": null,
      "metadata": {
        "id": "ZtwdiWcrxJsp"
      },
      "outputs": [],
      "source": [
        "#Completar"
      ]
    },
    {
      "cell_type": "markdown",
      "metadata": {
        "id": "hqtVfoFgxP43"
      },
      "source": [
        "8. Asignar un color en base a la variable \"sex\". Tip: Hay que utilizar el atributo - hue"
      ]
    },
    {
      "cell_type": "code",
      "execution_count": null,
      "metadata": {
        "id": "g_hJjeCuxYRo"
      },
      "outputs": [],
      "source": [
        "#Completar"
      ]
    },
    {
      "cell_type": "markdown",
      "metadata": {
        "id": "pQs5Q-7YxdP5"
      },
      "source": [
        "9. Asignar un forma diferente a cada point en base a los valores de la variable denominada \"smoker\". Tip: Hay que utilizar el atributo - style"
      ]
    },
    {
      "cell_type": "code",
      "execution_count": null,
      "metadata": {
        "id": "di7WTiW6xqXX"
      },
      "outputs": [],
      "source": [
        "#Completar"
      ]
    },
    {
      "cell_type": "markdown",
      "metadata": {
        "id": "AWW5VJQezQB5"
      },
      "source": [
        "10. Agregar a nuestro gráfico los siguientes labels:\n",
        "\n",
        "* Titulo: \"Importe del Tickets vs Propinas\"\n",
        "* Eje x: \"Importe del Tickets\"\n",
        "* Eje y: \"Propinas\"\n"
      ]
    },
    {
      "cell_type": "code",
      "execution_count": null,
      "metadata": {
        "id": "a-qgP7uM0BHH"
      },
      "outputs": [],
      "source": [
        "p={'Female':'blue','Male':'green'}\n",
        "\n",
        "#Completar"
      ]
    },
    {
      "cell_type": "markdown",
      "metadata": {
        "id": "L_mZtgvE95vJ"
      },
      "source": [
        "# Distplot\n",
        "\n",
        "1. Generar un histograma para la variable total_bill\n"
      ]
    },
    {
      "cell_type": "code",
      "execution_count": null,
      "metadata": {
        "id": "jr26nrTk9481"
      },
      "outputs": [],
      "source": [
        "#Completar"
      ]
    },
    {
      "cell_type": "markdown",
      "metadata": {
        "id": "yBu0zMpX_hCZ"
      },
      "source": [
        "2. Comparar en una misma gráfica las distribuciones de total_bill y tip\n",
        "\n"
      ]
    },
    {
      "cell_type": "code",
      "execution_count": null,
      "metadata": {
        "id": "yrvjhwi5-p72"
      },
      "outputs": [],
      "source": [
        "#Completar"
      ]
    },
    {
      "cell_type": "markdown",
      "metadata": {
        "id": "HLlj0enjKNMy"
      },
      "source": [
        "# Barplot\n",
        "\n",
        "1. Generar un barplot donde en el eje x se encuentre la variable day"
      ]
    },
    {
      "cell_type": "code",
      "execution_count": null,
      "metadata": {
        "id": "KRYEKUKCdN4p"
      },
      "outputs": [],
      "source": [
        "#Completar"
      ]
    },
    {
      "cell_type": "markdown",
      "metadata": {
        "id": "ya08l8sUOd_p"
      },
      "source": [
        "2. Modificar el gráfico anterior haciendo que el eje y ahora sea day."
      ]
    },
    {
      "cell_type": "code",
      "execution_count": null,
      "metadata": {
        "id": "-T2B2WQEOAVj"
      },
      "outputs": [],
      "source": [
        "#Completar"
      ]
    },
    {
      "cell_type": "markdown",
      "metadata": {
        "id": "fAHHDv4mRzVx"
      },
      "source": [
        "# Boxplot\n",
        "\n",
        "1. Generar un boxplot donde x = day e y = total_bill, asignar los colores siguientes:\n",
        "\n",
        "*   #008B8B\n",
        "*   #00FFFF"
      ]
    },
    {
      "cell_type": "code",
      "execution_count": null,
      "metadata": {
        "id": "rAJbzs4SP105"
      },
      "outputs": [],
      "source": [
        "#Completar"
      ]
    },
    {
      "cell_type": "markdown",
      "metadata": {
        "id": "yJ0AIlS4KcAX"
      },
      "source": [
        "3. Agregamos la variable \"sex\". Tip: Hay que utilizar - hue"
      ]
    },
    {
      "cell_type": "code",
      "execution_count": null,
      "metadata": {
        "id": "GCrL2kVpMIGX"
      },
      "outputs": [],
      "source": [
        "#Completar"
      ]
    },
    {
      "cell_type": "markdown",
      "metadata": {
        "id": "Z6WPyrHpOrPO"
      },
      "source": [
        "# Violin Plot\n",
        "\n",
        "Crear un violin plot donde x = day e y = total_bill, asignar los mismos colores utilizados en el boxplot."
      ]
    },
    {
      "cell_type": "code",
      "execution_count": null,
      "metadata": {
        "id": "6eILFRG3Oqna"
      },
      "outputs": [],
      "source": [
        "#Completar"
      ]
    },
    {
      "cell_type": "markdown",
      "metadata": {
        "id": "z01f8UE_LB4Z"
      },
      "source": [
        "En esta sección del workshop acudiremos a la librería **Plotly** para la creación de gráficos interactivos. \n",
        "\n",
        "1.Importar el paquete plotly.express"
      ]
    },
    {
      "cell_type": "code",
      "execution_count": null,
      "metadata": {
        "id": "JMJL-XNyU4nE"
      },
      "outputs": [],
      "source": [
        "#Completar"
      ]
    },
    {
      "cell_type": "markdown",
      "metadata": {
        "id": "LHqBf0zzH3zA"
      },
      "source": [
        "-----------------------------\n",
        "# Scatterplot con Plotly\n",
        "\n",
        "1. Generar un scatter plot donde el eje x es \"total_bill\" y el eje y es \"tip\""
      ]
    },
    {
      "cell_type": "code",
      "execution_count": null,
      "metadata": {
        "id": "Ke1-t0KkTb_k"
      },
      "outputs": [],
      "source": [
        "#Completar"
      ]
    },
    {
      "cell_type": "markdown",
      "metadata": {
        "id": "uu7aRXK2Gy5M"
      },
      "source": [
        "2. Asignar los colores en base a la variable \"day\""
      ]
    },
    {
      "cell_type": "code",
      "execution_count": null,
      "metadata": {
        "id": "f4eWnRfwWQLd"
      },
      "outputs": [],
      "source": [
        "#Completar"
      ]
    },
    {
      "cell_type": "markdown",
      "metadata": {
        "id": "eUpqEsECG6vX"
      },
      "source": [
        "3. Modificar el tamaño de los points en base a la variable \"size\""
      ]
    },
    {
      "cell_type": "code",
      "execution_count": null,
      "metadata": {
        "id": "m8-bVDfKWbQh"
      },
      "outputs": [],
      "source": [
        "#Completar"
      ]
    },
    {
      "cell_type": "markdown",
      "metadata": {
        "id": "zoE54rziHLE3"
      },
      "source": [
        "4. Generar un scatter plot en 3d donde la variable **\"x\"** es \"total_bill\", la variable **\"y\"** es \"tip\" y la variable **\"z\"** es \"size\""
      ]
    },
    {
      "cell_type": "code",
      "execution_count": null,
      "metadata": {
        "id": "_ff_E0BFT2Yi"
      },
      "outputs": [],
      "source": [
        "#Completar"
      ]
    },
    {
      "cell_type": "markdown",
      "metadata": {
        "id": "QYX5dylVHfjn"
      },
      "source": [
        "5. Modificar el grafico anterior y asignar un color en base a la variable \"day\"\n"
      ]
    },
    {
      "cell_type": "code",
      "execution_count": null,
      "metadata": {
        "id": "uJtU9nt4Ujeu"
      },
      "outputs": [],
      "source": [
        "#Completar"
      ]
    },
    {
      "cell_type": "markdown",
      "metadata": {
        "id": "vkLup1EhIV4z"
      },
      "source": [
        "# Violin Plot\n",
        "\n",
        "Generar un box plot donde el eje x es \"smoker\" y el eje y es \"total_bill\""
      ]
    },
    {
      "cell_type": "code",
      "execution_count": null,
      "metadata": {
        "id": "HRtgH3UIUjt0"
      },
      "outputs": [],
      "source": [
        "#Completar"
      ]
    },
    {
      "cell_type": "markdown",
      "metadata": {
        "id": "6z32k-gFIeRp"
      },
      "source": [
        "# Pie Plot\n",
        "\n",
        "1. Crear un pie plot en base a names=\"smoker\", values='total_bill'"
      ]
    },
    {
      "cell_type": "code",
      "execution_count": null,
      "metadata": {
        "id": "9BtdHiSvaHf-"
      },
      "outputs": [],
      "source": [
        "#Completar"
      ]
    },
    {
      "cell_type": "code",
      "execution_count": null,
      "metadata": {
        "id": "D6HePCafaW7g"
      },
      "outputs": [],
      "source": [
        "2. Crear un pie plot en base a names=\"day\", values='tip'"
      ]
    },
    {
      "cell_type": "code",
      "execution_count": null,
      "metadata": {
        "id": "bX_bml2qD4us"
      },
      "outputs": [],
      "source": [
        "#Completar"
      ]
    },
    {
      "cell_type": "markdown",
      "metadata": {
        "id": "LHy3o_LwHpAa"
      },
      "source": [
        "# Box\n",
        "\n",
        "Generar un box plot donde el eje x = day y el eje y = total_bill"
      ]
    },
    {
      "cell_type": "code",
      "execution_count": null,
      "metadata": {
        "id": "32V5IfdxUjmD"
      },
      "outputs": [],
      "source": [
        "#Completar"
      ]
    }
  ],
  "metadata": {
    "colab": {
      "collapsed_sections": [],
      "name": "Análisis Multivariado II - Alumnos (A Completar).ipynb",
      "provenance": []
    },
    "kernelspec": {
      "display_name": "Python 3.10.5 64-bit (windows store)",
      "language": "python",
      "name": "python3"
    },
    "language_info": {
      "codemirror_mode": {
        "name": "ipython",
        "version": 3
      },
      "file_extension": ".py",
      "mimetype": "text/x-python",
      "name": "python",
      "nbconvert_exporter": "python",
      "pygments_lexer": "ipython3",
      "version": "3.10.5"
    },
    "varInspector": {
      "cols": {
        "lenName": 16,
        "lenType": 16,
        "lenVar": 40
      },
      "kernels_config": {
        "python": {
          "delete_cmd_postfix": "",
          "delete_cmd_prefix": "del ",
          "library": "var_list.py",
          "varRefreshCmd": "print(var_dic_list())"
        },
        "r": {
          "delete_cmd_postfix": ") ",
          "delete_cmd_prefix": "rm(",
          "library": "var_list.r",
          "varRefreshCmd": "cat(var_dic_list()) "
        }
      },
      "types_to_exclude": [
        "module",
        "function",
        "builtin_function_or_method",
        "instance",
        "_Feature"
      ],
      "window_display": false
    },
    "vscode": {
      "interpreter": {
        "hash": "4d4abc840cab2ef2aab95291bba2f09698674d52434d85e6092cff4a36b63783"
      }
    }
  },
  "nbformat": 4,
  "nbformat_minor": 0
}
