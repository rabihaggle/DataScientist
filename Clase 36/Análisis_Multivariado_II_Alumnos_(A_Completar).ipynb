{
  "cells": [
    {
      "cell_type": "markdown",
      "metadata": {
        "id": "Nw6dacOWc4sT"
      },
      "source": [
        "\n",
        "## Workshop Python "
      ]
    },
    {
      "cell_type": "markdown",
      "metadata": {
        "id": "gB4pA5ZAdOMK"
      },
      "source": [
        "En esta primera intervención del workshop vamos a trabajar con los siguientes paquetes:\n",
        "\n",
        "* Pandas.\n",
        "* Seaborn.\n",
        "* Matplotlib"
      ]
    },
    {
      "cell_type": "code",
      "execution_count": 1,
      "metadata": {
        "id": "_uBK2kfSvUJC"
      },
      "outputs": [],
      "source": [
        "#Importamos los paquetes\n",
        "import pandas as pd\n",
        "import seaborn as sns\n",
        "import matplotlib.pyplot as plt"
      ]
    },
    {
      "cell_type": "markdown",
      "metadata": {
        "id": "vm2Aj8KhvbgJ"
      },
      "source": [
        "El **dataset** que vamos a utilizar se denomina **\"tips\"** y contiene los datos que un camarero registró sobre cada propina que recibió durante un período de unos meses trabajando en un restaurante. Podemos encontrar el link al dataset en un repositorio público en GitHub.\n",
        "\n",
        "Link: 'https://raw.githubusercontent.com/mwaskom/seaborn-data/master/tips.csv'"
      ]
    },
    {
      "cell_type": "markdown",
      "metadata": {
        "id": "Lbp6e4CbD4ua"
      },
      "source": [
        "1. Para este primer paso, procederemos a realizar la importación del archivo:"
      ]
    },
    {
      "cell_type": "code",
      "execution_count": 2,
      "metadata": {
        "id": "5s-TyYJED4ub"
      },
      "outputs": [],
      "source": [
        "df=pd.read_csv('https://raw.githubusercontent.com/mwaskom/seaborn-data/master/tips.csv')"
      ]
    },
    {
      "cell_type": "markdown",
      "metadata": {
        "id": "jW6nCVrnjbu_"
      },
      "source": [
        "2. Visualizar las primeras filas del dataframe"
      ]
    },
    {
      "cell_type": "code",
      "execution_count": 3,
      "metadata": {
        "id": "mK3ynBfJjjyq"
      },
      "outputs": [
        {
          "data": {
            "text/html": [
              "<div>\n",
              "<style scoped>\n",
              "    .dataframe tbody tr th:only-of-type {\n",
              "        vertical-align: middle;\n",
              "    }\n",
              "\n",
              "    .dataframe tbody tr th {\n",
              "        vertical-align: top;\n",
              "    }\n",
              "\n",
              "    .dataframe thead th {\n",
              "        text-align: right;\n",
              "    }\n",
              "</style>\n",
              "<table border=\"1\" class=\"dataframe\">\n",
              "  <thead>\n",
              "    <tr style=\"text-align: right;\">\n",
              "      <th></th>\n",
              "      <th>total_bill</th>\n",
              "      <th>tip</th>\n",
              "      <th>sex</th>\n",
              "      <th>smoker</th>\n",
              "      <th>day</th>\n",
              "      <th>time</th>\n",
              "      <th>size</th>\n",
              "    </tr>\n",
              "  </thead>\n",
              "  <tbody>\n",
              "    <tr>\n",
              "      <th>0</th>\n",
              "      <td>16.99</td>\n",
              "      <td>1.01</td>\n",
              "      <td>Female</td>\n",
              "      <td>No</td>\n",
              "      <td>Sun</td>\n",
              "      <td>Dinner</td>\n",
              "      <td>2</td>\n",
              "    </tr>\n",
              "    <tr>\n",
              "      <th>1</th>\n",
              "      <td>10.34</td>\n",
              "      <td>1.66</td>\n",
              "      <td>Male</td>\n",
              "      <td>No</td>\n",
              "      <td>Sun</td>\n",
              "      <td>Dinner</td>\n",
              "      <td>3</td>\n",
              "    </tr>\n",
              "    <tr>\n",
              "      <th>2</th>\n",
              "      <td>21.01</td>\n",
              "      <td>3.50</td>\n",
              "      <td>Male</td>\n",
              "      <td>No</td>\n",
              "      <td>Sun</td>\n",
              "      <td>Dinner</td>\n",
              "      <td>3</td>\n",
              "    </tr>\n",
              "    <tr>\n",
              "      <th>3</th>\n",
              "      <td>23.68</td>\n",
              "      <td>3.31</td>\n",
              "      <td>Male</td>\n",
              "      <td>No</td>\n",
              "      <td>Sun</td>\n",
              "      <td>Dinner</td>\n",
              "      <td>2</td>\n",
              "    </tr>\n",
              "    <tr>\n",
              "      <th>4</th>\n",
              "      <td>24.59</td>\n",
              "      <td>3.61</td>\n",
              "      <td>Female</td>\n",
              "      <td>No</td>\n",
              "      <td>Sun</td>\n",
              "      <td>Dinner</td>\n",
              "      <td>4</td>\n",
              "    </tr>\n",
              "  </tbody>\n",
              "</table>\n",
              "</div>"
            ],
            "text/plain": [
              "   total_bill   tip     sex smoker  day    time  size\n",
              "0       16.99  1.01  Female     No  Sun  Dinner     2\n",
              "1       10.34  1.66    Male     No  Sun  Dinner     3\n",
              "2       21.01  3.50    Male     No  Sun  Dinner     3\n",
              "3       23.68  3.31    Male     No  Sun  Dinner     2\n",
              "4       24.59  3.61  Female     No  Sun  Dinner     4"
            ]
          },
          "execution_count": 3,
          "metadata": {},
          "output_type": "execute_result"
        }
      ],
      "source": [
        "#Completar\n",
        "df.head()"
      ]
    },
    {
      "cell_type": "markdown",
      "metadata": {
        "id": "2DVgvCG6vf-9"
      },
      "source": [
        "3. Generar las estadisticas descriptivas del df a través del uso de la función describe()."
      ]
    },
    {
      "cell_type": "code",
      "execution_count": 4,
      "metadata": {
        "id": "rFzOfJN2vi7v"
      },
      "outputs": [
        {
          "data": {
            "text/html": [
              "<div>\n",
              "<style scoped>\n",
              "    .dataframe tbody tr th:only-of-type {\n",
              "        vertical-align: middle;\n",
              "    }\n",
              "\n",
              "    .dataframe tbody tr th {\n",
              "        vertical-align: top;\n",
              "    }\n",
              "\n",
              "    .dataframe thead th {\n",
              "        text-align: right;\n",
              "    }\n",
              "</style>\n",
              "<table border=\"1\" class=\"dataframe\">\n",
              "  <thead>\n",
              "    <tr style=\"text-align: right;\">\n",
              "      <th></th>\n",
              "      <th>total_bill</th>\n",
              "      <th>tip</th>\n",
              "      <th>size</th>\n",
              "    </tr>\n",
              "  </thead>\n",
              "  <tbody>\n",
              "    <tr>\n",
              "      <th>count</th>\n",
              "      <td>244.000000</td>\n",
              "      <td>244.000000</td>\n",
              "      <td>244.000000</td>\n",
              "    </tr>\n",
              "    <tr>\n",
              "      <th>mean</th>\n",
              "      <td>19.785943</td>\n",
              "      <td>2.998279</td>\n",
              "      <td>2.569672</td>\n",
              "    </tr>\n",
              "    <tr>\n",
              "      <th>std</th>\n",
              "      <td>8.902412</td>\n",
              "      <td>1.383638</td>\n",
              "      <td>0.951100</td>\n",
              "    </tr>\n",
              "    <tr>\n",
              "      <th>min</th>\n",
              "      <td>3.070000</td>\n",
              "      <td>1.000000</td>\n",
              "      <td>1.000000</td>\n",
              "    </tr>\n",
              "    <tr>\n",
              "      <th>25%</th>\n",
              "      <td>13.347500</td>\n",
              "      <td>2.000000</td>\n",
              "      <td>2.000000</td>\n",
              "    </tr>\n",
              "    <tr>\n",
              "      <th>50%</th>\n",
              "      <td>17.795000</td>\n",
              "      <td>2.900000</td>\n",
              "      <td>2.000000</td>\n",
              "    </tr>\n",
              "    <tr>\n",
              "      <th>75%</th>\n",
              "      <td>24.127500</td>\n",
              "      <td>3.562500</td>\n",
              "      <td>3.000000</td>\n",
              "    </tr>\n",
              "    <tr>\n",
              "      <th>max</th>\n",
              "      <td>50.810000</td>\n",
              "      <td>10.000000</td>\n",
              "      <td>6.000000</td>\n",
              "    </tr>\n",
              "  </tbody>\n",
              "</table>\n",
              "</div>"
            ],
            "text/plain": [
              "       total_bill         tip        size\n",
              "count  244.000000  244.000000  244.000000\n",
              "mean    19.785943    2.998279    2.569672\n",
              "std      8.902412    1.383638    0.951100\n",
              "min      3.070000    1.000000    1.000000\n",
              "25%     13.347500    2.000000    2.000000\n",
              "50%     17.795000    2.900000    2.000000\n",
              "75%     24.127500    3.562500    3.000000\n",
              "max     50.810000   10.000000    6.000000"
            ]
          },
          "execution_count": 4,
          "metadata": {},
          "output_type": "execute_result"
        }
      ],
      "source": [
        "#Completar\n",
        "df.describe()"
      ]
    },
    {
      "cell_type": "markdown",
      "metadata": {
        "id": "m3PpwcPyKu4E"
      },
      "source": [
        "4. Imprimir por pantalla el shape del df"
      ]
    },
    {
      "cell_type": "code",
      "execution_count": 6,
      "metadata": {
        "id": "sVx-uBBoK4oP"
      },
      "outputs": [
        {
          "data": {
            "text/plain": [
              "(244, 7)"
            ]
          },
          "execution_count": 6,
          "metadata": {},
          "output_type": "execute_result"
        }
      ],
      "source": [
        "#Completar\n",
        "df.shape"
      ]
    },
    {
      "cell_type": "markdown",
      "metadata": {
        "id": "ikK1xAmEv9xu"
      },
      "source": [
        "# Scatter plot\n",
        "-------------\n",
        "5. Crear un scatterplot entre x='total_bill' - y='tip' a través del uso de la Librería Seaborn\n"
      ]
    },
    {
      "cell_type": "code",
      "execution_count": 7,
      "metadata": {
        "id": "z-AYUDI1v289"
      },
      "outputs": [
        {
          "data": {
            "text/plain": [
              "<AxesSubplot:xlabel='total_bill', ylabel='tip'>"
            ]
          },
          "execution_count": 7,
          "metadata": {},
          "output_type": "execute_result"
        },
        {
          "data": {
            "image/png": "[encoded data removed]",
            "text/plain": [
              "<Figure size 432x288 with 1 Axes>"
            ]
          },
          "metadata": {
            "needs_background": "light"
          },
          "output_type": "display_data"
        }
      ],
      "source": [
        "#Completar\n",
        "sns.scatterplot(x='total_bill',y='tip',data=df)"
      ]
    },
    {
      "cell_type": "markdown",
      "metadata": {
        "id": "IhUkPO6Vn7oG"
      },
      "source": [
        "6. Modificar el tamaño del plot por ancho = 20, alto= 10. Tip: Hay que utilizar plt.figure"
      ]
    },
    {
      "cell_type": "code",
      "execution_count": 13,
      "metadata": {
        "id": "Y0ywbPv8wxFc"
      },
      "outputs": [
        {
          "data": {
            "text/plain": [
              "<AxesSubplot:xlabel='total_bill', ylabel='tip'>"
            ]
          },
          "execution_count": 13,
          "metadata": {},
          "output_type": "execute_result"
        },
        {
          "data": {
            "image/png": "[encoded data removed]",
            "text/plain": [
              "<Figure size 1440x720 with 1 Axes>"
            ]
          },
          "metadata": {
            "needs_background": "light"
          },
          "output_type": "display_data"
        }
      ],
      "source": [
        "#Completar\n",
        "plt.figure(figsize=(20,10))\n",
        "sns.scatterplot(x='total_bill',y='tip',data=df)"
      ]
    },
    {
      "cell_type": "markdown",
      "metadata": {
        "id": "wUOyKf6yxJBV"
      },
      "source": [
        "7. Cambiar el color por defecto que tiene el grafico por el color verde"
      ]
    },
    {
      "cell_type": "code",
      "execution_count": 15,
      "metadata": {
        "id": "ZtwdiWcrxJsp"
      },
      "outputs": [
        {
          "data": {
            "text/plain": [
              "<AxesSubplot:xlabel='total_bill', ylabel='tip'>"
            ]
          },
          "execution_count": 15,
          "metadata": {},
          "output_type": "execute_result"
        },
        {
          "data": {
            "image/png": "[encoded data removed]",
            "text/plain": [
              "<Figure size 1440x720 with 1 Axes>"
            ]
          },
          "metadata": {
            "needs_background": "light"
          },
          "output_type": "display_data"
        }
      ],
      "source": [
        "#Completar\n",
        "plt.figure(figsize=(20,10))\n",
        "sns.scatterplot(x='total_bill',y='tip',data=df, color='green')\n"
      ]
    },
    {
      "cell_type": "markdown",
      "metadata": {
        "id": "hqtVfoFgxP43"
      },
      "source": [
        "8. Asignar un color en base a la variable \"sex\". Tip: Hay que utilizar el atributo - hue"
      ]
    },
    {
      "cell_type": "code",
      "execution_count": 20,
      "metadata": {
        "id": "g_hJjeCuxYRo"
      },
      "outputs": [
        {
          "data": {
            "text/plain": [
              "<AxesSubplot:xlabel='total_bill', ylabel='tip'>"
            ]
          },
          "execution_count": 20,
          "metadata": {},
          "output_type": "execute_result"
        },
        {
          "data": {
            "image/png": "[encoded data removed]",
            "text/plain": [
              "<Figure size 1440x720 with 1 Axes>"
            ]
          },
          "metadata": {
            "needs_background": "light"
          },
          "output_type": "display_data"
        }
      ],
      "source": [
        "#Completar\n",
        "plt.figure(figsize=(20,10))\n",
        "sns.scatterplot(x='total_bill',y='tip',data=df,hue='sex')"
      ]
    },
    {
      "cell_type": "markdown",
      "metadata": {
        "id": "pQs5Q-7YxdP5"
      },
      "source": [
        "9. Asignar un forma diferente a cada point en base a los valores de la variable denominada \"smoker\". Tip: Hay que utilizar el atributo - style"
      ]
    },
    {
      "cell_type": "code",
      "execution_count": 21,
      "metadata": {
        "id": "di7WTiW6xqXX"
      },
      "outputs": [
        {
          "data": {
            "text/plain": [
              "<AxesSubplot:xlabel='total_bill', ylabel='tip'>"
            ]
          },
          "execution_count": 21,
          "metadata": {},
          "output_type": "execute_result"
        },
        {
          "data": {
            "image/png": "[encoded data removed]",
            "text/plain": [
              "<Figure size 1440x720 with 1 Axes>"
            ]
          },
          "metadata": {
            "needs_background": "light"
          },
          "output_type": "display_data"
        }
      ],
      "source": [
        "\n",
        "#Completar\n",
        "plt.figure(figsize=(20,10))\n",
        "sns.scatterplot(x='total_bill',y='tip',data=df,hue='sex', style='smoker')"
      ]
    },
    {
      "cell_type": "markdown",
      "metadata": {
        "id": "AWW5VJQezQB5"
      },
      "source": [
        "10. Agregar a nuestro gráfico los siguientes labels:\n",
        "\n",
        "* Titulo: \"Importe del Tickets vs Propinas\"\n",
        "* Eje x: \"Importe del Tickets\"\n",
        "* Eje y: \"Propinas\"\n"
      ]
    },
    {
      "cell_type": "code",
      "execution_count": 28,
      "metadata": {
        "id": "a-qgP7uM0BHH"
      },
      "outputs": [
        {
          "data": {
            "text/plain": [
              "<AxesSubplot:title={'center':'Importe ticket vs propinas'}, xlabel='Importe ticket', ylabel='Propinas'>"
            ]
          },
          "execution_count": 28,
          "metadata": {},
          "output_type": "execute_result"
        },
        {
          "data": {
            "image/png": "[encoded data removed]",
            "text/plain": [
              "<Figure size 1440x720 with 1 Axes>"
            ]
          },
          "metadata": {
            "needs_background": "light"
          },
          "output_type": "display_data"
        }
      ],
      "source": [
        "#Completar\n",
        "\n",
        "p={'Female':'blue','Male':'green'}\n",
        "plt.figure(figsize=(20,10))\n",
        "plt.xlabel(\"Importe ticket\")\n",
        "plt.ylabel(\"Propinas\")\n",
        "plt.title(\"Importe ticket vs propinas\")\n",
        "\n",
        "sns.scatterplot(x='total_bill',y='tip',data=df,hue='sex', style='smoker',palette=p)\n",
        "\n"
      ]
    },
    {
      "cell_type": "markdown",
      "metadata": {
        "id": "L_mZtgvE95vJ"
      },
      "source": [
        "# Distplot\n",
        "\n",
        "1. Generar un histograma para la variable total_bill\n"
      ]
    },
    {
      "cell_type": "code",
      "execution_count": 29,
      "metadata": {
        "id": "jr26nrTk9481"
      },
      "outputs": [
        {
          "data": {
            "text/plain": [
              "<seaborn.axisgrid.FacetGrid at 0x22f6dcc61d0>"
            ]
          },
          "execution_count": 29,
          "metadata": {},
          "output_type": "execute_result"
        },
        {
          "data": {
            "image/png": "[encoded data removed]",
            "text/plain": [
              "<Figure size 360x360 with 1 Axes>"
            ]
          },
          "metadata": {
            "needs_background": "light"
          },
          "output_type": "display_data"
        }
      ],
      "source": [
        "#Completar\n",
        "sns.displot(x= 'total_bill',data=df)"
      ]
    },
    {
      "cell_type": "markdown",
      "metadata": {
        "id": "yBu0zMpX_hCZ"
      },
      "source": [
        "2. Comparar en una misma gráfica las distribuciones de total_bill y tip\n",
        "\n"
      ]
    },
    {
      "cell_type": "code",
      "execution_count": 47,
      "metadata": {
        "id": "yrvjhwi5-p72"
      },
      "outputs": [
        {
          "name": "stderr",
          "output_type": "stream",
          "text": [
            "C:\\Users\\Nicolas\\AppData\\Local\\Packages\\PythonSoftwareFoundation.Python.3.10_qbz5n2kfra8p0\\LocalCache\\local-packages\\Python310\\site-packages\\seaborn\\distributions.py:2619: FutureWarning: `distplot` is a deprecated function and will be removed in a future version. Please adapt your code to use either `displot` (a figure-level function with similar flexibility) or `histplot` (an axes-level function for histograms).\n",
            "  warnings.warn(msg, FutureWarning)\n",
            "C:\\Users\\Nicolas\\AppData\\Local\\Packages\\PythonSoftwareFoundation.Python.3.10_qbz5n2kfra8p0\\LocalCache\\local-packages\\Python310\\site-packages\\seaborn\\distributions.py:2619: FutureWarning: `distplot` is a deprecated function and will be removed in a future version. Please adapt your code to use either `displot` (a figure-level function with similar flexibility) or `histplot` (an axes-level function for histograms).\n",
            "  warnings.warn(msg, FutureWarning)\n"
          ]
        },
        {
          "data": {
            "image/png": "[encoded data removed]",
            "text/plain": [
              "<Figure size 1440x360 with 1 Axes>"
            ]
          },
          "metadata": {
            "needs_background": "light"
          },
          "output_type": "display_data"
        }
      ],
      "source": [
        "#Completar\n",
        "fig = plt.figure(figsize=(20,5))\n",
        "\n",
        "sns.distplot(df.total_bill, kde=True, hist=True, bins=15, label='Total bill')\n",
        "sns.distplot(df.tip, kde=True, hist=True, bins=15, label='Tips')\n",
        "\n",
        "fig.legend()\n",
        "plt.xlabel('Valor')\n",
        "plt.ylabel('Frecuencia')\n",
        "plt.title('Distribución de total_bill')\n",
        "\n",
        "plt.show()\n",
        "\n",
        "\n",
        "#sns.distplot(df.total_bill, kde=True, hist=True, bins=15, label='Total bill')\n",
        "#sns.distplot(df.tip, kde=True, hist=True, bins=15, label='Tips')\n",
        "#plt.legend()\n"
      ]
    },
    {
      "cell_type": "markdown",
      "metadata": {
        "id": "HLlj0enjKNMy"
      },
      "source": [
        "# Barplot\n",
        "\n",
        "1. Generar un barplot donde en el eje x se encuentre la variable day"
      ]
    },
    {
      "cell_type": "code",
      "execution_count": 57,
      "metadata": {
        "id": "KRYEKUKCdN4p"
      },
      "outputs": [
        {
          "data": {
            "text/plain": [
              "<AxesSubplot:xlabel='day', ylabel='count'>"
            ]
          },
          "execution_count": 57,
          "metadata": {},
          "output_type": "execute_result"
        },
        {
          "data": {
            "image/png": "[encoded data removed]",
            "text/plain": [
              "<Figure size 432x288 with 1 Axes>"
            ]
          },
          "metadata": {
            "needs_background": "light"
          },
          "output_type": "display_data"
        }
      ],
      "source": [
        "#Completar\n",
        "sns.countplot(x='day',data=df)\n"
      ]
    },
    {
      "cell_type": "code",
      "execution_count": 59,
      "metadata": {
        "id": "-T2B2WQEOAVj"
      },
      "outputs": [
        {
          "data": {
            "text/plain": [
              "<AxesSubplot:xlabel='count', ylabel='day'>"
            ]
          },
          "execution_count": 59,
          "metadata": {},
          "output_type": "execute_result"
        },
        {
          "data": {
            "image/png": "[encoded data removed]",
            "text/plain": [
              "<Figure size 432x288 with 1 Axes>"
            ]
          },
          "metadata": {
            "needs_background": "light"
          },
          "output_type": "display_data"
        }
      ],
      "source": [
        "#Completar\n",
        "sns.countplot(y='day',data=df)"
      ]
    },
    {
      "cell_type": "markdown",
      "metadata": {
        "id": "fAHHDv4mRzVx"
      },
      "source": [
        "# Boxplot\n",
        "\n",
        "1. Generar un boxplot donde x = day e y = total_bill, asignar los colores siguientes:\n",
        "\n",
        "*   #008B8B\n",
        "*   #00FFFF"
      ]
    },
    {
      "cell_type": "code",
      "execution_count": 66,
      "metadata": {
        "id": "rAJbzs4SP105"
      },
      "outputs": [
        {
          "data": {
            "text/plain": [
              "<AxesSubplot:xlabel='day', ylabel='total_bill'>"
            ]
          },
          "execution_count": 66,
          "metadata": {},
          "output_type": "execute_result"
        },
        {
          "data": {
            "image/png": "[encoded data removed]",
            "text/plain": [
              "<Figure size 432x288 with 1 Axes>"
            ]
          },
          "metadata": {
            "needs_background": "light"
          },
          "output_type": "display_data"
        }
      ],
      "source": [
        "#Completar\n",
        "p = ['#008B8B','#00FFFF']\n",
        "sns.boxplot(x='day', y='total_bill', data=df,palette=p)"
      ]
    },
    {
      "cell_type": "markdown",
      "metadata": {
        "id": "yJ0AIlS4KcAX"
      },
      "source": [
        "3. Agregamos la variable \"sex\". Tip: Hay que utilizar - hue"
      ]
    },
    {
      "cell_type": "code",
      "execution_count": 67,
      "metadata": {
        "id": "GCrL2kVpMIGX"
      },
      "outputs": [
        {
          "data": {
            "text/plain": [
              "<AxesSubplot:xlabel='day', ylabel='total_bill'>"
            ]
          },
          "execution_count": 67,
          "metadata": {},
          "output_type": "execute_result"
        },
        {
          "data": {
            "image/png": "[encoded data removed]",
            "text/plain": [
              "<Figure size 432x288 with 1 Axes>"
            ]
          },
          "metadata": {
            "needs_background": "light"
          },
          "output_type": "display_data"
        }
      ],
      "source": [
        "#Completar\n",
        "p = ['#008B8B','#00FFFF']\n",
        "sns.boxplot(x='day', y='total_bill', data=df,palette=p,hue='sex')"
      ]
    },
    {
      "cell_type": "markdown",
      "metadata": {
        "id": "Z6WPyrHpOrPO"
      },
      "source": [
        "# Violin Plot\n",
        "\n",
        "Crear un violin plot donde x = day e y = total_bill, asignar los mismos colores utilizados en el boxplot."
      ]
    },
    {
      "cell_type": "code",
      "execution_count": 69,
      "metadata": {
        "id": "6eILFRG3Oqna"
      },
      "outputs": [
        {
          "data": {
            "text/plain": [
              "<AxesSubplot:xlabel='day', ylabel='total_bill'>"
            ]
          },
          "execution_count": 69,
          "metadata": {},
          "output_type": "execute_result"
        },
        {
          "data": {
            "image/png": "[encoded data removed]",
            "text/plain": [
              "<Figure size 432x288 with 1 Axes>"
            ]
          },
          "metadata": {
            "needs_background": "light"
          },
          "output_type": "display_data"
        }
      ],
      "source": [
        "#Completar\n",
        "p = ['#008B8B','#00FFFF']\n",
        "sns.violinplot(x='day', y='total_bill', data=df,palette=p,hue='sex')"
      ]
    },
    {
      "cell_type": "markdown",
      "metadata": {
        "id": "z01f8UE_LB4Z"
      },
      "source": [
        "En esta sección del workshop acudiremos a la librería **Plotly** para la creación de gráficos interactivos. \n",
        "\n",
        "1.Importar el paquete plotly.express"
      ]
    },
    {
      "cell_type": "code",
      "execution_count": 70,
      "metadata": {
        "id": "JMJL-XNyU4nE"
      },
      "outputs": [],
      "source": [
        "#Completar\n",
        "import plotly.express as px"
      ]
    },
    {
      "cell_type": "markdown",
      "metadata": {
        "id": "LHqBf0zzH3zA"
      },
      "source": [
        "-----------------------------\n",
        "# Scatterplot con Plotly\n",
        "\n",
        "1. Generar un scatter plot donde el eje x es \"total_bill\" y el eje y es \"tip\""
      ]
    },
    {
      "cell_type": "code",
      "execution_count": 71,
      "metadata": {
        "id": "Ke1-t0KkTb_k"
      },
      "outputs": [
        {
          "data": {
            "application/vnd.plotly.v1+json": {
              "config": {
                "plotlyServerURL": "https://plot.ly"
              },
              "data": [
                {
                  "hovertemplate": "total_bill=%{x}<br>tip=%{y}<extra></extra>",
                  "legendgroup": "",
                  "marker": {
                    "color": "#636efa",
                    "symbol": "circle"
                  },
                  "mode": "markers",
                  "name": "",
                  "orientation": "v",
                  "showlegend": false,
                  "type": "scatter",
                  "x": [
                    16.99,
                    10.34,
                    21.01,
                    23.68,
                    24.59,
                    25.29,
                    8.77,
                    26.88,
                    15.04,
                    14.78,
                    10.27,
                    35.26,
                    15.42,
                    18.43,
                    14.83,
                    21.58,
                    10.33,
                    16.29,
                    16.97,
                    20.65,
                    17.92,
                    20.29,
                    15.77,
                    39.42,
                    19.82,
                    17.81,
                    13.37,
                    12.69,
                    21.7,
                    19.65,
                    9.55,
                    18.35,
                    15.06,
                    20.69,
                    17.78,
                    24.06,
                    16.31,
                    16.93,
                    18.69,
                    31.27,
                    16.04,
                    17.46,
                    13.94,
                    9.68,
                    30.4,
                    18.29,
                    22.23,
                    32.4,
                    28.55,
                    18.04,
                    12.54,
                    10.29,
                    34.81,
                    9.94,
                    25.56,
                    19.49,
                    38.01,
                    26.41,
                    11.24,
                    48.27,
                    20.29,
                    13.81,
                    11.02,
                    18.29,
                    17.59,
                    20.08,
                    16.45,
                    3.07,
                    20.23,
                    15.01,
                    12.02,
                    17.07,
                    26.86,
                    25.28,
                    14.73,
                    10.51,
                    17.92,
                    27.2,
                    22.76,
                    17.29,
                    19.44,
                    16.66,
                    10.07,
                    32.68,
                    15.98,
                    34.83,
                    13.03,
                    18.28,
                    24.71,
                    21.16,
                    28.97,
                    22.49,
                    5.75,
                    16.32,
                    22.75,
                    40.17,
                    27.28,
                    12.03,
                    21.01,
                    12.46,
                    11.35,
                    15.38,
                    44.3,
                    22.42,
                    20.92,
                    15.36,
                    20.49,
                    25.21,
                    18.24,
                    14.31,
                    14,
                    7.25,
                    38.07,
                    23.95,
                    25.71,
                    17.31,
                    29.93,
                    10.65,
                    12.43,
                    24.08,
                    11.69,
                    13.42,
                    14.26,
                    15.95,
                    12.48,
                    29.8,
                    8.52,
                    14.52,
                    11.38,
                    22.82,
                    19.08,
                    20.27,
                    11.17,
                    12.26,
                    18.26,
                    8.51,
                    10.33,
                    14.15,
                    16,
                    13.16,
                    17.47,
                    34.3,
                    41.19,
                    27.05,
                    16.43,
                    8.35,
                    18.64,
                    11.87,
                    9.78,
                    7.51,
                    14.07,
                    13.13,
                    17.26,
                    24.55,
                    19.77,
                    29.85,
                    48.17,
                    25,
                    13.39,
                    16.49,
                    21.5,
                    12.66,
                    16.21,
                    13.81,
                    17.51,
                    24.52,
                    20.76,
                    31.71,
                    10.59,
                    10.63,
                    50.81,
                    15.81,
                    7.25,
                    31.85,
                    16.82,
                    32.9,
                    17.89,
                    14.48,
                    9.6,
                    34.63,
                    34.65,
                    23.33,
                    45.35,
                    23.17,
                    40.55,
                    20.69,
                    20.9,
                    30.46,
                    18.15,
                    23.1,
                    15.69,
                    19.81,
                    28.44,
                    15.48,
                    16.58,
                    7.56,
                    10.34,
                    43.11,
                    13,
                    13.51,
                    18.71,
                    12.74,
                    13,
                    16.4,
                    20.53,
                    16.47,
                    26.59,
                    38.73,
                    24.27,
                    12.76,
                    30.06,
                    25.89,
                    48.33,
                    13.27,
                    28.17,
                    12.9,
                    28.15,
                    11.59,
                    7.74,
                    30.14,
                    12.16,
                    13.42,
                    8.58,
                    15.98,
                    13.42,
                    16.27,
                    10.09,
                    20.45,
                    13.28,
                    22.12,
                    24.01,
                    15.69,
                    11.61,
                    10.77,
                    15.53,
                    10.07,
                    12.6,
                    32.83,
                    35.83,
                    29.03,
                    27.18,
                    22.67,
                    17.82,
                    18.78
                  ],
                  "xaxis": "x",
                  "y": [
                    1.01,
                    1.66,
                    3.5,
                    3.31,
                    3.61,
                    4.71,
                    2,
                    3.12,
                    1.96,
                    3.23,
                    1.71,
                    5,
                    1.57,
                    3,
                    3.02,
                    3.92,
                    1.67,
                    3.71,
                    3.5,
                    3.35,
                    4.08,
                    2.75,
                    2.23,
                    7.58,
                    3.18,
                    2.34,
                    2,
                    2,
                    4.3,
                    3,
                    1.45,
                    2.5,
                    3,
                    2.45,
                    3.27,
                    3.6,
                    2,
                    3.07,
                    2.31,
                    5,
                    2.24,
                    2.54,
                    3.06,
                    1.32,
                    5.6,
                    3,
                    5,
                    6,
                    2.05,
                    3,
                    2.5,
                    2.6,
                    5.2,
                    1.56,
                    4.34,
                    3.51,
                    3,
                    1.5,
                    1.76,
                    6.73,
                    3.21,
                    2,
                    1.98,
                    3.76,
                    2.64,
                    3.15,
                    2.47,
                    1,
                    2.01,
                    2.09,
                    1.97,
                    3,
                    3.14,
                    5,
                    2.2,
                    1.25,
                    3.08,
                    4,
                    3,
                    2.71,
                    3,
                    3.4,
                    1.83,
                    5,
                    2.03,
                    5.17,
                    2,
                    4,
                    5.85,
                    3,
                    3,
                    3.5,
                    1,
                    4.3,
                    3.25,
                    4.73,
                    4,
                    1.5,
                    3,
                    1.5,
                    2.5,
                    3,
                    2.5,
                    3.48,
                    4.08,
                    1.64,
                    4.06,
                    4.29,
                    3.76,
                    4,
                    3,
                    1,
                    4,
                    2.55,
                    4,
                    3.5,
                    5.07,
                    1.5,
                    1.8,
                    2.92,
                    2.31,
                    1.68,
                    2.5,
                    2,
                    2.52,
                    4.2,
                    1.48,
                    2,
                    2,
                    2.18,
                    1.5,
                    2.83,
                    1.5,
                    2,
                    3.25,
                    1.25,
                    2,
                    2,
                    2,
                    2.75,
                    3.5,
                    6.7,
                    5,
                    5,
                    2.3,
                    1.5,
                    1.36,
                    1.63,
                    1.73,
                    2,
                    2.5,
                    2,
                    2.74,
                    2,
                    2,
                    5.14,
                    5,
                    3.75,
                    2.61,
                    2,
                    3.5,
                    2.5,
                    2,
                    2,
                    3,
                    3.48,
                    2.24,
                    4.5,
                    1.61,
                    2,
                    10,
                    3.16,
                    5.15,
                    3.18,
                    4,
                    3.11,
                    2,
                    2,
                    4,
                    3.55,
                    3.68,
                    5.65,
                    3.5,
                    6.5,
                    3,
                    5,
                    3.5,
                    2,
                    3.5,
                    4,
                    1.5,
                    4.19,
                    2.56,
                    2.02,
                    4,
                    1.44,
                    2,
                    5,
                    2,
                    2,
                    4,
                    2.01,
                    2,
                    2.5,
                    4,
                    3.23,
                    3.41,
                    3,
                    2.03,
                    2.23,
                    2,
                    5.16,
                    9,
                    2.5,
                    6.5,
                    1.1,
                    3,
                    1.5,
                    1.44,
                    3.09,
                    2.2,
                    3.48,
                    1.92,
                    3,
                    1.58,
                    2.5,
                    2,
                    3,
                    2.72,
                    2.88,
                    2,
                    3,
                    3.39,
                    1.47,
                    3,
                    1.25,
                    1,
                    1.17,
                    4.67,
                    5.92,
                    2,
                    2,
                    1.75,
                    3
                  ],
                  "yaxis": "y"
                }
              ],
              "layout": {
                "legend": {
                  "tracegroupgap": 0
                },
                "margin": {
                  "t": 60
                },
                "template": {
                  "data": {
                    "bar": [
                      {
                        "error_x": {
                          "color": "#2a3f5f"
                        },
                        "error_y": {
                          "color": "#2a3f5f"
                        },
                        "marker": {
                          "line": {
                            "color": "#E5ECF6",
                            "width": 0.5
                          },
                          "pattern": {
                            "fillmode": "overlay",
                            "size": 10,
                            "solidity": 0.2
                          }
                        },
                        "type": "bar"
                      }
                    ],
                    "barpolar": [
                      {
                        "marker": {
                          "line": {
                            "color": "#E5ECF6",
                            "width": 0.5
                          },
                          "pattern": {
                            "fillmode": "overlay",
                            "size": 10,
                            "solidity": 0.2
                          }
                        },
                        "type": "barpolar"
                      }
                    ],
                    "carpet": [
                      {
                        "aaxis": {
                          "endlinecolor": "#2a3f5f",
                          "gridcolor": "white",
                          "linecolor": "white",
                          "minorgridcolor": "white",
                          "startlinecolor": "#2a3f5f"
                        },
                        "baxis": {
                          "endlinecolor": "#2a3f5f",
                          "gridcolor": "white",
                          "linecolor": "white",
                          "minorgridcolor": "white",
                          "startlinecolor": "#2a3f5f"
                        },
                        "type": "carpet"
                      }
                    ],
                    "choropleth": [
                      {
                        "colorbar": {
                          "outlinewidth": 0,
                          "ticks": ""
                        },
                        "type": "choropleth"
                      }
                    ],
                    "contour": [
                      {
                        "colorbar": {
                          "outlinewidth": 0,
                          "ticks": ""
                        },
                        "colorscale": [
                          [
                            0,
                            "#0d0887"
                          ],
                          [
                            0.1111111111111111,
                            "#46039f"
                          ],
                          [
                            0.2222222222222222,
                            "#7201a8"
                          ],
                          [
                            0.3333333333333333,
                            "#9c179e"
                          ],
                          [
                            0.4444444444444444,
                            "#bd3786"
                          ],
                          [
                            0.5555555555555556,
                            "#d8576b"
                          ],
                          [
                            0.6666666666666666,
                            "#ed7953"
                          ],
                          [
                            0.7777777777777778,
                            "#fb9f3a"
                          ],
                          [
                            0.8888888888888888,
                            "#fdca26"
                          ],
                          [
                            1,
                            "#f0f921"
                          ]
                        ],
                        "type": "contour"
                      }
                    ],
                    "contourcarpet": [
                      {
                        "colorbar": {
                          "outlinewidth": 0,
                          "ticks": ""
                        },
                        "type": "contourcarpet"
                      }
                    ],
                    "heatmap": [
                      {
                        "colorbar": {
                          "outlinewidth": 0,
                          "ticks": ""
                        },
                        "colorscale": [
                          [
                            0,
                            "#0d0887"
                          ],
                          [
                            0.1111111111111111,
                            "#46039f"
                          ],
                          [
                            0.2222222222222222,
                            "#7201a8"
                          ],
                          [
                            0.3333333333333333,
                            "#9c179e"
                          ],
                          [
                            0.4444444444444444,
                            "#bd3786"
                          ],
                          [
                            0.5555555555555556,
                            "#d8576b"
                          ],
                          [
                            0.6666666666666666,
                            "#ed7953"
                          ],
                          [
                            0.7777777777777778,
                            "#fb9f3a"
                          ],
                          [
                            0.8888888888888888,
                            "#fdca26"
                          ],
                          [
                            1,
                            "#f0f921"
                          ]
                        ],
                        "type": "heatmap"
                      }
                    ],
                    "heatmapgl": [
                      {
                        "colorbar": {
                          "outlinewidth": 0,
                          "ticks": ""
                        },
                        "colorscale": [
                          [
                            0,
                            "#0d0887"
                          ],
                          [
                            0.1111111111111111,
                            "#46039f"
                          ],
                          [
                            0.2222222222222222,
                            "#7201a8"
                          ],
                          [
                            0.3333333333333333,
                            "#9c179e"
                          ],
                          [
                            0.4444444444444444,
                            "#bd3786"
                          ],
                          [
                            0.5555555555555556,
                            "#d8576b"
                          ],
                          [
                            0.6666666666666666,
                            "#ed7953"
                          ],
                          [
                            0.7777777777777778,
                            "#fb9f3a"
                          ],
                          [
                            0.8888888888888888,
                            "#fdca26"
                          ],
                          [
                            1,
                            "#f0f921"
                          ]
                        ],
                        "type": "heatmapgl"
                      }
                    ],
                    "histogram": [
                      {
                        "marker": {
                          "pattern": {
                            "fillmode": "overlay",
                            "size": 10,
                            "solidity": 0.2
                          }
                        },
                        "type": "histogram"
                      }
                    ],
                    "histogram2d": [
                      {
                        "colorbar": {
                          "outlinewidth": 0,
                          "ticks": ""
                        },
                        "colorscale": [
                          [
                            0,
                            "#0d0887"
                          ],
                          [
                            0.1111111111111111,
                            "#46039f"
                          ],
                          [
                            0.2222222222222222,
                            "#7201a8"
                          ],
                          [
                            0.3333333333333333,
                            "#9c179e"
                          ],
                          [
                            0.4444444444444444,
                            "#bd3786"
                          ],
                          [
                            0.5555555555555556,
                            "#d8576b"
                          ],
                          [
                            0.6666666666666666,
                            "#ed7953"
                          ],
                          [
                            0.7777777777777778,
                            "#fb9f3a"
                          ],
                          [
                            0.8888888888888888,
                            "#fdca26"
                          ],
                          [
                            1,
                            "#f0f921"
                          ]
                        ],
                        "type": "histogram2d"
                      }
                    ],
                    "histogram2dcontour": [
                      {
                        "colorbar": {
                          "outlinewidth": 0,
                          "ticks": ""
                        },
                        "colorscale": [
                          [
                            0,
                            "#0d0887"
                          ],
                          [
                            0.1111111111111111,
                            "#46039f"
                          ],
                          [
                            0.2222222222222222,
                            "#7201a8"
                          ],
                          [
                            0.3333333333333333,
                            "#9c179e"
                          ],
                          [
                            0.4444444444444444,
                            "#bd3786"
                          ],
                          [
                            0.5555555555555556,
                            "#d8576b"
                          ],
                          [
                            0.6666666666666666,
                            "#ed7953"
                          ],
                          [
                            0.7777777777777778,
                            "#fb9f3a"
                          ],
                          [
                            0.8888888888888888,
                            "#fdca26"
                          ],
                          [
                            1,
                            "#f0f921"
                          ]
                        ],
                        "type": "histogram2dcontour"
                      }
                    ],
                    "mesh3d": [
                      {
                        "colorbar": {
                          "outlinewidth": 0,
                          "ticks": ""
                        },
                        "type": "mesh3d"
                      }
                    ],
                    "parcoords": [
                      {
                        "line": {
                          "colorbar": {
                            "outlinewidth": 0,
                            "ticks": ""
                          }
                        },
                        "type": "parcoords"
                      }
                    ],
                    "pie": [
                      {
                        "automargin": true,
                        "type": "pie"
                      }
                    ],
                    "scatter": [
                      {
                        "fillpattern": {
                          "fillmode": "overlay",
                          "size": 10,
                          "solidity": 0.2
                        },
                        "type": "scatter"
                      }
                    ],
                    "scatter3d": [
                      {
                        "line": {
                          "colorbar": {
                            "outlinewidth": 0,
                            "ticks": ""
                          }
                        },
                        "marker": {
                          "colorbar": {
                            "outlinewidth": 0,
                            "ticks": ""
                          }
                        },
                        "type": "scatter3d"
                      }
                    ],
                    "scattercarpet": [
                      {
                        "marker": {
                          "colorbar": {
                            "outlinewidth": 0,
                            "ticks": ""
                          }
                        },
                        "type": "scattercarpet"
                      }
                    ],
                    "scattergeo": [
                      {
                        "marker": {
                          "colorbar": {
                            "outlinewidth": 0,
                            "ticks": ""
                          }
                        },
                        "type": "scattergeo"
                      }
                    ],
                    "scattergl": [
                      {
                        "marker": {
                          "colorbar": {
                            "outlinewidth": 0,
                            "ticks": ""
                          }
                        },
                        "type": "scattergl"
                      }
                    ],
                    "scattermapbox": [
                      {
                        "marker": {
                          "colorbar": {
                            "outlinewidth": 0,
                            "ticks": ""
                          }
                        },
                        "type": "scattermapbox"
                      }
                    ],
                    "scatterpolar": [
                      {
                        "marker": {
                          "colorbar": {
                            "outlinewidth": 0,
                            "ticks": ""
                          }
                        },
                        "type": "scatterpolar"
                      }
                    ],
                    "scatterpolargl": [
                      {
                        "marker": {
                          "colorbar": {
                            "outlinewidth": 0,
                            "ticks": ""
                          }
                        },
                        "type": "scatterpolargl"
                      }
                    ],
                    "scatterternary": [
                      {
                        "marker": {
                          "colorbar": {
                            "outlinewidth": 0,
                            "ticks": ""
                          }
                        },
                        "type": "scatterternary"
                      }
                    ],
                    "surface": [
                      {
                        "colorbar": {
                          "outlinewidth": 0,
                          "ticks": ""
                        },
                        "colorscale": [
                          [
                            0,
                            "#0d0887"
                          ],
                          [
                            0.1111111111111111,
                            "#46039f"
                          ],
                          [
                            0.2222222222222222,
                            "#7201a8"
                          ],
                          [
                            0.3333333333333333,
                            "#9c179e"
                          ],
                          [
                            0.4444444444444444,
                            "#bd3786"
                          ],
                          [
                            0.5555555555555556,
                            "#d8576b"
                          ],
                          [
                            0.6666666666666666,
                            "#ed7953"
                          ],
                          [
                            0.7777777777777778,
                            "#fb9f3a"
                          ],
                          [
                            0.8888888888888888,
                            "#fdca26"
                          ],
                          [
                            1,
                            "#f0f921"
                          ]
                        ],
                        "type": "surface"
                      }
                    ],
                    "table": [
                      {
                        "cells": {
                          "fill": {
                            "color": "#EBF0F8"
                          },
                          "line": {
                            "color": "white"
                          }
                        },
                        "header": {
                          "fill": {
                            "color": "#C8D4E3"
                          },
                          "line": {
                            "color": "white"
                          }
                        },
                        "type": "table"
                      }
                    ]
                  },
                  "layout": {
                    "annotationdefaults": {
                      "arrowcolor": "#2a3f5f",
                      "arrowhead": 0,
                      "arrowwidth": 1
                    },
                    "autotypenumbers": "strict",
                    "coloraxis": {
                      "colorbar": {
                        "outlinewidth": 0,
                        "ticks": ""
                      }
                    },
                    "colorscale": {
                      "diverging": [
                        [
                          0,
                          "#8e0152"
                        ],
                        [
                          0.1,
                          "#c51b7d"
                        ],
                        [
                          0.2,
                          "#de77ae"
                        ],
                        [
                          0.3,
                          "#f1b6da"
                        ],
                        [
                          0.4,
                          "#fde0ef"
                        ],
                        [
                          0.5,
                          "#f7f7f7"
                        ],
                        [
                          0.6,
                          "#e6f5d0"
                        ],
                        [
                          0.7,
                          "#b8e186"
                        ],
                        [
                          0.8,
                          "#7fbc41"
                        ],
                        [
                          0.9,
                          "#4d9221"
                        ],
                        [
                          1,
                          "#276419"
                        ]
                      ],
                      "sequential": [
                        [
                          0,
                          "#0d0887"
                        ],
                        [
                          0.1111111111111111,
                          "#46039f"
                        ],
                        [
                          0.2222222222222222,
                          "#7201a8"
                        ],
                        [
                          0.3333333333333333,
                          "#9c179e"
                        ],
                        [
                          0.4444444444444444,
                          "#bd3786"
                        ],
                        [
                          0.5555555555555556,
                          "#d8576b"
                        ],
                        [
                          0.6666666666666666,
                          "#ed7953"
                        ],
                        [
                          0.7777777777777778,
                          "#fb9f3a"
                        ],
                        [
                          0.8888888888888888,
                          "#fdca26"
                        ],
                        [
                          1,
                          "#f0f921"
                        ]
                      ],
                      "sequentialminus": [
                        [
                          0,
                          "#0d0887"
                        ],
                        [
                          0.1111111111111111,
                          "#46039f"
                        ],
                        [
                          0.2222222222222222,
                          "#7201a8"
                        ],
                        [
                          0.3333333333333333,
                          "#9c179e"
                        ],
                        [
                          0.4444444444444444,
                          "#bd3786"
                        ],
                        [
                          0.5555555555555556,
                          "#d8576b"
                        ],
                        [
                          0.6666666666666666,
                          "#ed7953"
                        ],
                        [
                          0.7777777777777778,
                          "#fb9f3a"
                        ],
                        [
                          0.8888888888888888,
                          "#fdca26"
                        ],
                        [
                          1,
                          "#f0f921"
                        ]
                      ]
                    },
                    "colorway": [
                      "#636efa",
                      "#EF553B",
                      "#00cc96",
                      "#ab63fa",
                      "#FFA15A",
                      "#19d3f3",
                      "#FF6692",
                      "#B6E880",
                      "#FF97FF",
                      "#FECB52"
                    ],
                    "font": {
                      "color": "#2a3f5f"
                    },
                    "geo": {
                      "bgcolor": "white",
                      "lakecolor": "white",
                      "landcolor": "#E5ECF6",
                      "showlakes": true,
                      "showland": true,
                      "subunitcolor": "white"
                    },
                    "hoverlabel": {
                      "align": "left"
                    },
                    "hovermode": "closest",
                    "mapbox": {
                      "style": "light"
                    },
                    "paper_bgcolor": "white",
                    "plot_bgcolor": "#E5ECF6",
                    "polar": {
                      "angularaxis": {
                        "gridcolor": "white",
                        "linecolor": "white",
                        "ticks": ""
                      },
                      "bgcolor": "#E5ECF6",
                      "radialaxis": {
                        "gridcolor": "white",
                        "linecolor": "white",
                        "ticks": ""
                      }
                    },
                    "scene": {
                      "xaxis": {
                        "backgroundcolor": "#E5ECF6",
                        "gridcolor": "white",
                        "gridwidth": 2,
                        "linecolor": "white",
                        "showbackground": true,
                        "ticks": "",
                        "zerolinecolor": "white"
                      },
                      "yaxis": {
                        "backgroundcolor": "#E5ECF6",
                        "gridcolor": "white",
                        "gridwidth": 2,
                        "linecolor": "white",
                        "showbackground": true,
                        "ticks": "",
                        "zerolinecolor": "white"
                      },
                      "zaxis": {
                        "backgroundcolor": "#E5ECF6",
                        "gridcolor": "white",
                        "gridwidth": 2,
                        "linecolor": "white",
                        "showbackground": true,
                        "ticks": "",
                        "zerolinecolor": "white"
                      }
                    },
                    "shapedefaults": {
                      "line": {
                        "color": "#2a3f5f"
                      }
                    },
                    "ternary": {
                      "aaxis": {
                        "gridcolor": "white",
                        "linecolor": "white",
                        "ticks": ""
                      },
                      "baxis": {
                        "gridcolor": "white",
                        "linecolor": "white",
                        "ticks": ""
                      },
                      "bgcolor": "#E5ECF6",
                      "caxis": {
                        "gridcolor": "white",
                        "linecolor": "white",
                        "ticks": ""
                      }
                    },
                    "title": {
                      "x": 0.05
                    },
                    "xaxis": {
                      "automargin": true,
                      "gridcolor": "white",
                      "linecolor": "white",
                      "ticks": "",
                      "title": {
                        "standoff": 15
                      },
                      "zerolinecolor": "white",
                      "zerolinewidth": 2
                    },
                    "yaxis": {
                      "automargin": true,
                      "gridcolor": "white",
                      "linecolor": "white",
                      "ticks": "",
                      "title": {
                        "standoff": 15
                      },
                      "zerolinecolor": "white",
                      "zerolinewidth": 2
                    }
                  }
                },
                "xaxis": {
                  "anchor": "y",
                  "domain": [
                    0,
                    1
                  ],
                  "title": {
                    "text": "total_bill"
                  }
                },
                "yaxis": {
                  "anchor": "x",
                  "domain": [
                    0,
                    1
                  ],
                  "title": {
                    "text": "tip"
                  }
                }
              }
            }
          },
          "metadata": {},
          "output_type": "display_data"
        }
      ],
      "source": [
        "#Completar\n",
        "px.scatter(x='total_bill',y = 'tip',data_frame=df)"
      ]
    },
    {
      "cell_type": "markdown",
      "metadata": {
        "id": "uu7aRXK2Gy5M"
      },
      "source": [
        "2. Asignar los colores en base a la variable \"day\""
      ]
    },
    {
      "cell_type": "code",
      "execution_count": 74,
      "metadata": {
        "id": "f4eWnRfwWQLd"
      },
      "outputs": [
        {
          "data": {
            "application/vnd.plotly.v1+json": {
              "config": {
                "plotlyServerURL": "https://plot.ly"
              },
              "data": [
                {
                  "hovertemplate": "day=Sun<br>total_bill=%{x}<br>tip=%{y}<extra></extra>",
                  "legendgroup": "Sun",
                  "marker": {
                    "color": "#636efa",
                    "symbol": "circle"
                  },
                  "mode": "markers",
                  "name": "Sun",
                  "orientation": "v",
                  "showlegend": true,
                  "type": "scatter",
                  "x": [
                    16.99,
                    10.34,
                    21.01,
                    23.68,
                    24.59,
                    25.29,
                    8.77,
                    26.88,
                    15.04,
                    14.78,
                    10.27,
                    35.26,
                    15.42,
                    18.43,
                    14.83,
                    21.58,
                    10.33,
                    16.29,
                    16.97,
                    17.46,
                    13.94,
                    9.68,
                    30.4,
                    18.29,
                    22.23,
                    32.4,
                    28.55,
                    18.04,
                    12.54,
                    10.29,
                    34.81,
                    9.94,
                    25.56,
                    19.49,
                    38.07,
                    23.95,
                    25.71,
                    17.31,
                    29.93,
                    14.07,
                    13.13,
                    17.26,
                    24.55,
                    19.77,
                    29.85,
                    48.17,
                    25,
                    13.39,
                    16.49,
                    21.5,
                    12.66,
                    16.21,
                    13.81,
                    17.51,
                    24.52,
                    20.76,
                    31.71,
                    7.25,
                    31.85,
                    16.82,
                    32.9,
                    17.89,
                    14.48,
                    9.6,
                    34.63,
                    34.65,
                    23.33,
                    45.35,
                    23.17,
                    40.55,
                    20.69,
                    20.9,
                    30.46,
                    18.15,
                    23.1,
                    15.69
                  ],
                  "xaxis": "x",
                  "y": [
                    1.01,
                    1.66,
                    3.5,
                    3.31,
                    3.61,
                    4.71,
                    2,
                    3.12,
                    1.96,
                    3.23,
                    1.71,
                    5,
                    1.57,
                    3,
                    3.02,
                    3.92,
                    1.67,
                    3.71,
                    3.5,
                    2.54,
                    3.06,
                    1.32,
                    5.6,
                    3,
                    5,
                    6,
                    2.05,
                    3,
                    2.5,
                    2.6,
                    5.2,
                    1.56,
                    4.34,
                    3.51,
                    4,
                    2.55,
                    4,
                    3.5,
                    5.07,
                    2.5,
                    2,
                    2.74,
                    2,
                    2,
                    5.14,
                    5,
                    3.75,
                    2.61,
                    2,
                    3.5,
                    2.5,
                    2,
                    2,
                    3,
                    3.48,
                    2.24,
                    4.5,
                    5.15,
                    3.18,
                    4,
                    3.11,
                    2,
                    2,
                    4,
                    3.55,
                    3.68,
                    5.65,
                    3.5,
                    6.5,
                    3,
                    5,
                    3.5,
                    2,
                    3.5,
                    4,
                    1.5
                  ],
                  "yaxis": "y"
                },
                {
                  "hovertemplate": "day=Sat<br>total_bill=%{x}<br>tip=%{y}<extra></extra>",
                  "legendgroup": "Sat",
                  "marker": {
                    "color": "#EF553B",
                    "symbol": "circle"
                  },
                  "mode": "markers",
                  "name": "Sat",
                  "orientation": "v",
                  "showlegend": true,
                  "type": "scatter",
                  "x": [
                    20.65,
                    17.92,
                    20.29,
                    15.77,
                    39.42,
                    19.82,
                    17.81,
                    13.37,
                    12.69,
                    21.7,
                    19.65,
                    9.55,
                    18.35,
                    15.06,
                    20.69,
                    17.78,
                    24.06,
                    16.31,
                    16.93,
                    18.69,
                    31.27,
                    16.04,
                    38.01,
                    26.41,
                    11.24,
                    48.27,
                    20.29,
                    13.81,
                    11.02,
                    18.29,
                    17.59,
                    20.08,
                    16.45,
                    3.07,
                    20.23,
                    15.01,
                    12.02,
                    17.07,
                    26.86,
                    25.28,
                    14.73,
                    10.51,
                    17.92,
                    44.3,
                    22.42,
                    20.92,
                    15.36,
                    20.49,
                    25.21,
                    18.24,
                    14.31,
                    14,
                    7.25,
                    10.59,
                    10.63,
                    50.81,
                    15.81,
                    26.59,
                    38.73,
                    24.27,
                    12.76,
                    30.06,
                    25.89,
                    48.33,
                    13.27,
                    28.17,
                    12.9,
                    28.15,
                    11.59,
                    7.74,
                    30.14,
                    20.45,
                    13.28,
                    22.12,
                    24.01,
                    15.69,
                    11.61,
                    10.77,
                    15.53,
                    10.07,
                    12.6,
                    32.83,
                    35.83,
                    29.03,
                    27.18,
                    22.67,
                    17.82
                  ],
                  "xaxis": "x",
                  "y": [
                    3.35,
                    4.08,
                    2.75,
                    2.23,
                    7.58,
                    3.18,
                    2.34,
                    2,
                    2,
                    4.3,
                    3,
                    1.45,
                    2.5,
                    3,
                    2.45,
                    3.27,
                    3.6,
                    2,
                    3.07,
                    2.31,
                    5,
                    2.24,
                    3,
                    1.5,
                    1.76,
                    6.73,
                    3.21,
                    2,
                    1.98,
                    3.76,
                    2.64,
                    3.15,
                    2.47,
                    1,
                    2.01,
                    2.09,
                    1.97,
                    3,
                    3.14,
                    5,
                    2.2,
                    1.25,
                    3.08,
                    2.5,
                    3.48,
                    4.08,
                    1.64,
                    4.06,
                    4.29,
                    3.76,
                    4,
                    3,
                    1,
                    1.61,
                    2,
                    10,
                    3.16,
                    3.41,
                    3,
                    2.03,
                    2.23,
                    2,
                    5.16,
                    9,
                    2.5,
                    6.5,
                    1.1,
                    3,
                    1.5,
                    1.44,
                    3.09,
                    3,
                    2.72,
                    2.88,
                    2,
                    3,
                    3.39,
                    1.47,
                    3,
                    1.25,
                    1,
                    1.17,
                    4.67,
                    5.92,
                    2,
                    2,
                    1.75
                  ],
                  "yaxis": "y"
                },
                {
                  "hovertemplate": "day=Thur<br>total_bill=%{x}<br>tip=%{y}<extra></extra>",
                  "legendgroup": "Thur",
                  "marker": {
                    "color": "#00cc96",
                    "symbol": "circle"
                  },
                  "mode": "markers",
                  "name": "Thur",
                  "orientation": "v",
                  "showlegend": true,
                  "type": "scatter",
                  "x": [
                    27.2,
                    22.76,
                    17.29,
                    19.44,
                    16.66,
                    10.07,
                    32.68,
                    15.98,
                    34.83,
                    13.03,
                    18.28,
                    24.71,
                    21.16,
                    10.65,
                    12.43,
                    24.08,
                    11.69,
                    13.42,
                    14.26,
                    15.95,
                    12.48,
                    29.8,
                    8.52,
                    14.52,
                    11.38,
                    22.82,
                    19.08,
                    20.27,
                    11.17,
                    12.26,
                    18.26,
                    8.51,
                    10.33,
                    14.15,
                    16,
                    13.16,
                    17.47,
                    34.3,
                    41.19,
                    27.05,
                    16.43,
                    8.35,
                    18.64,
                    11.87,
                    9.78,
                    7.51,
                    19.81,
                    28.44,
                    15.48,
                    16.58,
                    7.56,
                    10.34,
                    43.11,
                    13,
                    13.51,
                    18.71,
                    12.74,
                    13,
                    16.4,
                    20.53,
                    16.47,
                    18.78
                  ],
                  "xaxis": "x",
                  "y": [
                    4,
                    3,
                    2.71,
                    3,
                    3.4,
                    1.83,
                    5,
                    2.03,
                    5.17,
                    2,
                    4,
                    5.85,
                    3,
                    1.5,
                    1.8,
                    2.92,
                    2.31,
                    1.68,
                    2.5,
                    2,
                    2.52,
                    4.2,
                    1.48,
                    2,
                    2,
                    2.18,
                    1.5,
                    2.83,
                    1.5,
                    2,
                    3.25,
                    1.25,
                    2,
                    2,
                    2,
                    2.75,
                    3.5,
                    6.7,
                    5,
                    5,
                    2.3,
                    1.5,
                    1.36,
                    1.63,
                    1.73,
                    2,
                    4.19,
                    2.56,
                    2.02,
                    4,
                    1.44,
                    2,
                    5,
                    2,
                    2,
                    4,
                    2.01,
                    2,
                    2.5,
                    4,
                    3.23,
                    3
                  ],
                  "yaxis": "y"
                },
                {
                  "hovertemplate": "day=Fri<br>total_bill=%{x}<br>tip=%{y}<extra></extra>",
                  "legendgroup": "Fri",
                  "marker": {
                    "color": "#ab63fa",
                    "symbol": "circle"
                  },
                  "mode": "markers",
                  "name": "Fri",
                  "orientation": "v",
                  "showlegend": true,
                  "type": "scatter",
                  "x": [
                    28.97,
                    22.49,
                    5.75,
                    16.32,
                    22.75,
                    40.17,
                    27.28,
                    12.03,
                    21.01,
                    12.46,
                    11.35,
                    15.38,
                    12.16,
                    13.42,
                    8.58,
                    15.98,
                    13.42,
                    16.27,
                    10.09
                  ],
                  "xaxis": "x",
                  "y": [
                    3,
                    3.5,
                    1,
                    4.3,
                    3.25,
                    4.73,
                    4,
                    1.5,
                    3,
                    1.5,
                    2.5,
                    3,
                    2.2,
                    3.48,
                    1.92,
                    3,
                    1.58,
                    2.5,
                    2
                  ],
                  "yaxis": "y"
                }
              ],
              "layout": {
                "legend": {
                  "title": {
                    "text": "day"
                  },
                  "tracegroupgap": 0
                },
                "margin": {
                  "t": 60
                },
                "template": {
                  "data": {
                    "bar": [
                      {
                        "error_x": {
                          "color": "#2a3f5f"
                        },
                        "error_y": {
                          "color": "#2a3f5f"
                        },
                        "marker": {
                          "line": {
                            "color": "#E5ECF6",
                            "width": 0.5
                          },
                          "pattern": {
                            "fillmode": "overlay",
                            "size": 10,
                            "solidity": 0.2
                          }
                        },
                        "type": "bar"
                      }
                    ],
                    "barpolar": [
                      {
                        "marker": {
                          "line": {
                            "color": "#E5ECF6",
                            "width": 0.5
                          },
                          "pattern": {
                            "fillmode": "overlay",
                            "size": 10,
                            "solidity": 0.2
                          }
                        },
                        "type": "barpolar"
                      }
                    ],
                    "carpet": [
                      {
                        "aaxis": {
                          "endlinecolor": "#2a3f5f",
                          "gridcolor": "white",
                          "linecolor": "white",
                          "minorgridcolor": "white",
                          "startlinecolor": "#2a3f5f"
                        },
                        "baxis": {
                          "endlinecolor": "#2a3f5f",
                          "gridcolor": "white",
                          "linecolor": "white",
                          "minorgridcolor": "white",
                          "startlinecolor": "#2a3f5f"
                        },
                        "type": "carpet"
                      }
                    ],
                    "choropleth": [
                      {
                        "colorbar": {
                          "outlinewidth": 0,
                          "ticks": ""
                        },
                        "type": "choropleth"
                      }
                    ],
                    "contour": [
                      {
                        "colorbar": {
                          "outlinewidth": 0,
                          "ticks": ""
                        },
                        "colorscale": [
                          [
                            0,
                            "#0d0887"
                          ],
                          [
                            0.1111111111111111,
                            "#46039f"
                          ],
                          [
                            0.2222222222222222,
                            "#7201a8"
                          ],
                          [
                            0.3333333333333333,
                            "#9c179e"
                          ],
                          [
                            0.4444444444444444,
                            "#bd3786"
                          ],
                          [
                            0.5555555555555556,
                            "#d8576b"
                          ],
                          [
                            0.6666666666666666,
                            "#ed7953"
                          ],
                          [
                            0.7777777777777778,
                            "#fb9f3a"
                          ],
                          [
                            0.8888888888888888,
                            "#fdca26"
                          ],
                          [
                            1,
                            "#f0f921"
                          ]
                        ],
                        "type": "contour"
                      }
                    ],
                    "contourcarpet": [
                      {
                        "colorbar": {
                          "outlinewidth": 0,
                          "ticks": ""
                        },
                        "type": "contourcarpet"
                      }
                    ],
                    "heatmap": [
                      {
                        "colorbar": {
                          "outlinewidth": 0,
                          "ticks": ""
                        },
                        "colorscale": [
                          [
                            0,
                            "#0d0887"
                          ],
                          [
                            0.1111111111111111,
                            "#46039f"
                          ],
                          [
                            0.2222222222222222,
                            "#7201a8"
                          ],
                          [
                            0.3333333333333333,
                            "#9c179e"
                          ],
                          [
                            0.4444444444444444,
                            "#bd3786"
                          ],
                          [
                            0.5555555555555556,
                            "#d8576b"
                          ],
                          [
                            0.6666666666666666,
                            "#ed7953"
                          ],
                          [
                            0.7777777777777778,
                            "#fb9f3a"
                          ],
                          [
                            0.8888888888888888,
                            "#fdca26"
                          ],
                          [
                            1,
                            "#f0f921"
                          ]
                        ],
                        "type": "heatmap"
                      }
                    ],
                    "heatmapgl": [
                      {
                        "colorbar": {
                          "outlinewidth": 0,
                          "ticks": ""
                        },
                        "colorscale": [
                          [
                            0,
                            "#0d0887"
                          ],
                          [
                            0.1111111111111111,
                            "#46039f"
                          ],
                          [
                            0.2222222222222222,
                            "#7201a8"
                          ],
                          [
                            0.3333333333333333,
                            "#9c179e"
                          ],
                          [
                            0.4444444444444444,
                            "#bd3786"
                          ],
                          [
                            0.5555555555555556,
                            "#d8576b"
                          ],
                          [
                            0.6666666666666666,
                            "#ed7953"
                          ],
                          [
                            0.7777777777777778,
                            "#fb9f3a"
                          ],
                          [
                            0.8888888888888888,
                            "#fdca26"
                          ],
                          [
                            1,
                            "#f0f921"
                          ]
                        ],
                        "type": "heatmapgl"
                      }
                    ],
                    "histogram": [
                      {
                        "marker": {
                          "pattern": {
                            "fillmode": "overlay",
                            "size": 10,
                            "solidity": 0.2
                          }
                        },
                        "type": "histogram"
                      }
                    ],
                    "histogram2d": [
                      {
                        "colorbar": {
                          "outlinewidth": 0,
                          "ticks": ""
                        },
                        "colorscale": [
                          [
                            0,
                            "#0d0887"
                          ],
                          [
                            0.1111111111111111,
                            "#46039f"
                          ],
                          [
                            0.2222222222222222,
                            "#7201a8"
                          ],
                          [
                            0.3333333333333333,
                            "#9c179e"
                          ],
                          [
                            0.4444444444444444,
                            "#bd3786"
                          ],
                          [
                            0.5555555555555556,
                            "#d8576b"
                          ],
                          [
                            0.6666666666666666,
                            "#ed7953"
                          ],
                          [
                            0.7777777777777778,
                            "#fb9f3a"
                          ],
                          [
                            0.8888888888888888,
                            "#fdca26"
                          ],
                          [
                            1,
                            "#f0f921"
                          ]
                        ],
                        "type": "histogram2d"
                      }
                    ],
                    "histogram2dcontour": [
                      {
                        "colorbar": {
                          "outlinewidth": 0,
                          "ticks": ""
                        },
                        "colorscale": [
                          [
                            0,
                            "#0d0887"
                          ],
                          [
                            0.1111111111111111,
                            "#46039f"
                          ],
                          [
                            0.2222222222222222,
                            "#7201a8"
                          ],
                          [
                            0.3333333333333333,
                            "#9c179e"
                          ],
                          [
                            0.4444444444444444,
                            "#bd3786"
                          ],
                          [
                            0.5555555555555556,
                            "#d8576b"
                          ],
                          [
                            0.6666666666666666,
                            "#ed7953"
                          ],
                          [
                            0.7777777777777778,
                            "#fb9f3a"
                          ],
                          [
                            0.8888888888888888,
                            "#fdca26"
                          ],
                          [
                            1,
                            "#f0f921"
                          ]
                        ],
                        "type": "histogram2dcontour"
                      }
                    ],
                    "mesh3d": [
                      {
                        "colorbar": {
                          "outlinewidth": 0,
                          "ticks": ""
                        },
                        "type": "mesh3d"
                      }
                    ],
                    "parcoords": [
                      {
                        "line": {
                          "colorbar": {
                            "outlinewidth": 0,
                            "ticks": ""
                          }
                        },
                        "type": "parcoords"
                      }
                    ],
                    "pie": [
                      {
                        "automargin": true,
                        "type": "pie"
                      }
                    ],
                    "scatter": [
                      {
                        "fillpattern": {
                          "fillmode": "overlay",
                          "size": 10,
                          "solidity": 0.2
                        },
                        "type": "scatter"
                      }
                    ],
                    "scatter3d": [
                      {
                        "line": {
                          "colorbar": {
                            "outlinewidth": 0,
                            "ticks": ""
                          }
                        },
                        "marker": {
                          "colorbar": {
                            "outlinewidth": 0,
                            "ticks": ""
                          }
                        },
                        "type": "scatter3d"
                      }
                    ],
                    "scattercarpet": [
                      {
                        "marker": {
                          "colorbar": {
                            "outlinewidth": 0,
                            "ticks": ""
                          }
                        },
                        "type": "scattercarpet"
                      }
                    ],
                    "scattergeo": [
                      {
                        "marker": {
                          "colorbar": {
                            "outlinewidth": 0,
                            "ticks": ""
                          }
                        },
                        "type": "scattergeo"
                      }
                    ],
                    "scattergl": [
                      {
                        "marker": {
                          "colorbar": {
                            "outlinewidth": 0,
                            "ticks": ""
                          }
                        },
                        "type": "scattergl"
                      }
                    ],
                    "scattermapbox": [
                      {
                        "marker": {
                          "colorbar": {
                            "outlinewidth": 0,
                            "ticks": ""
                          }
                        },
                        "type": "scattermapbox"
                      }
                    ],
                    "scatterpolar": [
                      {
                        "marker": {
                          "colorbar": {
                            "outlinewidth": 0,
                            "ticks": ""
                          }
                        },
                        "type": "scatterpolar"
                      }
                    ],
                    "scatterpolargl": [
                      {
                        "marker": {
                          "colorbar": {
                            "outlinewidth": 0,
                            "ticks": ""
                          }
                        },
                        "type": "scatterpolargl"
                      }
                    ],
                    "scatterternary": [
                      {
                        "marker": {
                          "colorbar": {
                            "outlinewidth": 0,
                            "ticks": ""
                          }
                        },
                        "type": "scatterternary"
                      }
                    ],
                    "surface": [
                      {
                        "colorbar": {
                          "outlinewidth": 0,
                          "ticks": ""
                        },
                        "colorscale": [
                          [
                            0,
                            "#0d0887"
                          ],
                          [
                            0.1111111111111111,
                            "#46039f"
                          ],
                          [
                            0.2222222222222222,
                            "#7201a8"
                          ],
                          [
                            0.3333333333333333,
                            "#9c179e"
                          ],
                          [
                            0.4444444444444444,
                            "#bd3786"
                          ],
                          [
                            0.5555555555555556,
                            "#d8576b"
                          ],
                          [
                            0.6666666666666666,
                            "#ed7953"
                          ],
                          [
                            0.7777777777777778,
                            "#fb9f3a"
                          ],
                          [
                            0.8888888888888888,
                            "#fdca26"
                          ],
                          [
                            1,
                            "#f0f921"
                          ]
                        ],
                        "type": "surface"
                      }
                    ],
                    "table": [
                      {
                        "cells": {
                          "fill": {
                            "color": "#EBF0F8"
                          },
                          "line": {
                            "color": "white"
                          }
                        },
                        "header": {
                          "fill": {
                            "color": "#C8D4E3"
                          },
                          "line": {
                            "color": "white"
                          }
                        },
                        "type": "table"
                      }
                    ]
                  },
                  "layout": {
                    "annotationdefaults": {
                      "arrowcolor": "#2a3f5f",
                      "arrowhead": 0,
                      "arrowwidth": 1
                    },
                    "autotypenumbers": "strict",
                    "coloraxis": {
                      "colorbar": {
                        "outlinewidth": 0,
                        "ticks": ""
                      }
                    },
                    "colorscale": {
                      "diverging": [
                        [
                          0,
                          "#8e0152"
                        ],
                        [
                          0.1,
                          "#c51b7d"
                        ],
                        [
                          0.2,
                          "#de77ae"
                        ],
                        [
                          0.3,
                          "#f1b6da"
                        ],
                        [
                          0.4,
                          "#fde0ef"
                        ],
                        [
                          0.5,
                          "#f7f7f7"
                        ],
                        [
                          0.6,
                          "#e6f5d0"
                        ],
                        [
                          0.7,
                          "#b8e186"
                        ],
                        [
                          0.8,
                          "#7fbc41"
                        ],
                        [
                          0.9,
                          "#4d9221"
                        ],
                        [
                          1,
                          "#276419"
                        ]
                      ],
                      "sequential": [
                        [
                          0,
                          "#0d0887"
                        ],
                        [
                          0.1111111111111111,
                          "#46039f"
                        ],
                        [
                          0.2222222222222222,
                          "#7201a8"
                        ],
                        [
                          0.3333333333333333,
                          "#9c179e"
                        ],
                        [
                          0.4444444444444444,
                          "#bd3786"
                        ],
                        [
                          0.5555555555555556,
                          "#d8576b"
                        ],
                        [
                          0.6666666666666666,
                          "#ed7953"
                        ],
                        [
                          0.7777777777777778,
                          "#fb9f3a"
                        ],
                        [
                          0.8888888888888888,
                          "#fdca26"
                        ],
                        [
                          1,
                          "#f0f921"
                        ]
                      ],
                      "sequentialminus": [
                        [
                          0,
                          "#0d0887"
                        ],
                        [
                          0.1111111111111111,
                          "#46039f"
                        ],
                        [
                          0.2222222222222222,
                          "#7201a8"
                        ],
                        [
                          0.3333333333333333,
                          "#9c179e"
                        ],
                        [
                          0.4444444444444444,
                          "#bd3786"
                        ],
                        [
                          0.5555555555555556,
                          "#d8576b"
                        ],
                        [
                          0.6666666666666666,
                          "#ed7953"
                        ],
                        [
                          0.7777777777777778,
                          "#fb9f3a"
                        ],
                        [
                          0.8888888888888888,
                          "#fdca26"
                        ],
                        [
                          1,
                          "#f0f921"
                        ]
                      ]
                    },
                    "colorway": [
                      "#636efa",
                      "#EF553B",
                      "#00cc96",
                      "#ab63fa",
                      "#FFA15A",
                      "#19d3f3",
                      "#FF6692",
                      "#B6E880",
                      "#FF97FF",
                      "#FECB52"
                    ],
                    "font": {
                      "color": "#2a3f5f"
                    },
                    "geo": {
                      "bgcolor": "white",
                      "lakecolor": "white",
                      "landcolor": "#E5ECF6",
                      "showlakes": true,
                      "showland": true,
                      "subunitcolor": "white"
                    },
                    "hoverlabel": {
                      "align": "left"
                    },
                    "hovermode": "closest",
                    "mapbox": {
                      "style": "light"
                    },
                    "paper_bgcolor": "white",
                    "plot_bgcolor": "#E5ECF6",
                    "polar": {
                      "angularaxis": {
                        "gridcolor": "white",
                        "linecolor": "white",
                        "ticks": ""
                      },
                      "bgcolor": "#E5ECF6",
                      "radialaxis": {
                        "gridcolor": "white",
                        "linecolor": "white",
                        "ticks": ""
                      }
                    },
                    "scene": {
                      "xaxis": {
                        "backgroundcolor": "#E5ECF6",
                        "gridcolor": "white",
                        "gridwidth": 2,
                        "linecolor": "white",
                        "showbackground": true,
                        "ticks": "",
                        "zerolinecolor": "white"
                      },
                      "yaxis": {
                        "backgroundcolor": "#E5ECF6",
                        "gridcolor": "white",
                        "gridwidth": 2,
                        "linecolor": "white",
                        "showbackground": true,
                        "ticks": "",
                        "zerolinecolor": "white"
                      },
                      "zaxis": {
                        "backgroundcolor": "#E5ECF6",
                        "gridcolor": "white",
                        "gridwidth": 2,
                        "linecolor": "white",
                        "showbackground": true,
                        "ticks": "",
                        "zerolinecolor": "white"
                      }
                    },
                    "shapedefaults": {
                      "line": {
                        "color": "#2a3f5f"
                      }
                    },
                    "ternary": {
                      "aaxis": {
                        "gridcolor": "white",
                        "linecolor": "white",
                        "ticks": ""
                      },
                      "baxis": {
                        "gridcolor": "white",
                        "linecolor": "white",
                        "ticks": ""
                      },
                      "bgcolor": "#E5ECF6",
                      "caxis": {
                        "gridcolor": "white",
                        "linecolor": "white",
                        "ticks": ""
                      }
                    },
                    "title": {
                      "x": 0.05
                    },
                    "xaxis": {
                      "automargin": true,
                      "gridcolor": "white",
                      "linecolor": "white",
                      "ticks": "",
                      "title": {
                        "standoff": 15
                      },
                      "zerolinecolor": "white",
                      "zerolinewidth": 2
                    },
                    "yaxis": {
                      "automargin": true,
                      "gridcolor": "white",
                      "linecolor": "white",
                      "ticks": "",
                      "title": {
                        "standoff": 15
                      },
                      "zerolinecolor": "white",
                      "zerolinewidth": 2
                    }
                  }
                },
                "xaxis": {
                  "anchor": "y",
                  "domain": [
                    0,
                    1
                  ],
                  "title": {
                    "text": "total_bill"
                  }
                },
                "yaxis": {
                  "anchor": "x",
                  "domain": [
                    0,
                    1
                  ],
                  "title": {
                    "text": "tip"
                  }
                }
              }
            }
          },
          "metadata": {},
          "output_type": "display_data"
        }
      ],
      "source": [
        "#Completar\n",
        "\n",
        "px.scatter(x='total_bill',y = 'tip',data_frame=df,color='day')"
      ]
    },
    {
      "cell_type": "markdown",
      "metadata": {
        "id": "eUpqEsECG6vX"
      },
      "source": [
        "3. Modificar el tamaño de los points en base a la variable \"size\""
      ]
    },
    {
      "cell_type": "code",
      "execution_count": 77,
      "metadata": {
        "id": "m8-bVDfKWbQh"
      },
      "outputs": [
        {
          "data": {
            "application/vnd.plotly.v1+json": {
              "config": {
                "plotlyServerURL": "https://plot.ly"
              },
              "data": [
                {
                  "hovertemplate": "day=Sun<br>total_bill=%{x}<br>tip=%{marker.size}<extra></extra>",
                  "legendgroup": "Sun",
                  "marker": {
                    "color": "#636efa",
                    "size": [
                      1.01,
                      1.66,
                      3.5,
                      3.31,
                      3.61,
                      4.71,
                      2,
                      3.12,
                      1.96,
                      3.23,
                      1.71,
                      5,
                      1.57,
                      3,
                      3.02,
                      3.92,
                      1.67,
                      3.71,
                      3.5,
                      2.54,
                      3.06,
                      1.32,
                      5.6,
                      3,
                      5,
                      6,
                      2.05,
                      3,
                      2.5,
                      2.6,
                      5.2,
                      1.56,
                      4.34,
                      3.51,
                      4,
                      2.55,
                      4,
                      3.5,
                      5.07,
                      2.5,
                      2,
                      2.74,
                      2,
                      2,
                      5.14,
                      5,
                      3.75,
                      2.61,
                      2,
                      3.5,
                      2.5,
                      2,
                      2,
                      3,
                      3.48,
                      2.24,
                      4.5,
                      5.15,
                      3.18,
                      4,
                      3.11,
                      2,
                      2,
                      4,
                      3.55,
                      3.68,
                      5.65,
                      3.5,
                      6.5,
                      3,
                      5,
                      3.5,
                      2,
                      3.5,
                      4,
                      1.5
                    ],
                    "sizemode": "area",
                    "sizeref": 0.025,
                    "symbol": "circle"
                  },
                  "mode": "markers",
                  "name": "Sun",
                  "orientation": "v",
                  "showlegend": true,
                  "type": "scatter",
                  "x": [
                    16.99,
                    10.34,
                    21.01,
                    23.68,
                    24.59,
                    25.29,
                    8.77,
                    26.88,
                    15.04,
                    14.78,
                    10.27,
                    35.26,
                    15.42,
                    18.43,
                    14.83,
                    21.58,
                    10.33,
                    16.29,
                    16.97,
                    17.46,
                    13.94,
                    9.68,
                    30.4,
                    18.29,
                    22.23,
                    32.4,
                    28.55,
                    18.04,
                    12.54,
                    10.29,
                    34.81,
                    9.94,
                    25.56,
                    19.49,
                    38.07,
                    23.95,
                    25.71,
                    17.31,
                    29.93,
                    14.07,
                    13.13,
                    17.26,
                    24.55,
                    19.77,
                    29.85,
                    48.17,
                    25,
                    13.39,
                    16.49,
                    21.5,
                    12.66,
                    16.21,
                    13.81,
                    17.51,
                    24.52,
                    20.76,
                    31.71,
                    7.25,
                    31.85,
                    16.82,
                    32.9,
                    17.89,
                    14.48,
                    9.6,
                    34.63,
                    34.65,
                    23.33,
                    45.35,
                    23.17,
                    40.55,
                    20.69,
                    20.9,
                    30.46,
                    18.15,
                    23.1,
                    15.69
                  ],
                  "xaxis": "x",
                  "y": [
                    1.01,
                    1.66,
                    3.5,
                    3.31,
                    3.61,
                    4.71,
                    2,
                    3.12,
                    1.96,
                    3.23,
                    1.71,
                    5,
                    1.57,
                    3,
                    3.02,
                    3.92,
                    1.67,
                    3.71,
                    3.5,
                    2.54,
                    3.06,
                    1.32,
                    5.6,
                    3,
                    5,
                    6,
                    2.05,
                    3,
                    2.5,
                    2.6,
                    5.2,
                    1.56,
                    4.34,
                    3.51,
                    4,
                    2.55,
                    4,
                    3.5,
                    5.07,
                    2.5,
                    2,
                    2.74,
                    2,
                    2,
                    5.14,
                    5,
                    3.75,
                    2.61,
                    2,
                    3.5,
                    2.5,
                    2,
                    2,
                    3,
                    3.48,
                    2.24,
                    4.5,
                    5.15,
                    3.18,
                    4,
                    3.11,
                    2,
                    2,
                    4,
                    3.55,
                    3.68,
                    5.65,
                    3.5,
                    6.5,
                    3,
                    5,
                    3.5,
                    2,
                    3.5,
                    4,
                    1.5
                  ],
                  "yaxis": "y"
                },
                {
                  "hovertemplate": "day=Sat<br>total_bill=%{x}<br>tip=%{marker.size}<extra></extra>",
                  "legendgroup": "Sat",
                  "marker": {
                    "color": "#EF553B",
                    "size": [
                      3.35,
                      4.08,
                      2.75,
                      2.23,
                      7.58,
                      3.18,
                      2.34,
                      2,
                      2,
                      4.3,
                      3,
                      1.45,
                      2.5,
                      3,
                      2.45,
                      3.27,
                      3.6,
                      2,
                      3.07,
                      2.31,
                      5,
                      2.24,
                      3,
                      1.5,
                      1.76,
                      6.73,
                      3.21,
                      2,
                      1.98,
                      3.76,
                      2.64,
                      3.15,
                      2.47,
                      1,
                      2.01,
                      2.09,
                      1.97,
                      3,
                      3.14,
                      5,
                      2.2,
                      1.25,
                      3.08,
                      2.5,
                      3.48,
                      4.08,
                      1.64,
                      4.06,
                      4.29,
                      3.76,
                      4,
                      3,
                      1,
                      1.61,
                      2,
                      10,
                      3.16,
                      3.41,
                      3,
                      2.03,
                      2.23,
                      2,
                      5.16,
                      9,
                      2.5,
                      6.5,
                      1.1,
                      3,
                      1.5,
                      1.44,
                      3.09,
                      3,
                      2.72,
                      2.88,
                      2,
                      3,
                      3.39,
                      1.47,
                      3,
                      1.25,
                      1,
                      1.17,
                      4.67,
                      5.92,
                      2,
                      2,
                      1.75
                    ],
                    "sizemode": "area",
                    "sizeref": 0.025,
                    "symbol": "circle"
                  },
                  "mode": "markers",
                  "name": "Sat",
                  "orientation": "v",
                  "showlegend": true,
                  "type": "scatter",
                  "x": [
                    20.65,
                    17.92,
                    20.29,
                    15.77,
                    39.42,
                    19.82,
                    17.81,
                    13.37,
                    12.69,
                    21.7,
                    19.65,
                    9.55,
                    18.35,
                    15.06,
                    20.69,
                    17.78,
                    24.06,
                    16.31,
                    16.93,
                    18.69,
                    31.27,
                    16.04,
                    38.01,
                    26.41,
                    11.24,
                    48.27,
                    20.29,
                    13.81,
                    11.02,
                    18.29,
                    17.59,
                    20.08,
                    16.45,
                    3.07,
                    20.23,
                    15.01,
                    12.02,
                    17.07,
                    26.86,
                    25.28,
                    14.73,
                    10.51,
                    17.92,
                    44.3,
                    22.42,
                    20.92,
                    15.36,
                    20.49,
                    25.21,
                    18.24,
                    14.31,
                    14,
                    7.25,
                    10.59,
                    10.63,
                    50.81,
                    15.81,
                    26.59,
                    38.73,
                    24.27,
                    12.76,
                    30.06,
                    25.89,
                    48.33,
                    13.27,
                    28.17,
                    12.9,
                    28.15,
                    11.59,
                    7.74,
                    30.14,
                    20.45,
                    13.28,
                    22.12,
                    24.01,
                    15.69,
                    11.61,
                    10.77,
                    15.53,
                    10.07,
                    12.6,
                    32.83,
                    35.83,
                    29.03,
                    27.18,
                    22.67,
                    17.82
                  ],
                  "xaxis": "x",
                  "y": [
                    3.35,
                    4.08,
                    2.75,
                    2.23,
                    7.58,
                    3.18,
                    2.34,
                    2,
                    2,
                    4.3,
                    3,
                    1.45,
                    2.5,
                    3,
                    2.45,
                    3.27,
                    3.6,
                    2,
                    3.07,
                    2.31,
                    5,
                    2.24,
                    3,
                    1.5,
                    1.76,
                    6.73,
                    3.21,
                    2,
                    1.98,
                    3.76,
                    2.64,
                    3.15,
                    2.47,
                    1,
                    2.01,
                    2.09,
                    1.97,
                    3,
                    3.14,
                    5,
                    2.2,
                    1.25,
                    3.08,
                    2.5,
                    3.48,
                    4.08,
                    1.64,
                    4.06,
                    4.29,
                    3.76,
                    4,
                    3,
                    1,
                    1.61,
                    2,
                    10,
                    3.16,
                    3.41,
                    3,
                    2.03,
                    2.23,
                    2,
                    5.16,
                    9,
                    2.5,
                    6.5,
                    1.1,
                    3,
                    1.5,
                    1.44,
                    3.09,
                    3,
                    2.72,
                    2.88,
                    2,
                    3,
                    3.39,
                    1.47,
                    3,
                    1.25,
                    1,
                    1.17,
                    4.67,
                    5.92,
                    2,
                    2,
                    1.75
                  ],
                  "yaxis": "y"
                },
                {
                  "hovertemplate": "day=Thur<br>total_bill=%{x}<br>tip=%{marker.size}<extra></extra>",
                  "legendgroup": "Thur",
                  "marker": {
                    "color": "#00cc96",
                    "size": [
                      4,
                      3,
                      2.71,
                      3,
                      3.4,
                      1.83,
                      5,
                      2.03,
                      5.17,
                      2,
                      4,
                      5.85,
                      3,
                      1.5,
                      1.8,
                      2.92,
                      2.31,
                      1.68,
                      2.5,
                      2,
                      2.52,
                      4.2,
                      1.48,
                      2,
                      2,
                      2.18,
                      1.5,
                      2.83,
                      1.5,
                      2,
                      3.25,
                      1.25,
                      2,
                      2,
                      2,
                      2.75,
                      3.5,
                      6.7,
                      5,
                      5,
                      2.3,
                      1.5,
                      1.36,
                      1.63,
                      1.73,
                      2,
                      4.19,
                      2.56,
                      2.02,
                      4,
                      1.44,
                      2,
                      5,
                      2,
                      2,
                      4,
                      2.01,
                      2,
                      2.5,
                      4,
                      3.23,
                      3
                    ],
                    "sizemode": "area",
                    "sizeref": 0.025,
                    "symbol": "circle"
                  },
                  "mode": "markers",
                  "name": "Thur",
                  "orientation": "v",
                  "showlegend": true,
                  "type": "scatter",
                  "x": [
                    27.2,
                    22.76,
                    17.29,
                    19.44,
                    16.66,
                    10.07,
                    32.68,
                    15.98,
                    34.83,
                    13.03,
                    18.28,
                    24.71,
                    21.16,
                    10.65,
                    12.43,
                    24.08,
                    11.69,
                    13.42,
                    14.26,
                    15.95,
                    12.48,
                    29.8,
                    8.52,
                    14.52,
                    11.38,
                    22.82,
                    19.08,
                    20.27,
                    11.17,
                    12.26,
                    18.26,
                    8.51,
                    10.33,
                    14.15,
                    16,
                    13.16,
                    17.47,
                    34.3,
                    41.19,
                    27.05,
                    16.43,
                    8.35,
                    18.64,
                    11.87,
                    9.78,
                    7.51,
                    19.81,
                    28.44,
                    15.48,
                    16.58,
                    7.56,
                    10.34,
                    43.11,
                    13,
                    13.51,
                    18.71,
                    12.74,
                    13,
                    16.4,
                    20.53,
                    16.47,
                    18.78
                  ],
                  "xaxis": "x",
                  "y": [
                    4,
                    3,
                    2.71,
                    3,
                    3.4,
                    1.83,
                    5,
                    2.03,
                    5.17,
                    2,
                    4,
                    5.85,
                    3,
                    1.5,
                    1.8,
                    2.92,
                    2.31,
                    1.68,
                    2.5,
                    2,
                    2.52,
                    4.2,
                    1.48,
                    2,
                    2,
                    2.18,
                    1.5,
                    2.83,
                    1.5,
                    2,
                    3.25,
                    1.25,
                    2,
                    2,
                    2,
                    2.75,
                    3.5,
                    6.7,
                    5,
                    5,
                    2.3,
                    1.5,
                    1.36,
                    1.63,
                    1.73,
                    2,
                    4.19,
                    2.56,
                    2.02,
                    4,
                    1.44,
                    2,
                    5,
                    2,
                    2,
                    4,
                    2.01,
                    2,
                    2.5,
                    4,
                    3.23,
                    3
                  ],
                  "yaxis": "y"
                },
                {
                  "hovertemplate": "day=Fri<br>total_bill=%{x}<br>tip=%{marker.size}<extra></extra>",
                  "legendgroup": "Fri",
                  "marker": {
                    "color": "#ab63fa",
                    "size": [
                      3,
                      3.5,
                      1,
                      4.3,
                      3.25,
                      4.73,
                      4,
                      1.5,
                      3,
                      1.5,
                      2.5,
                      3,
                      2.2,
                      3.48,
                      1.92,
                      3,
                      1.58,
                      2.5,
                      2
                    ],
                    "sizemode": "area",
                    "sizeref": 0.025,
                    "symbol": "circle"
                  },
                  "mode": "markers",
                  "name": "Fri",
                  "orientation": "v",
                  "showlegend": true,
                  "type": "scatter",
                  "x": [
                    28.97,
                    22.49,
                    5.75,
                    16.32,
                    22.75,
                    40.17,
                    27.28,
                    12.03,
                    21.01,
                    12.46,
                    11.35,
                    15.38,
                    12.16,
                    13.42,
                    8.58,
                    15.98,
                    13.42,
                    16.27,
                    10.09
                  ],
                  "xaxis": "x",
                  "y": [
                    3,
                    3.5,
                    1,
                    4.3,
                    3.25,
                    4.73,
                    4,
                    1.5,
                    3,
                    1.5,
                    2.5,
                    3,
                    2.2,
                    3.48,
                    1.92,
                    3,
                    1.58,
                    2.5,
                    2
                  ],
                  "yaxis": "y"
                }
              ],
              "layout": {
                "legend": {
                  "itemsizing": "constant",
                  "title": {
                    "text": "day"
                  },
                  "tracegroupgap": 0
                },
                "margin": {
                  "t": 60
                },
                "template": {
                  "data": {
                    "bar": [
                      {
                        "error_x": {
                          "color": "#2a3f5f"
                        },
                        "error_y": {
                          "color": "#2a3f5f"
                        },
                        "marker": {
                          "line": {
                            "color": "#E5ECF6",
                            "width": 0.5
                          },
                          "pattern": {
                            "fillmode": "overlay",
                            "size": 10,
                            "solidity": 0.2
                          }
                        },
                        "type": "bar"
                      }
                    ],
                    "barpolar": [
                      {
                        "marker": {
                          "line": {
                            "color": "#E5ECF6",
                            "width": 0.5
                          },
                          "pattern": {
                            "fillmode": "overlay",
                            "size": 10,
                            "solidity": 0.2
                          }
                        },
                        "type": "barpolar"
                      }
                    ],
                    "carpet": [
                      {
                        "aaxis": {
                          "endlinecolor": "#2a3f5f",
                          "gridcolor": "white",
                          "linecolor": "white",
                          "minorgridcolor": "white",
                          "startlinecolor": "#2a3f5f"
                        },
                        "baxis": {
                          "endlinecolor": "#2a3f5f",
                          "gridcolor": "white",
                          "linecolor": "white",
                          "minorgridcolor": "white",
                          "startlinecolor": "#2a3f5f"
                        },
                        "type": "carpet"
                      }
                    ],
                    "choropleth": [
                      {
                        "colorbar": {
                          "outlinewidth": 0,
                          "ticks": ""
                        },
                        "type": "choropleth"
                      }
                    ],
                    "contour": [
                      {
                        "colorbar": {
                          "outlinewidth": 0,
                          "ticks": ""
                        },
                        "colorscale": [
                          [
                            0,
                            "#0d0887"
                          ],
                          [
                            0.1111111111111111,
                            "#46039f"
                          ],
                          [
                            0.2222222222222222,
                            "#7201a8"
                          ],
                          [
                            0.3333333333333333,
                            "#9c179e"
                          ],
                          [
                            0.4444444444444444,
                            "#bd3786"
                          ],
                          [
                            0.5555555555555556,
                            "#d8576b"
                          ],
                          [
                            0.6666666666666666,
                            "#ed7953"
                          ],
                          [
                            0.7777777777777778,
                            "#fb9f3a"
                          ],
                          [
                            0.8888888888888888,
                            "#fdca26"
                          ],
                          [
                            1,
                            "#f0f921"
                          ]
                        ],
                        "type": "contour"
                      }
                    ],
                    "contourcarpet": [
                      {
                        "colorbar": {
                          "outlinewidth": 0,
                          "ticks": ""
                        },
                        "type": "contourcarpet"
                      }
                    ],
                    "heatmap": [
                      {
                        "colorbar": {
                          "outlinewidth": 0,
                          "ticks": ""
                        },
                        "colorscale": [
                          [
                            0,
                            "#0d0887"
                          ],
                          [
                            0.1111111111111111,
                            "#46039f"
                          ],
                          [
                            0.2222222222222222,
                            "#7201a8"
                          ],
                          [
                            0.3333333333333333,
                            "#9c179e"
                          ],
                          [
                            0.4444444444444444,
                            "#bd3786"
                          ],
                          [
                            0.5555555555555556,
                            "#d8576b"
                          ],
                          [
                            0.6666666666666666,
                            "#ed7953"
                          ],
                          [
                            0.7777777777777778,
                            "#fb9f3a"
                          ],
                          [
                            0.8888888888888888,
                            "#fdca26"
                          ],
                          [
                            1,
                            "#f0f921"
                          ]
                        ],
                        "type": "heatmap"
                      }
                    ],
                    "heatmapgl": [
                      {
                        "colorbar": {
                          "outlinewidth": 0,
                          "ticks": ""
                        },
                        "colorscale": [
                          [
                            0,
                            "#0d0887"
                          ],
                          [
                            0.1111111111111111,
                            "#46039f"
                          ],
                          [
                            0.2222222222222222,
                            "#7201a8"
                          ],
                          [
                            0.3333333333333333,
                            "#9c179e"
                          ],
                          [
                            0.4444444444444444,
                            "#bd3786"
                          ],
                          [
                            0.5555555555555556,
                            "#d8576b"
                          ],
                          [
                            0.6666666666666666,
                            "#ed7953"
                          ],
                          [
                            0.7777777777777778,
                            "#fb9f3a"
                          ],
                          [
                            0.8888888888888888,
                            "#fdca26"
                          ],
                          [
                            1,
                            "#f0f921"
                          ]
                        ],
                        "type": "heatmapgl"
                      }
                    ],
                    "histogram": [
                      {
                        "marker": {
                          "pattern": {
                            "fillmode": "overlay",
                            "size": 10,
                            "solidity": 0.2
                          }
                        },
                        "type": "histogram"
                      }
                    ],
                    "histogram2d": [
                      {
                        "colorbar": {
                          "outlinewidth": 0,
                          "ticks": ""
                        },
                        "colorscale": [
                          [
                            0,
                            "#0d0887"
                          ],
                          [
                            0.1111111111111111,
                            "#46039f"
                          ],
                          [
                            0.2222222222222222,
                            "#7201a8"
                          ],
                          [
                            0.3333333333333333,
                            "#9c179e"
                          ],
                          [
                            0.4444444444444444,
                            "#bd3786"
                          ],
                          [
                            0.5555555555555556,
                            "#d8576b"
                          ],
                          [
                            0.6666666666666666,
                            "#ed7953"
                          ],
                          [
                            0.7777777777777778,
                            "#fb9f3a"
                          ],
                          [
                            0.8888888888888888,
                            "#fdca26"
                          ],
                          [
                            1,
                            "#f0f921"
                          ]
                        ],
                        "type": "histogram2d"
                      }
                    ],
                    "histogram2dcontour": [
                      {
                        "colorbar": {
                          "outlinewidth": 0,
                          "ticks": ""
                        },
                        "colorscale": [
                          [
                            0,
                            "#0d0887"
                          ],
                          [
                            0.1111111111111111,
                            "#46039f"
                          ],
                          [
                            0.2222222222222222,
                            "#7201a8"
                          ],
                          [
                            0.3333333333333333,
                            "#9c179e"
                          ],
                          [
                            0.4444444444444444,
                            "#bd3786"
                          ],
                          [
                            0.5555555555555556,
                            "#d8576b"
                          ],
                          [
                            0.6666666666666666,
                            "#ed7953"
                          ],
                          [
                            0.7777777777777778,
                            "#fb9f3a"
                          ],
                          [
                            0.8888888888888888,
                            "#fdca26"
                          ],
                          [
                            1,
                            "#f0f921"
                          ]
                        ],
                        "type": "histogram2dcontour"
                      }
                    ],
                    "mesh3d": [
                      {
                        "colorbar": {
                          "outlinewidth": 0,
                          "ticks": ""
                        },
                        "type": "mesh3d"
                      }
                    ],
                    "parcoords": [
                      {
                        "line": {
                          "colorbar": {
                            "outlinewidth": 0,
                            "ticks": ""
                          }
                        },
                        "type": "parcoords"
                      }
                    ],
                    "pie": [
                      {
                        "automargin": true,
                        "type": "pie"
                      }
                    ],
                    "scatter": [
                      {
                        "fillpattern": {
                          "fillmode": "overlay",
                          "size": 10,
                          "solidity": 0.2
                        },
                        "type": "scatter"
                      }
                    ],
                    "scatter3d": [
                      {
                        "line": {
                          "colorbar": {
                            "outlinewidth": 0,
                            "ticks": ""
                          }
                        },
                        "marker": {
                          "colorbar": {
                            "outlinewidth": 0,
                            "ticks": ""
                          }
                        },
                        "type": "scatter3d"
                      }
                    ],
                    "scattercarpet": [
                      {
                        "marker": {
                          "colorbar": {
                            "outlinewidth": 0,
                            "ticks": ""
                          }
                        },
                        "type": "scattercarpet"
                      }
                    ],
                    "scattergeo": [
                      {
                        "marker": {
                          "colorbar": {
                            "outlinewidth": 0,
                            "ticks": ""
                          }
                        },
                        "type": "scattergeo"
                      }
                    ],
                    "scattergl": [
                      {
                        "marker": {
                          "colorbar": {
                            "outlinewidth": 0,
                            "ticks": ""
                          }
                        },
                        "type": "scattergl"
                      }
                    ],
                    "scattermapbox": [
                      {
                        "marker": {
                          "colorbar": {
                            "outlinewidth": 0,
                            "ticks": ""
                          }
                        },
                        "type": "scattermapbox"
                      }
                    ],
                    "scatterpolar": [
                      {
                        "marker": {
                          "colorbar": {
                            "outlinewidth": 0,
                            "ticks": ""
                          }
                        },
                        "type": "scatterpolar"
                      }
                    ],
                    "scatterpolargl": [
                      {
                        "marker": {
                          "colorbar": {
                            "outlinewidth": 0,
                            "ticks": ""
                          }
                        },
                        "type": "scatterpolargl"
                      }
                    ],
                    "scatterternary": [
                      {
                        "marker": {
                          "colorbar": {
                            "outlinewidth": 0,
                            "ticks": ""
                          }
                        },
                        "type": "scatterternary"
                      }
                    ],
                    "surface": [
                      {
                        "colorbar": {
                          "outlinewidth": 0,
                          "ticks": ""
                        },
                        "colorscale": [
                          [
                            0,
                            "#0d0887"
                          ],
                          [
                            0.1111111111111111,
                            "#46039f"
                          ],
                          [
                            0.2222222222222222,
                            "#7201a8"
                          ],
                          [
                            0.3333333333333333,
                            "#9c179e"
                          ],
                          [
                            0.4444444444444444,
                            "#bd3786"
                          ],
                          [
                            0.5555555555555556,
                            "#d8576b"
                          ],
                          [
                            0.6666666666666666,
                            "#ed7953"
                          ],
                          [
                            0.7777777777777778,
                            "#fb9f3a"
                          ],
                          [
                            0.8888888888888888,
                            "#fdca26"
                          ],
                          [
                            1,
                            "#f0f921"
                          ]
                        ],
                        "type": "surface"
                      }
                    ],
                    "table": [
                      {
                        "cells": {
                          "fill": {
                            "color": "#EBF0F8"
                          },
                          "line": {
                            "color": "white"
                          }
                        },
                        "header": {
                          "fill": {
                            "color": "#C8D4E3"
                          },
                          "line": {
                            "color": "white"
                          }
                        },
                        "type": "table"
                      }
                    ]
                  },
                  "layout": {
                    "annotationdefaults": {
                      "arrowcolor": "#2a3f5f",
                      "arrowhead": 0,
                      "arrowwidth": 1
                    },
                    "autotypenumbers": "strict",
                    "coloraxis": {
                      "colorbar": {
                        "outlinewidth": 0,
                        "ticks": ""
                      }
                    },
                    "colorscale": {
                      "diverging": [
                        [
                          0,
                          "#8e0152"
                        ],
                        [
                          0.1,
                          "#c51b7d"
                        ],
                        [
                          0.2,
                          "#de77ae"
                        ],
                        [
                          0.3,
                          "#f1b6da"
                        ],
                        [
                          0.4,
                          "#fde0ef"
                        ],
                        [
                          0.5,
                          "#f7f7f7"
                        ],
                        [
                          0.6,
                          "#e6f5d0"
                        ],
                        [
                          0.7,
                          "#b8e186"
                        ],
                        [
                          0.8,
                          "#7fbc41"
                        ],
                        [
                          0.9,
                          "#4d9221"
                        ],
                        [
                          1,
                          "#276419"
                        ]
                      ],
                      "sequential": [
                        [
                          0,
                          "#0d0887"
                        ],
                        [
                          0.1111111111111111,
                          "#46039f"
                        ],
                        [
                          0.2222222222222222,
                          "#7201a8"
                        ],
                        [
                          0.3333333333333333,
                          "#9c179e"
                        ],
                        [
                          0.4444444444444444,
                          "#bd3786"
                        ],
                        [
                          0.5555555555555556,
                          "#d8576b"
                        ],
                        [
                          0.6666666666666666,
                          "#ed7953"
                        ],
                        [
                          0.7777777777777778,
                          "#fb9f3a"
                        ],
                        [
                          0.8888888888888888,
                          "#fdca26"
                        ],
                        [
                          1,
                          "#f0f921"
                        ]
                      ],
                      "sequentialminus": [
                        [
                          0,
                          "#0d0887"
                        ],
                        [
                          0.1111111111111111,
                          "#46039f"
                        ],
                        [
                          0.2222222222222222,
                          "#7201a8"
                        ],
                        [
                          0.3333333333333333,
                          "#9c179e"
                        ],
                        [
                          0.4444444444444444,
                          "#bd3786"
                        ],
                        [
                          0.5555555555555556,
                          "#d8576b"
                        ],
                        [
                          0.6666666666666666,
                          "#ed7953"
                        ],
                        [
                          0.7777777777777778,
                          "#fb9f3a"
                        ],
                        [
                          0.8888888888888888,
                          "#fdca26"
                        ],
                        [
                          1,
                          "#f0f921"
                        ]
                      ]
                    },
                    "colorway": [
                      "#636efa",
                      "#EF553B",
                      "#00cc96",
                      "#ab63fa",
                      "#FFA15A",
                      "#19d3f3",
                      "#FF6692",
                      "#B6E880",
                      "#FF97FF",
                      "#FECB52"
                    ],
                    "font": {
                      "color": "#2a3f5f"
                    },
                    "geo": {
                      "bgcolor": "white",
                      "lakecolor": "white",
                      "landcolor": "#E5ECF6",
                      "showlakes": true,
                      "showland": true,
                      "subunitcolor": "white"
                    },
                    "hoverlabel": {
                      "align": "left"
                    },
                    "hovermode": "closest",
                    "mapbox": {
                      "style": "light"
                    },
                    "paper_bgcolor": "white",
                    "plot_bgcolor": "#E5ECF6",
                    "polar": {
                      "angularaxis": {
                        "gridcolor": "white",
                        "linecolor": "white",
                        "ticks": ""
                      },
                      "bgcolor": "#E5ECF6",
                      "radialaxis": {
                        "gridcolor": "white",
                        "linecolor": "white",
                        "ticks": ""
                      }
                    },
                    "scene": {
                      "xaxis": {
                        "backgroundcolor": "#E5ECF6",
                        "gridcolor": "white",
                        "gridwidth": 2,
                        "linecolor": "white",
                        "showbackground": true,
                        "ticks": "",
                        "zerolinecolor": "white"
                      },
                      "yaxis": {
                        "backgroundcolor": "#E5ECF6",
                        "gridcolor": "white",
                        "gridwidth": 2,
                        "linecolor": "white",
                        "showbackground": true,
                        "ticks": "",
                        "zerolinecolor": "white"
                      },
                      "zaxis": {
                        "backgroundcolor": "#E5ECF6",
                        "gridcolor": "white",
                        "gridwidth": 2,
                        "linecolor": "white",
                        "showbackground": true,
                        "ticks": "",
                        "zerolinecolor": "white"
                      }
                    },
                    "shapedefaults": {
                      "line": {
                        "color": "#2a3f5f"
                      }
                    },
                    "ternary": {
                      "aaxis": {
                        "gridcolor": "white",
                        "linecolor": "white",
                        "ticks": ""
                      },
                      "baxis": {
                        "gridcolor": "white",
                        "linecolor": "white",
                        "ticks": ""
                      },
                      "bgcolor": "#E5ECF6",
                      "caxis": {
                        "gridcolor": "white",
                        "linecolor": "white",
                        "ticks": ""
                      }
                    },
                    "title": {
                      "x": 0.05
                    },
                    "xaxis": {
                      "automargin": true,
                      "gridcolor": "white",
                      "linecolor": "white",
                      "ticks": "",
                      "title": {
                        "standoff": 15
                      },
                      "zerolinecolor": "white",
                      "zerolinewidth": 2
                    },
                    "yaxis": {
                      "automargin": true,
                      "gridcolor": "white",
                      "linecolor": "white",
                      "ticks": "",
                      "title": {
                        "standoff": 15
                      },
                      "zerolinecolor": "white",
                      "zerolinewidth": 2
                    }
                  }
                },
                "xaxis": {
                  "anchor": "y",
                  "domain": [
                    0,
                    1
                  ],
                  "title": {
                    "text": "total_bill"
                  }
                },
                "yaxis": {
                  "anchor": "x",
                  "domain": [
                    0,
                    1
                  ],
                  "title": {
                    "text": "tip"
                  }
                }
              }
            }
          },
          "metadata": {},
          "output_type": "display_data"
        }
      ],
      "source": [
        "#Completar\n",
        "px.scatter(x='total_bill',y = 'tip',data_frame=df,color='day',size='tip')"
      ]
    },
    {
      "cell_type": "markdown",
      "metadata": {
        "id": "zoE54rziHLE3"
      },
      "source": [
        "4. Generar un scatter plot en 3d donde la variable **\"x\"** es \"total_bill\", la variable **\"y\"** es \"tip\" y la variable **\"z\"** es \"size\""
      ]
    },
    {
      "cell_type": "code",
      "execution_count": 79,
      "metadata": {
        "id": "_ff_E0BFT2Yi"
      },
      "outputs": [
        {
          "data": {
            "application/vnd.plotly.v1+json": {
              "config": {
                "plotlyServerURL": "https://plot.ly"
              },
              "data": [
                {
                  "hovertemplate": "total_bill=%{x}<br>tip=%{marker.size}<br>size=%{z}<extra></extra>",
                  "legendgroup": "",
                  "marker": {
                    "color": "#636efa",
                    "size": [
                      1.01,
                      1.66,
                      3.5,
                      3.31,
                      3.61,
                      4.71,
                      2,
                      3.12,
                      1.96,
                      3.23,
                      1.71,
                      5,
                      1.57,
                      3,
                      3.02,
                      3.92,
                      1.67,
                      3.71,
                      3.5,
                      3.35,
                      4.08,
                      2.75,
                      2.23,
                      7.58,
                      3.18,
                      2.34,
                      2,
                      2,
                      4.3,
                      3,
                      1.45,
                      2.5,
                      3,
                      2.45,
                      3.27,
                      3.6,
                      2,
                      3.07,
                      2.31,
                      5,
                      2.24,
                      2.54,
                      3.06,
                      1.32,
                      5.6,
                      3,
                      5,
                      6,
                      2.05,
                      3,
                      2.5,
                      2.6,
                      5.2,
                      1.56,
                      4.34,
                      3.51,
                      3,
                      1.5,
                      1.76,
                      6.73,
                      3.21,
                      2,
                      1.98,
                      3.76,
                      2.64,
                      3.15,
                      2.47,
                      1,
                      2.01,
                      2.09,
                      1.97,
                      3,
                      3.14,
                      5,
                      2.2,
                      1.25,
                      3.08,
                      4,
                      3,
                      2.71,
                      3,
                      3.4,
                      1.83,
                      5,
                      2.03,
                      5.17,
                      2,
                      4,
                      5.85,
                      3,
                      3,
                      3.5,
                      1,
                      4.3,
                      3.25,
                      4.73,
                      4,
                      1.5,
                      3,
                      1.5,
                      2.5,
                      3,
                      2.5,
                      3.48,
                      4.08,
                      1.64,
                      4.06,
                      4.29,
                      3.76,
                      4,
                      3,
                      1,
                      4,
                      2.55,
                      4,
                      3.5,
                      5.07,
                      1.5,
                      1.8,
                      2.92,
                      2.31,
                      1.68,
                      2.5,
                      2,
                      2.52,
                      4.2,
                      1.48,
                      2,
                      2,
                      2.18,
                      1.5,
                      2.83,
                      1.5,
                      2,
                      3.25,
                      1.25,
                      2,
                      2,
                      2,
                      2.75,
                      3.5,
                      6.7,
                      5,
                      5,
                      2.3,
                      1.5,
                      1.36,
                      1.63,
                      1.73,
                      2,
                      2.5,
                      2,
                      2.74,
                      2,
                      2,
                      5.14,
                      5,
                      3.75,
                      2.61,
                      2,
                      3.5,
                      2.5,
                      2,
                      2,
                      3,
                      3.48,
                      2.24,
                      4.5,
                      1.61,
                      2,
                      10,
                      3.16,
                      5.15,
                      3.18,
                      4,
                      3.11,
                      2,
                      2,
                      4,
                      3.55,
                      3.68,
                      5.65,
                      3.5,
                      6.5,
                      3,
                      5,
                      3.5,
                      2,
                      3.5,
                      4,
                      1.5,
                      4.19,
                      2.56,
                      2.02,
                      4,
                      1.44,
                      2,
                      5,
                      2,
                      2,
                      4,
                      2.01,
                      2,
                      2.5,
                      4,
                      3.23,
                      3.41,
                      3,
                      2.03,
                      2.23,
                      2,
                      5.16,
                      9,
                      2.5,
                      6.5,
                      1.1,
                      3,
                      1.5,
                      1.44,
                      3.09,
                      2.2,
                      3.48,
                      1.92,
                      3,
                      1.58,
                      2.5,
                      2,
                      3,
                      2.72,
                      2.88,
                      2,
                      3,
                      3.39,
                      1.47,
                      3,
                      1.25,
                      1,
                      1.17,
                      4.67,
                      5.92,
                      2,
                      2,
                      1.75,
                      3
                    ],
                    "sizemode": "area",
                    "sizeref": 0.025,
                    "symbol": "circle"
                  },
                  "mode": "markers",
                  "name": "",
                  "scene": "scene",
                  "showlegend": false,
                  "type": "scatter3d",
                  "x": [
                    16.99,
                    10.34,
                    21.01,
                    23.68,
                    24.59,
                    25.29,
                    8.77,
                    26.88,
                    15.04,
                    14.78,
                    10.27,
                    35.26,
                    15.42,
                    18.43,
                    14.83,
                    21.58,
                    10.33,
                    16.29,
                    16.97,
                    20.65,
                    17.92,
                    20.29,
                    15.77,
                    39.42,
                    19.82,
                    17.81,
                    13.37,
                    12.69,
                    21.7,
                    19.65,
                    9.55,
                    18.35,
                    15.06,
                    20.69,
                    17.78,
                    24.06,
                    16.31,
                    16.93,
                    18.69,
                    31.27,
                    16.04,
                    17.46,
                    13.94,
                    9.68,
                    30.4,
                    18.29,
                    22.23,
                    32.4,
                    28.55,
                    18.04,
                    12.54,
                    10.29,
                    34.81,
                    9.94,
                    25.56,
                    19.49,
                    38.01,
                    26.41,
                    11.24,
                    48.27,
                    20.29,
                    13.81,
                    11.02,
                    18.29,
                    17.59,
                    20.08,
                    16.45,
                    3.07,
                    20.23,
                    15.01,
                    12.02,
                    17.07,
                    26.86,
                    25.28,
                    14.73,
                    10.51,
                    17.92,
                    27.2,
                    22.76,
                    17.29,
                    19.44,
                    16.66,
                    10.07,
                    32.68,
                    15.98,
                    34.83,
                    13.03,
                    18.28,
                    24.71,
                    21.16,
                    28.97,
                    22.49,
                    5.75,
                    16.32,
                    22.75,
                    40.17,
                    27.28,
                    12.03,
                    21.01,
                    12.46,
                    11.35,
                    15.38,
                    44.3,
                    22.42,
                    20.92,
                    15.36,
                    20.49,
                    25.21,
                    18.24,
                    14.31,
                    14,
                    7.25,
                    38.07,
                    23.95,
                    25.71,
                    17.31,
                    29.93,
                    10.65,
                    12.43,
                    24.08,
                    11.69,
                    13.42,
                    14.26,
                    15.95,
                    12.48,
                    29.8,
                    8.52,
                    14.52,
                    11.38,
                    22.82,
                    19.08,
                    20.27,
                    11.17,
                    12.26,
                    18.26,
                    8.51,
                    10.33,
                    14.15,
                    16,
                    13.16,
                    17.47,
                    34.3,
                    41.19,
                    27.05,
                    16.43,
                    8.35,
                    18.64,
                    11.87,
                    9.78,
                    7.51,
                    14.07,
                    13.13,
                    17.26,
                    24.55,
                    19.77,
                    29.85,
                    48.17,
                    25,
                    13.39,
                    16.49,
                    21.5,
                    12.66,
                    16.21,
                    13.81,
                    17.51,
                    24.52,
                    20.76,
                    31.71,
                    10.59,
                    10.63,
                    50.81,
                    15.81,
                    7.25,
                    31.85,
                    16.82,
                    32.9,
                    17.89,
                    14.48,
                    9.6,
                    34.63,
                    34.65,
                    23.33,
                    45.35,
                    23.17,
                    40.55,
                    20.69,
                    20.9,
                    30.46,
                    18.15,
                    23.1,
                    15.69,
                    19.81,
                    28.44,
                    15.48,
                    16.58,
                    7.56,
                    10.34,
                    43.11,
                    13,
                    13.51,
                    18.71,
                    12.74,
                    13,
                    16.4,
                    20.53,
                    16.47,
                    26.59,
                    38.73,
                    24.27,
                    12.76,
                    30.06,
                    25.89,
                    48.33,
                    13.27,
                    28.17,
                    12.9,
                    28.15,
                    11.59,
                    7.74,
                    30.14,
                    12.16,
                    13.42,
                    8.58,
                    15.98,
                    13.42,
                    16.27,
                    10.09,
                    20.45,
                    13.28,
                    22.12,
                    24.01,
                    15.69,
                    11.61,
                    10.77,
                    15.53,
                    10.07,
                    12.6,
                    32.83,
                    35.83,
                    29.03,
                    27.18,
                    22.67,
                    17.82,
                    18.78
                  ],
                  "y": [
                    1.01,
                    1.66,
                    3.5,
                    3.31,
                    3.61,
                    4.71,
                    2,
                    3.12,
                    1.96,
                    3.23,
                    1.71,
                    5,
                    1.57,
                    3,
                    3.02,
                    3.92,
                    1.67,
                    3.71,
                    3.5,
                    3.35,
                    4.08,
                    2.75,
                    2.23,
                    7.58,
                    3.18,
                    2.34,
                    2,
                    2,
                    4.3,
                    3,
                    1.45,
                    2.5,
                    3,
                    2.45,
                    3.27,
                    3.6,
                    2,
                    3.07,
                    2.31,
                    5,
                    2.24,
                    2.54,
                    3.06,
                    1.32,
                    5.6,
                    3,
                    5,
                    6,
                    2.05,
                    3,
                    2.5,
                    2.6,
                    5.2,
                    1.56,
                    4.34,
                    3.51,
                    3,
                    1.5,
                    1.76,
                    6.73,
                    3.21,
                    2,
                    1.98,
                    3.76,
                    2.64,
                    3.15,
                    2.47,
                    1,
                    2.01,
                    2.09,
                    1.97,
                    3,
                    3.14,
                    5,
                    2.2,
                    1.25,
                    3.08,
                    4,
                    3,
                    2.71,
                    3,
                    3.4,
                    1.83,
                    5,
                    2.03,
                    5.17,
                    2,
                    4,
                    5.85,
                    3,
                    3,
                    3.5,
                    1,
                    4.3,
                    3.25,
                    4.73,
                    4,
                    1.5,
                    3,
                    1.5,
                    2.5,
                    3,
                    2.5,
                    3.48,
                    4.08,
                    1.64,
                    4.06,
                    4.29,
                    3.76,
                    4,
                    3,
                    1,
                    4,
                    2.55,
                    4,
                    3.5,
                    5.07,
                    1.5,
                    1.8,
                    2.92,
                    2.31,
                    1.68,
                    2.5,
                    2,
                    2.52,
                    4.2,
                    1.48,
                    2,
                    2,
                    2.18,
                    1.5,
                    2.83,
                    1.5,
                    2,
                    3.25,
                    1.25,
                    2,
                    2,
                    2,
                    2.75,
                    3.5,
                    6.7,
                    5,
                    5,
                    2.3,
                    1.5,
                    1.36,
                    1.63,
                    1.73,
                    2,
                    2.5,
                    2,
                    2.74,
                    2,
                    2,
                    5.14,
                    5,
                    3.75,
                    2.61,
                    2,
                    3.5,
                    2.5,
                    2,
                    2,
                    3,
                    3.48,
                    2.24,
                    4.5,
                    1.61,
                    2,
                    10,
                    3.16,
                    5.15,
                    3.18,
                    4,
                    3.11,
                    2,
                    2,
                    4,
                    3.55,
                    3.68,
                    5.65,
                    3.5,
                    6.5,
                    3,
                    5,
                    3.5,
                    2,
                    3.5,
                    4,
                    1.5,
                    4.19,
                    2.56,
                    2.02,
                    4,
                    1.44,
                    2,
                    5,
                    2,
                    2,
                    4,
                    2.01,
                    2,
                    2.5,
                    4,
                    3.23,
                    3.41,
                    3,
                    2.03,
                    2.23,
                    2,
                    5.16,
                    9,
                    2.5,
                    6.5,
                    1.1,
                    3,
                    1.5,
                    1.44,
                    3.09,
                    2.2,
                    3.48,
                    1.92,
                    3,
                    1.58,
                    2.5,
                    2,
                    3,
                    2.72,
                    2.88,
                    2,
                    3,
                    3.39,
                    1.47,
                    3,
                    1.25,
                    1,
                    1.17,
                    4.67,
                    5.92,
                    2,
                    2,
                    1.75,
                    3
                  ],
                  "z": [
                    2,
                    3,
                    3,
                    2,
                    4,
                    4,
                    2,
                    4,
                    2,
                    2,
                    2,
                    4,
                    2,
                    4,
                    2,
                    2,
                    3,
                    3,
                    3,
                    3,
                    2,
                    2,
                    2,
                    4,
                    2,
                    4,
                    2,
                    2,
                    2,
                    2,
                    2,
                    4,
                    2,
                    4,
                    2,
                    3,
                    3,
                    3,
                    3,
                    3,
                    3,
                    2,
                    2,
                    2,
                    4,
                    2,
                    2,
                    4,
                    3,
                    2,
                    2,
                    2,
                    4,
                    2,
                    4,
                    2,
                    4,
                    2,
                    2,
                    4,
                    2,
                    2,
                    2,
                    4,
                    3,
                    3,
                    2,
                    1,
                    2,
                    2,
                    2,
                    3,
                    2,
                    2,
                    2,
                    2,
                    2,
                    4,
                    2,
                    2,
                    2,
                    2,
                    1,
                    2,
                    2,
                    4,
                    2,
                    2,
                    2,
                    2,
                    2,
                    2,
                    2,
                    2,
                    2,
                    4,
                    2,
                    2,
                    2,
                    2,
                    2,
                    2,
                    3,
                    2,
                    2,
                    2,
                    2,
                    2,
                    2,
                    2,
                    2,
                    1,
                    3,
                    2,
                    3,
                    2,
                    4,
                    2,
                    2,
                    4,
                    2,
                    2,
                    2,
                    2,
                    2,
                    6,
                    2,
                    2,
                    2,
                    3,
                    2,
                    2,
                    2,
                    2,
                    2,
                    2,
                    2,
                    2,
                    2,
                    2,
                    2,
                    6,
                    5,
                    6,
                    2,
                    2,
                    3,
                    2,
                    2,
                    2,
                    2,
                    2,
                    3,
                    4,
                    4,
                    5,
                    6,
                    4,
                    2,
                    4,
                    4,
                    2,
                    3,
                    2,
                    2,
                    3,
                    2,
                    4,
                    2,
                    2,
                    3,
                    2,
                    2,
                    2,
                    2,
                    2,
                    2,
                    2,
                    2,
                    2,
                    4,
                    2,
                    3,
                    4,
                    2,
                    5,
                    3,
                    5,
                    3,
                    3,
                    2,
                    2,
                    2,
                    2,
                    2,
                    2,
                    2,
                    4,
                    2,
                    2,
                    3,
                    2,
                    2,
                    2,
                    4,
                    3,
                    3,
                    4,
                    2,
                    2,
                    3,
                    4,
                    4,
                    2,
                    3,
                    2,
                    5,
                    2,
                    2,
                    4,
                    2,
                    2,
                    1,
                    3,
                    2,
                    2,
                    2,
                    4,
                    2,
                    2,
                    4,
                    3,
                    2,
                    2,
                    2,
                    2,
                    2,
                    2,
                    3,
                    3,
                    2,
                    2,
                    2,
                    2
                  ]
                }
              ],
              "layout": {
                "legend": {
                  "itemsizing": "constant",
                  "tracegroupgap": 0
                },
                "margin": {
                  "t": 60
                },
                "scene": {
                  "domain": {
                    "x": [
                      0,
                      1
                    ],
                    "y": [
                      0,
                      1
                    ]
                  },
                  "xaxis": {
                    "title": {
                      "text": "total_bill"
                    }
                  },
                  "yaxis": {
                    "title": {
                      "text": "tip"
                    }
                  },
                  "zaxis": {
                    "title": {
                      "text": "size"
                    }
                  }
                },
                "template": {
                  "data": {
                    "bar": [
                      {
                        "error_x": {
                          "color": "#2a3f5f"
                        },
                        "error_y": {
                          "color": "#2a3f5f"
                        },
                        "marker": {
                          "line": {
                            "color": "#E5ECF6",
                            "width": 0.5
                          },
                          "pattern": {
                            "fillmode": "overlay",
                            "size": 10,
                            "solidity": 0.2
                          }
                        },
                        "type": "bar"
                      }
                    ],
                    "barpolar": [
                      {
                        "marker": {
                          "line": {
                            "color": "#E5ECF6",
                            "width": 0.5
                          },
                          "pattern": {
                            "fillmode": "overlay",
                            "size": 10,
                            "solidity": 0.2
                          }
                        },
                        "type": "barpolar"
                      }
                    ],
                    "carpet": [
                      {
                        "aaxis": {
                          "endlinecolor": "#2a3f5f",
                          "gridcolor": "white",
                          "linecolor": "white",
                          "minorgridcolor": "white",
                          "startlinecolor": "#2a3f5f"
                        },
                        "baxis": {
                          "endlinecolor": "#2a3f5f",
                          "gridcolor": "white",
                          "linecolor": "white",
                          "minorgridcolor": "white",
                          "startlinecolor": "#2a3f5f"
                        },
                        "type": "carpet"
                      }
                    ],
                    "choropleth": [
                      {
                        "colorbar": {
                          "outlinewidth": 0,
                          "ticks": ""
                        },
                        "type": "choropleth"
                      }
                    ],
                    "contour": [
                      {
                        "colorbar": {
                          "outlinewidth": 0,
                          "ticks": ""
                        },
                        "colorscale": [
                          [
                            0,
                            "#0d0887"
                          ],
                          [
                            0.1111111111111111,
                            "#46039f"
                          ],
                          [
                            0.2222222222222222,
                            "#7201a8"
                          ],
                          [
                            0.3333333333333333,
                            "#9c179e"
                          ],
                          [
                            0.4444444444444444,
                            "#bd3786"
                          ],
                          [
                            0.5555555555555556,
                            "#d8576b"
                          ],
                          [
                            0.6666666666666666,
                            "#ed7953"
                          ],
                          [
                            0.7777777777777778,
                            "#fb9f3a"
                          ],
                          [
                            0.8888888888888888,
                            "#fdca26"
                          ],
                          [
                            1,
                            "#f0f921"
                          ]
                        ],
                        "type": "contour"
                      }
                    ],
                    "contourcarpet": [
                      {
                        "colorbar": {
                          "outlinewidth": 0,
                          "ticks": ""
                        },
                        "type": "contourcarpet"
                      }
                    ],
                    "heatmap": [
                      {
                        "colorbar": {
                          "outlinewidth": 0,
                          "ticks": ""
                        },
                        "colorscale": [
                          [
                            0,
                            "#0d0887"
                          ],
                          [
                            0.1111111111111111,
                            "#46039f"
                          ],
                          [
                            0.2222222222222222,
                            "#7201a8"
                          ],
                          [
                            0.3333333333333333,
                            "#9c179e"
                          ],
                          [
                            0.4444444444444444,
                            "#bd3786"
                          ],
                          [
                            0.5555555555555556,
                            "#d8576b"
                          ],
                          [
                            0.6666666666666666,
                            "#ed7953"
                          ],
                          [
                            0.7777777777777778,
                            "#fb9f3a"
                          ],
                          [
                            0.8888888888888888,
                            "#fdca26"
                          ],
                          [
                            1,
                            "#f0f921"
                          ]
                        ],
                        "type": "heatmap"
                      }
                    ],
                    "heatmapgl": [
                      {
                        "colorbar": {
                          "outlinewidth": 0,
                          "ticks": ""
                        },
                        "colorscale": [
                          [
                            0,
                            "#0d0887"
                          ],
                          [
                            0.1111111111111111,
                            "#46039f"
                          ],
                          [
                            0.2222222222222222,
                            "#7201a8"
                          ],
                          [
                            0.3333333333333333,
                            "#9c179e"
                          ],
                          [
                            0.4444444444444444,
                            "#bd3786"
                          ],
                          [
                            0.5555555555555556,
                            "#d8576b"
                          ],
                          [
                            0.6666666666666666,
                            "#ed7953"
                          ],
                          [
                            0.7777777777777778,
                            "#fb9f3a"
                          ],
                          [
                            0.8888888888888888,
                            "#fdca26"
                          ],
                          [
                            1,
                            "#f0f921"
                          ]
                        ],
                        "type": "heatmapgl"
                      }
                    ],
                    "histogram": [
                      {
                        "marker": {
                          "pattern": {
                            "fillmode": "overlay",
                            "size": 10,
                            "solidity": 0.2
                          }
                        },
                        "type": "histogram"
                      }
                    ],
                    "histogram2d": [
                      {
                        "colorbar": {
                          "outlinewidth": 0,
                          "ticks": ""
                        },
                        "colorscale": [
                          [
                            0,
                            "#0d0887"
                          ],
                          [
                            0.1111111111111111,
                            "#46039f"
                          ],
                          [
                            0.2222222222222222,
                            "#7201a8"
                          ],
                          [
                            0.3333333333333333,
                            "#9c179e"
                          ],
                          [
                            0.4444444444444444,
                            "#bd3786"
                          ],
                          [
                            0.5555555555555556,
                            "#d8576b"
                          ],
                          [
                            0.6666666666666666,
                            "#ed7953"
                          ],
                          [
                            0.7777777777777778,
                            "#fb9f3a"
                          ],
                          [
                            0.8888888888888888,
                            "#fdca26"
                          ],
                          [
                            1,
                            "#f0f921"
                          ]
                        ],
                        "type": "histogram2d"
                      }
                    ],
                    "histogram2dcontour": [
                      {
                        "colorbar": {
                          "outlinewidth": 0,
                          "ticks": ""
                        },
                        "colorscale": [
                          [
                            0,
                            "#0d0887"
                          ],
                          [
                            0.1111111111111111,
                            "#46039f"
                          ],
                          [
                            0.2222222222222222,
                            "#7201a8"
                          ],
                          [
                            0.3333333333333333,
                            "#9c179e"
                          ],
                          [
                            0.4444444444444444,
                            "#bd3786"
                          ],
                          [
                            0.5555555555555556,
                            "#d8576b"
                          ],
                          [
                            0.6666666666666666,
                            "#ed7953"
                          ],
                          [
                            0.7777777777777778,
                            "#fb9f3a"
                          ],
                          [
                            0.8888888888888888,
                            "#fdca26"
                          ],
                          [
                            1,
                            "#f0f921"
                          ]
                        ],
                        "type": "histogram2dcontour"
                      }
                    ],
                    "mesh3d": [
                      {
                        "colorbar": {
                          "outlinewidth": 0,
                          "ticks": ""
                        },
                        "type": "mesh3d"
                      }
                    ],
                    "parcoords": [
                      {
                        "line": {
                          "colorbar": {
                            "outlinewidth": 0,
                            "ticks": ""
                          }
                        },
                        "type": "parcoords"
                      }
                    ],
                    "pie": [
                      {
                        "automargin": true,
                        "type": "pie"
                      }
                    ],
                    "scatter": [
                      {
                        "fillpattern": {
                          "fillmode": "overlay",
                          "size": 10,
                          "solidity": 0.2
                        },
                        "type": "scatter"
                      }
                    ],
                    "scatter3d": [
                      {
                        "line": {
                          "colorbar": {
                            "outlinewidth": 0,
                            "ticks": ""
                          }
                        },
                        "marker": {
                          "colorbar": {
                            "outlinewidth": 0,
                            "ticks": ""
                          }
                        },
                        "type": "scatter3d"
                      }
                    ],
                    "scattercarpet": [
                      {
                        "marker": {
                          "colorbar": {
                            "outlinewidth": 0,
                            "ticks": ""
                          }
                        },
                        "type": "scattercarpet"
                      }
                    ],
                    "scattergeo": [
                      {
                        "marker": {
                          "colorbar": {
                            "outlinewidth": 0,
                            "ticks": ""
                          }
                        },
                        "type": "scattergeo"
                      }
                    ],
                    "scattergl": [
                      {
                        "marker": {
                          "colorbar": {
                            "outlinewidth": 0,
                            "ticks": ""
                          }
                        },
                        "type": "scattergl"
                      }
                    ],
                    "scattermapbox": [
                      {
                        "marker": {
                          "colorbar": {
                            "outlinewidth": 0,
                            "ticks": ""
                          }
                        },
                        "type": "scattermapbox"
                      }
                    ],
                    "scatterpolar": [
                      {
                        "marker": {
                          "colorbar": {
                            "outlinewidth": 0,
                            "ticks": ""
                          }
                        },
                        "type": "scatterpolar"
                      }
                    ],
                    "scatterpolargl": [
                      {
                        "marker": {
                          "colorbar": {
                            "outlinewidth": 0,
                            "ticks": ""
                          }
                        },
                        "type": "scatterpolargl"
                      }
                    ],
                    "scatterternary": [
                      {
                        "marker": {
                          "colorbar": {
                            "outlinewidth": 0,
                            "ticks": ""
                          }
                        },
                        "type": "scatterternary"
                      }
                    ],
                    "surface": [
                      {
                        "colorbar": {
                          "outlinewidth": 0,
                          "ticks": ""
                        },
                        "colorscale": [
                          [
                            0,
                            "#0d0887"
                          ],
                          [
                            0.1111111111111111,
                            "#46039f"
                          ],
                          [
                            0.2222222222222222,
                            "#7201a8"
                          ],
                          [
                            0.3333333333333333,
                            "#9c179e"
                          ],
                          [
                            0.4444444444444444,
                            "#bd3786"
                          ],
                          [
                            0.5555555555555556,
                            "#d8576b"
                          ],
                          [
                            0.6666666666666666,
                            "#ed7953"
                          ],
                          [
                            0.7777777777777778,
                            "#fb9f3a"
                          ],
                          [
                            0.8888888888888888,
                            "#fdca26"
                          ],
                          [
                            1,
                            "#f0f921"
                          ]
                        ],
                        "type": "surface"
                      }
                    ],
                    "table": [
                      {
                        "cells": {
                          "fill": {
                            "color": "#EBF0F8"
                          },
                          "line": {
                            "color": "white"
                          }
                        },
                        "header": {
                          "fill": {
                            "color": "#C8D4E3"
                          },
                          "line": {
                            "color": "white"
                          }
                        },
                        "type": "table"
                      }
                    ]
                  },
                  "layout": {
                    "annotationdefaults": {
                      "arrowcolor": "#2a3f5f",
                      "arrowhead": 0,
                      "arrowwidth": 1
                    },
                    "autotypenumbers": "strict",
                    "coloraxis": {
                      "colorbar": {
                        "outlinewidth": 0,
                        "ticks": ""
                      }
                    },
                    "colorscale": {
                      "diverging": [
                        [
                          0,
                          "#8e0152"
                        ],
                        [
                          0.1,
                          "#c51b7d"
                        ],
                        [
                          0.2,
                          "#de77ae"
                        ],
                        [
                          0.3,
                          "#f1b6da"
                        ],
                        [
                          0.4,
                          "#fde0ef"
                        ],
                        [
                          0.5,
                          "#f7f7f7"
                        ],
                        [
                          0.6,
                          "#e6f5d0"
                        ],
                        [
                          0.7,
                          "#b8e186"
                        ],
                        [
                          0.8,
                          "#7fbc41"
                        ],
                        [
                          0.9,
                          "#4d9221"
                        ],
                        [
                          1,
                          "#276419"
                        ]
                      ],
                      "sequential": [
                        [
                          0,
                          "#0d0887"
                        ],
                        [
                          0.1111111111111111,
                          "#46039f"
                        ],
                        [
                          0.2222222222222222,
                          "#7201a8"
                        ],
                        [
                          0.3333333333333333,
                          "#9c179e"
                        ],
                        [
                          0.4444444444444444,
                          "#bd3786"
                        ],
                        [
                          0.5555555555555556,
                          "#d8576b"
                        ],
                        [
                          0.6666666666666666,
                          "#ed7953"
                        ],
                        [
                          0.7777777777777778,
                          "#fb9f3a"
                        ],
                        [
                          0.8888888888888888,
                          "#fdca26"
                        ],
                        [
                          1,
                          "#f0f921"
                        ]
                      ],
                      "sequentialminus": [
                        [
                          0,
                          "#0d0887"
                        ],
                        [
                          0.1111111111111111,
                          "#46039f"
                        ],
                        [
                          0.2222222222222222,
                          "#7201a8"
                        ],
                        [
                          0.3333333333333333,
                          "#9c179e"
                        ],
                        [
                          0.4444444444444444,
                          "#bd3786"
                        ],
                        [
                          0.5555555555555556,
                          "#d8576b"
                        ],
                        [
                          0.6666666666666666,
                          "#ed7953"
                        ],
                        [
                          0.7777777777777778,
                          "#fb9f3a"
                        ],
                        [
                          0.8888888888888888,
                          "#fdca26"
                        ],
                        [
                          1,
                          "#f0f921"
                        ]
                      ]
                    },
                    "colorway": [
                      "#636efa",
                      "#EF553B",
                      "#00cc96",
                      "#ab63fa",
                      "#FFA15A",
                      "#19d3f3",
                      "#FF6692",
                      "#B6E880",
                      "#FF97FF",
                      "#FECB52"
                    ],
                    "font": {
                      "color": "#2a3f5f"
                    },
                    "geo": {
                      "bgcolor": "white",
                      "lakecolor": "white",
                      "landcolor": "#E5ECF6",
                      "showlakes": true,
                      "showland": true,
                      "subunitcolor": "white"
                    },
                    "hoverlabel": {
                      "align": "left"
                    },
                    "hovermode": "closest",
                    "mapbox": {
                      "style": "light"
                    },
                    "paper_bgcolor": "white",
                    "plot_bgcolor": "#E5ECF6",
                    "polar": {
                      "angularaxis": {
                        "gridcolor": "white",
                        "linecolor": "white",
                        "ticks": ""
                      },
                      "bgcolor": "#E5ECF6",
                      "radialaxis": {
                        "gridcolor": "white",
                        "linecolor": "white",
                        "ticks": ""
                      }
                    },
                    "scene": {
                      "xaxis": {
                        "backgroundcolor": "#E5ECF6",
                        "gridcolor": "white",
                        "gridwidth": 2,
                        "linecolor": "white",
                        "showbackground": true,
                        "ticks": "",
                        "zerolinecolor": "white"
                      },
                      "yaxis": {
                        "backgroundcolor": "#E5ECF6",
                        "gridcolor": "white",
                        "gridwidth": 2,
                        "linecolor": "white",
                        "showbackground": true,
                        "ticks": "",
                        "zerolinecolor": "white"
                      },
                      "zaxis": {
                        "backgroundcolor": "#E5ECF6",
                        "gridcolor": "white",
                        "gridwidth": 2,
                        "linecolor": "white",
                        "showbackground": true,
                        "ticks": "",
                        "zerolinecolor": "white"
                      }
                    },
                    "shapedefaults": {
                      "line": {
                        "color": "#2a3f5f"
                      }
                    },
                    "ternary": {
                      "aaxis": {
                        "gridcolor": "white",
                        "linecolor": "white",
                        "ticks": ""
                      },
                      "baxis": {
                        "gridcolor": "white",
                        "linecolor": "white",
                        "ticks": ""
                      },
                      "bgcolor": "#E5ECF6",
                      "caxis": {
                        "gridcolor": "white",
                        "linecolor": "white",
                        "ticks": ""
                      }
                    },
                    "title": {
                      "x": 0.05
                    },
                    "xaxis": {
                      "automargin": true,
                      "gridcolor": "white",
                      "linecolor": "white",
                      "ticks": "",
                      "title": {
                        "standoff": 15
                      },
                      "zerolinecolor": "white",
                      "zerolinewidth": 2
                    },
                    "yaxis": {
                      "automargin": true,
                      "gridcolor": "white",
                      "linecolor": "white",
                      "ticks": "",
                      "title": {
                        "standoff": 15
                      },
                      "zerolinecolor": "white",
                      "zerolinewidth": 2
                    }
                  }
                }
              }
            }
          },
          "metadata": {},
          "output_type": "display_data"
        }
      ],
      "source": [
        "#Completar\n",
        "px.scatter_3d(x='total_bill',y = 'tip', z='size',data_frame=df,size='tip')"
      ]
    },
    {
      "cell_type": "markdown",
      "metadata": {
        "id": "QYX5dylVHfjn"
      },
      "source": [
        "5. Modificar el grafico anterior y asignar un color en base a la variable \"day\"\n"
      ]
    },
    {
      "cell_type": "code",
      "execution_count": 80,
      "metadata": {
        "id": "uJtU9nt4Ujeu"
      },
      "outputs": [
        {
          "data": {
            "application/vnd.plotly.v1+json": {
              "config": {
                "plotlyServerURL": "https://plot.ly"
              },
              "data": [
                {
                  "hovertemplate": "day=Sun<br>total_bill=%{x}<br>tip=%{marker.size}<br>size=%{z}<extra></extra>",
                  "legendgroup": "Sun",
                  "marker": {
                    "color": "#636efa",
                    "size": [
                      1.01,
                      1.66,
                      3.5,
                      3.31,
                      3.61,
                      4.71,
                      2,
                      3.12,
                      1.96,
                      3.23,
                      1.71,
                      5,
                      1.57,
                      3,
                      3.02,
                      3.92,
                      1.67,
                      3.71,
                      3.5,
                      2.54,
                      3.06,
                      1.32,
                      5.6,
                      3,
                      5,
                      6,
                      2.05,
                      3,
                      2.5,
                      2.6,
                      5.2,
                      1.56,
                      4.34,
                      3.51,
                      4,
                      2.55,
                      4,
                      3.5,
                      5.07,
                      2.5,
                      2,
                      2.74,
                      2,
                      2,
                      5.14,
                      5,
                      3.75,
                      2.61,
                      2,
                      3.5,
                      2.5,
                      2,
                      2,
                      3,
                      3.48,
                      2.24,
                      4.5,
                      5.15,
                      3.18,
                      4,
                      3.11,
                      2,
                      2,
                      4,
                      3.55,
                      3.68,
                      5.65,
                      3.5,
                      6.5,
                      3,
                      5,
                      3.5,
                      2,
                      3.5,
                      4,
                      1.5
                    ],
                    "sizemode": "area",
                    "sizeref": 0.025,
                    "symbol": "circle"
                  },
                  "mode": "markers",
                  "name": "Sun",
                  "scene": "scene",
                  "showlegend": true,
                  "type": "scatter3d",
                  "x": [
                    16.99,
                    10.34,
                    21.01,
                    23.68,
                    24.59,
                    25.29,
                    8.77,
                    26.88,
                    15.04,
                    14.78,
                    10.27,
                    35.26,
                    15.42,
                    18.43,
                    14.83,
                    21.58,
                    10.33,
                    16.29,
                    16.97,
                    17.46,
                    13.94,
                    9.68,
                    30.4,
                    18.29,
                    22.23,
                    32.4,
                    28.55,
                    18.04,
                    12.54,
                    10.29,
                    34.81,
                    9.94,
                    25.56,
                    19.49,
                    38.07,
                    23.95,
                    25.71,
                    17.31,
                    29.93,
                    14.07,
                    13.13,
                    17.26,
                    24.55,
                    19.77,
                    29.85,
                    48.17,
                    25,
                    13.39,
                    16.49,
                    21.5,
                    12.66,
                    16.21,
                    13.81,
                    17.51,
                    24.52,
                    20.76,
                    31.71,
                    7.25,
                    31.85,
                    16.82,
                    32.9,
                    17.89,
                    14.48,
                    9.6,
                    34.63,
                    34.65,
                    23.33,
                    45.35,
                    23.17,
                    40.55,
                    20.69,
                    20.9,
                    30.46,
                    18.15,
                    23.1,
                    15.69
                  ],
                  "y": [
                    1.01,
                    1.66,
                    3.5,
                    3.31,
                    3.61,
                    4.71,
                    2,
                    3.12,
                    1.96,
                    3.23,
                    1.71,
                    5,
                    1.57,
                    3,
                    3.02,
                    3.92,
                    1.67,
                    3.71,
                    3.5,
                    2.54,
                    3.06,
                    1.32,
                    5.6,
                    3,
                    5,
                    6,
                    2.05,
                    3,
                    2.5,
                    2.6,
                    5.2,
                    1.56,
                    4.34,
                    3.51,
                    4,
                    2.55,
                    4,
                    3.5,
                    5.07,
                    2.5,
                    2,
                    2.74,
                    2,
                    2,
                    5.14,
                    5,
                    3.75,
                    2.61,
                    2,
                    3.5,
                    2.5,
                    2,
                    2,
                    3,
                    3.48,
                    2.24,
                    4.5,
                    5.15,
                    3.18,
                    4,
                    3.11,
                    2,
                    2,
                    4,
                    3.55,
                    3.68,
                    5.65,
                    3.5,
                    6.5,
                    3,
                    5,
                    3.5,
                    2,
                    3.5,
                    4,
                    1.5
                  ],
                  "z": [
                    2,
                    3,
                    3,
                    2,
                    4,
                    4,
                    2,
                    4,
                    2,
                    2,
                    2,
                    4,
                    2,
                    4,
                    2,
                    2,
                    3,
                    3,
                    3,
                    2,
                    2,
                    2,
                    4,
                    2,
                    2,
                    4,
                    3,
                    2,
                    2,
                    2,
                    4,
                    2,
                    4,
                    2,
                    3,
                    2,
                    3,
                    2,
                    4,
                    2,
                    2,
                    3,
                    4,
                    4,
                    5,
                    6,
                    4,
                    2,
                    4,
                    4,
                    2,
                    3,
                    2,
                    2,
                    3,
                    2,
                    4,
                    2,
                    2,
                    2,
                    2,
                    2,
                    2,
                    2,
                    2,
                    4,
                    2,
                    3,
                    4,
                    2,
                    5,
                    3,
                    5,
                    3,
                    3,
                    2
                  ]
                },
                {
                  "hovertemplate": "day=Sat<br>total_bill=%{x}<br>tip=%{marker.size}<br>size=%{z}<extra></extra>",
                  "legendgroup": "Sat",
                  "marker": {
                    "color": "#EF553B",
                    "size": [
                      3.35,
                      4.08,
                      2.75,
                      2.23,
                      7.58,
                      3.18,
                      2.34,
                      2,
                      2,
                      4.3,
                      3,
                      1.45,
                      2.5,
                      3,
                      2.45,
                      3.27,
                      3.6,
                      2,
                      3.07,
                      2.31,
                      5,
                      2.24,
                      3,
                      1.5,
                      1.76,
                      6.73,
                      3.21,
                      2,
                      1.98,
                      3.76,
                      2.64,
                      3.15,
                      2.47,
                      1,
                      2.01,
                      2.09,
                      1.97,
                      3,
                      3.14,
                      5,
                      2.2,
                      1.25,
                      3.08,
                      2.5,
                      3.48,
                      4.08,
                      1.64,
                      4.06,
                      4.29,
                      3.76,
                      4,
                      3,
                      1,
                      1.61,
                      2,
                      10,
                      3.16,
                      3.41,
                      3,
                      2.03,
                      2.23,
                      2,
                      5.16,
                      9,
                      2.5,
                      6.5,
                      1.1,
                      3,
                      1.5,
                      1.44,
                      3.09,
                      3,
                      2.72,
                      2.88,
                      2,
                      3,
                      3.39,
                      1.47,
                      3,
                      1.25,
                      1,
                      1.17,
                      4.67,
                      5.92,
                      2,
                      2,
                      1.75
                    ],
                    "sizemode": "area",
                    "sizeref": 0.025,
                    "symbol": "circle"
                  },
                  "mode": "markers",
                  "name": "Sat",
                  "scene": "scene",
                  "showlegend": true,
                  "type": "scatter3d",
                  "x": [
                    20.65,
                    17.92,
                    20.29,
                    15.77,
                    39.42,
                    19.82,
                    17.81,
                    13.37,
                    12.69,
                    21.7,
                    19.65,
                    9.55,
                    18.35,
                    15.06,
                    20.69,
                    17.78,
                    24.06,
                    16.31,
                    16.93,
                    18.69,
                    31.27,
                    16.04,
                    38.01,
                    26.41,
                    11.24,
                    48.27,
                    20.29,
                    13.81,
                    11.02,
                    18.29,
                    17.59,
                    20.08,
                    16.45,
                    3.07,
                    20.23,
                    15.01,
                    12.02,
                    17.07,
                    26.86,
                    25.28,
                    14.73,
                    10.51,
                    17.92,
                    44.3,
                    22.42,
                    20.92,
                    15.36,
                    20.49,
                    25.21,
                    18.24,
                    14.31,
                    14,
                    7.25,
                    10.59,
                    10.63,
                    50.81,
                    15.81,
                    26.59,
                    38.73,
                    24.27,
                    12.76,
                    30.06,
                    25.89,
                    48.33,
                    13.27,
                    28.17,
                    12.9,
                    28.15,
                    11.59,
                    7.74,
                    30.14,
                    20.45,
                    13.28,
                    22.12,
                    24.01,
                    15.69,
                    11.61,
                    10.77,
                    15.53,
                    10.07,
                    12.6,
                    32.83,
                    35.83,
                    29.03,
                    27.18,
                    22.67,
                    17.82
                  ],
                  "y": [
                    3.35,
                    4.08,
                    2.75,
                    2.23,
                    7.58,
                    3.18,
                    2.34,
                    2,
                    2,
                    4.3,
                    3,
                    1.45,
                    2.5,
                    3,
                    2.45,
                    3.27,
                    3.6,
                    2,
                    3.07,
                    2.31,
                    5,
                    2.24,
                    3,
                    1.5,
                    1.76,
                    6.73,
                    3.21,
                    2,
                    1.98,
                    3.76,
                    2.64,
                    3.15,
                    2.47,
                    1,
                    2.01,
                    2.09,
                    1.97,
                    3,
                    3.14,
                    5,
                    2.2,
                    1.25,
                    3.08,
                    2.5,
                    3.48,
                    4.08,
                    1.64,
                    4.06,
                    4.29,
                    3.76,
                    4,
                    3,
                    1,
                    1.61,
                    2,
                    10,
                    3.16,
                    3.41,
                    3,
                    2.03,
                    2.23,
                    2,
                    5.16,
                    9,
                    2.5,
                    6.5,
                    1.1,
                    3,
                    1.5,
                    1.44,
                    3.09,
                    3,
                    2.72,
                    2.88,
                    2,
                    3,
                    3.39,
                    1.47,
                    3,
                    1.25,
                    1,
                    1.17,
                    4.67,
                    5.92,
                    2,
                    2,
                    1.75
                  ],
                  "z": [
                    3,
                    2,
                    2,
                    2,
                    4,
                    2,
                    4,
                    2,
                    2,
                    2,
                    2,
                    2,
                    4,
                    2,
                    4,
                    2,
                    3,
                    3,
                    3,
                    3,
                    3,
                    3,
                    4,
                    2,
                    2,
                    4,
                    2,
                    2,
                    2,
                    4,
                    3,
                    3,
                    2,
                    1,
                    2,
                    2,
                    2,
                    3,
                    2,
                    2,
                    2,
                    2,
                    2,
                    3,
                    2,
                    2,
                    2,
                    2,
                    2,
                    2,
                    2,
                    2,
                    1,
                    2,
                    2,
                    3,
                    2,
                    3,
                    4,
                    2,
                    2,
                    3,
                    4,
                    4,
                    2,
                    3,
                    2,
                    5,
                    2,
                    2,
                    4,
                    4,
                    2,
                    2,
                    4,
                    3,
                    2,
                    2,
                    2,
                    2,
                    2,
                    2,
                    3,
                    3,
                    2,
                    2,
                    2
                  ]
                },
                {
                  "hovertemplate": "day=Thur<br>total_bill=%{x}<br>tip=%{marker.size}<br>size=%{z}<extra></extra>",
                  "legendgroup": "Thur",
                  "marker": {
                    "color": "#00cc96",
                    "size": [
                      4,
                      3,
                      2.71,
                      3,
                      3.4,
                      1.83,
                      5,
                      2.03,
                      5.17,
                      2,
                      4,
                      5.85,
                      3,
                      1.5,
                      1.8,
                      2.92,
                      2.31,
                      1.68,
                      2.5,
                      2,
                      2.52,
                      4.2,
                      1.48,
                      2,
                      2,
                      2.18,
                      1.5,
                      2.83,
                      1.5,
                      2,
                      3.25,
                      1.25,
                      2,
                      2,
                      2,
                      2.75,
                      3.5,
                      6.7,
                      5,
                      5,
                      2.3,
                      1.5,
                      1.36,
                      1.63,
                      1.73,
                      2,
                      4.19,
                      2.56,
                      2.02,
                      4,
                      1.44,
                      2,
                      5,
                      2,
                      2,
                      4,
                      2.01,
                      2,
                      2.5,
                      4,
                      3.23,
                      3
                    ],
                    "sizemode": "area",
                    "sizeref": 0.025,
                    "symbol": "circle"
                  },
                  "mode": "markers",
                  "name": "Thur",
                  "scene": "scene",
                  "showlegend": true,
                  "type": "scatter3d",
                  "x": [
                    27.2,
                    22.76,
                    17.29,
                    19.44,
                    16.66,
                    10.07,
                    32.68,
                    15.98,
                    34.83,
                    13.03,
                    18.28,
                    24.71,
                    21.16,
                    10.65,
                    12.43,
                    24.08,
                    11.69,
                    13.42,
                    14.26,
                    15.95,
                    12.48,
                    29.8,
                    8.52,
                    14.52,
                    11.38,
                    22.82,
                    19.08,
                    20.27,
                    11.17,
                    12.26,
                    18.26,
                    8.51,
                    10.33,
                    14.15,
                    16,
                    13.16,
                    17.47,
                    34.3,
                    41.19,
                    27.05,
                    16.43,
                    8.35,
                    18.64,
                    11.87,
                    9.78,
                    7.51,
                    19.81,
                    28.44,
                    15.48,
                    16.58,
                    7.56,
                    10.34,
                    43.11,
                    13,
                    13.51,
                    18.71,
                    12.74,
                    13,
                    16.4,
                    20.53,
                    16.47,
                    18.78
                  ],
                  "y": [
                    4,
                    3,
                    2.71,
                    3,
                    3.4,
                    1.83,
                    5,
                    2.03,
                    5.17,
                    2,
                    4,
                    5.85,
                    3,
                    1.5,
                    1.8,
                    2.92,
                    2.31,
                    1.68,
                    2.5,
                    2,
                    2.52,
                    4.2,
                    1.48,
                    2,
                    2,
                    2.18,
                    1.5,
                    2.83,
                    1.5,
                    2,
                    3.25,
                    1.25,
                    2,
                    2,
                    2,
                    2.75,
                    3.5,
                    6.7,
                    5,
                    5,
                    2.3,
                    1.5,
                    1.36,
                    1.63,
                    1.73,
                    2,
                    4.19,
                    2.56,
                    2.02,
                    4,
                    1.44,
                    2,
                    5,
                    2,
                    2,
                    4,
                    2.01,
                    2,
                    2.5,
                    4,
                    3.23,
                    3
                  ],
                  "z": [
                    4,
                    2,
                    2,
                    2,
                    2,
                    1,
                    2,
                    2,
                    4,
                    2,
                    2,
                    2,
                    2,
                    2,
                    2,
                    4,
                    2,
                    2,
                    2,
                    2,
                    2,
                    6,
                    2,
                    2,
                    2,
                    3,
                    2,
                    2,
                    2,
                    2,
                    2,
                    2,
                    2,
                    2,
                    2,
                    2,
                    2,
                    6,
                    5,
                    6,
                    2,
                    2,
                    3,
                    2,
                    2,
                    2,
                    2,
                    2,
                    2,
                    2,
                    2,
                    2,
                    4,
                    2,
                    2,
                    3,
                    2,
                    2,
                    2,
                    4,
                    3,
                    2
                  ]
                },
                {
                  "hovertemplate": "day=Fri<br>total_bill=%{x}<br>tip=%{marker.size}<br>size=%{z}<extra></extra>",
                  "legendgroup": "Fri",
                  "marker": {
                    "color": "#ab63fa",
                    "size": [
                      3,
                      3.5,
                      1,
                      4.3,
                      3.25,
                      4.73,
                      4,
                      1.5,
                      3,
                      1.5,
                      2.5,
                      3,
                      2.2,
                      3.48,
                      1.92,
                      3,
                      1.58,
                      2.5,
                      2
                    ],
                    "sizemode": "area",
                    "sizeref": 0.025,
                    "symbol": "circle"
                  },
                  "mode": "markers",
                  "name": "Fri",
                  "scene": "scene",
                  "showlegend": true,
                  "type": "scatter3d",
                  "x": [
                    28.97,
                    22.49,
                    5.75,
                    16.32,
                    22.75,
                    40.17,
                    27.28,
                    12.03,
                    21.01,
                    12.46,
                    11.35,
                    15.38,
                    12.16,
                    13.42,
                    8.58,
                    15.98,
                    13.42,
                    16.27,
                    10.09
                  ],
                  "y": [
                    3,
                    3.5,
                    1,
                    4.3,
                    3.25,
                    4.73,
                    4,
                    1.5,
                    3,
                    1.5,
                    2.5,
                    3,
                    2.2,
                    3.48,
                    1.92,
                    3,
                    1.58,
                    2.5,
                    2
                  ],
                  "z": [
                    2,
                    2,
                    2,
                    2,
                    2,
                    4,
                    2,
                    2,
                    2,
                    2,
                    2,
                    2,
                    2,
                    2,
                    1,
                    3,
                    2,
                    2,
                    2
                  ]
                }
              ],
              "layout": {
                "legend": {
                  "itemsizing": "constant",
                  "title": {
                    "text": "day"
                  },
                  "tracegroupgap": 0
                },
                "margin": {
                  "t": 60
                },
                "scene": {
                  "domain": {
                    "x": [
                      0,
                      1
                    ],
                    "y": [
                      0,
                      1
                    ]
                  },
                  "xaxis": {
                    "title": {
                      "text": "total_bill"
                    }
                  },
                  "yaxis": {
                    "title": {
                      "text": "tip"
                    }
                  },
                  "zaxis": {
                    "title": {
                      "text": "size"
                    }
                  }
                },
                "template": {
                  "data": {
                    "bar": [
                      {
                        "error_x": {
                          "color": "#2a3f5f"
                        },
                        "error_y": {
                          "color": "#2a3f5f"
                        },
                        "marker": {
                          "line": {
                            "color": "#E5ECF6",
                            "width": 0.5
                          },
                          "pattern": {
                            "fillmode": "overlay",
                            "size": 10,
                            "solidity": 0.2
                          }
                        },
                        "type": "bar"
                      }
                    ],
                    "barpolar": [
                      {
                        "marker": {
                          "line": {
                            "color": "#E5ECF6",
                            "width": 0.5
                          },
                          "pattern": {
                            "fillmode": "overlay",
                            "size": 10,
                            "solidity": 0.2
                          }
                        },
                        "type": "barpolar"
                      }
                    ],
                    "carpet": [
                      {
                        "aaxis": {
                          "endlinecolor": "#2a3f5f",
                          "gridcolor": "white",
                          "linecolor": "white",
                          "minorgridcolor": "white",
                          "startlinecolor": "#2a3f5f"
                        },
                        "baxis": {
                          "endlinecolor": "#2a3f5f",
                          "gridcolor": "white",
                          "linecolor": "white",
                          "minorgridcolor": "white",
                          "startlinecolor": "#2a3f5f"
                        },
                        "type": "carpet"
                      }
                    ],
                    "choropleth": [
                      {
                        "colorbar": {
                          "outlinewidth": 0,
                          "ticks": ""
                        },
                        "type": "choropleth"
                      }
                    ],
                    "contour": [
                      {
                        "colorbar": {
                          "outlinewidth": 0,
                          "ticks": ""
                        },
                        "colorscale": [
                          [
                            0,
                            "#0d0887"
                          ],
                          [
                            0.1111111111111111,
                            "#46039f"
                          ],
                          [
                            0.2222222222222222,
                            "#7201a8"
                          ],
                          [
                            0.3333333333333333,
                            "#9c179e"
                          ],
                          [
                            0.4444444444444444,
                            "#bd3786"
                          ],
                          [
                            0.5555555555555556,
                            "#d8576b"
                          ],
                          [
                            0.6666666666666666,
                            "#ed7953"
                          ],
                          [
                            0.7777777777777778,
                            "#fb9f3a"
                          ],
                          [
                            0.8888888888888888,
                            "#fdca26"
                          ],
                          [
                            1,
                            "#f0f921"
                          ]
                        ],
                        "type": "contour"
                      }
                    ],
                    "contourcarpet": [
                      {
                        "colorbar": {
                          "outlinewidth": 0,
                          "ticks": ""
                        },
                        "type": "contourcarpet"
                      }
                    ],
                    "heatmap": [
                      {
                        "colorbar": {
                          "outlinewidth": 0,
                          "ticks": ""
                        },
                        "colorscale": [
                          [
                            0,
                            "#0d0887"
                          ],
                          [
                            0.1111111111111111,
                            "#46039f"
                          ],
                          [
                            0.2222222222222222,
                            "#7201a8"
                          ],
                          [
                            0.3333333333333333,
                            "#9c179e"
                          ],
                          [
                            0.4444444444444444,
                            "#bd3786"
                          ],
                          [
                            0.5555555555555556,
                            "#d8576b"
                          ],
                          [
                            0.6666666666666666,
                            "#ed7953"
                          ],
                          [
                            0.7777777777777778,
                            "#fb9f3a"
                          ],
                          [
                            0.8888888888888888,
                            "#fdca26"
                          ],
                          [
                            1,
                            "#f0f921"
                          ]
                        ],
                        "type": "heatmap"
                      }
                    ],
                    "heatmapgl": [
                      {
                        "colorbar": {
                          "outlinewidth": 0,
                          "ticks": ""
                        },
                        "colorscale": [
                          [
                            0,
                            "#0d0887"
                          ],
                          [
                            0.1111111111111111,
                            "#46039f"
                          ],
                          [
                            0.2222222222222222,
                            "#7201a8"
                          ],
                          [
                            0.3333333333333333,
                            "#9c179e"
                          ],
                          [
                            0.4444444444444444,
                            "#bd3786"
                          ],
                          [
                            0.5555555555555556,
                            "#d8576b"
                          ],
                          [
                            0.6666666666666666,
                            "#ed7953"
                          ],
                          [
                            0.7777777777777778,
                            "#fb9f3a"
                          ],
                          [
                            0.8888888888888888,
                            "#fdca26"
                          ],
                          [
                            1,
                            "#f0f921"
                          ]
                        ],
                        "type": "heatmapgl"
                      }
                    ],
                    "histogram": [
                      {
                        "marker": {
                          "pattern": {
                            "fillmode": "overlay",
                            "size": 10,
                            "solidity": 0.2
                          }
                        },
                        "type": "histogram"
                      }
                    ],
                    "histogram2d": [
                      {
                        "colorbar": {
                          "outlinewidth": 0,
                          "ticks": ""
                        },
                        "colorscale": [
                          [
                            0,
                            "#0d0887"
                          ],
                          [
                            0.1111111111111111,
                            "#46039f"
                          ],
                          [
                            0.2222222222222222,
                            "#7201a8"
                          ],
                          [
                            0.3333333333333333,
                            "#9c179e"
                          ],
                          [
                            0.4444444444444444,
                            "#bd3786"
                          ],
                          [
                            0.5555555555555556,
                            "#d8576b"
                          ],
                          [
                            0.6666666666666666,
                            "#ed7953"
                          ],
                          [
                            0.7777777777777778,
                            "#fb9f3a"
                          ],
                          [
                            0.8888888888888888,
                            "#fdca26"
                          ],
                          [
                            1,
                            "#f0f921"
                          ]
                        ],
                        "type": "histogram2d"
                      }
                    ],
                    "histogram2dcontour": [
                      {
                        "colorbar": {
                          "outlinewidth": 0,
                          "ticks": ""
                        },
                        "colorscale": [
                          [
                            0,
                            "#0d0887"
                          ],
                          [
                            0.1111111111111111,
                            "#46039f"
                          ],
                          [
                            0.2222222222222222,
                            "#7201a8"
                          ],
                          [
                            0.3333333333333333,
                            "#9c179e"
                          ],
                          [
                            0.4444444444444444,
                            "#bd3786"
                          ],
                          [
                            0.5555555555555556,
                            "#d8576b"
                          ],
                          [
                            0.6666666666666666,
                            "#ed7953"
                          ],
                          [
                            0.7777777777777778,
                            "#fb9f3a"
                          ],
                          [
                            0.8888888888888888,
                            "#fdca26"
                          ],
                          [
                            1,
                            "#f0f921"
                          ]
                        ],
                        "type": "histogram2dcontour"
                      }
                    ],
                    "mesh3d": [
                      {
                        "colorbar": {
                          "outlinewidth": 0,
                          "ticks": ""
                        },
                        "type": "mesh3d"
                      }
                    ],
                    "parcoords": [
                      {
                        "line": {
                          "colorbar": {
                            "outlinewidth": 0,
                            "ticks": ""
                          }
                        },
                        "type": "parcoords"
                      }
                    ],
                    "pie": [
                      {
                        "automargin": true,
                        "type": "pie"
                      }
                    ],
                    "scatter": [
                      {
                        "fillpattern": {
                          "fillmode": "overlay",
                          "size": 10,
                          "solidity": 0.2
                        },
                        "type": "scatter"
                      }
                    ],
                    "scatter3d": [
                      {
                        "line": {
                          "colorbar": {
                            "outlinewidth": 0,
                            "ticks": ""
                          }
                        },
                        "marker": {
                          "colorbar": {
                            "outlinewidth": 0,
                            "ticks": ""
                          }
                        },
                        "type": "scatter3d"
                      }
                    ],
                    "scattercarpet": [
                      {
                        "marker": {
                          "colorbar": {
                            "outlinewidth": 0,
                            "ticks": ""
                          }
                        },
                        "type": "scattercarpet"
                      }
                    ],
                    "scattergeo": [
                      {
                        "marker": {
                          "colorbar": {
                            "outlinewidth": 0,
                            "ticks": ""
                          }
                        },
                        "type": "scattergeo"
                      }
                    ],
                    "scattergl": [
                      {
                        "marker": {
                          "colorbar": {
                            "outlinewidth": 0,
                            "ticks": ""
                          }
                        },
                        "type": "scattergl"
                      }
                    ],
                    "scattermapbox": [
                      {
                        "marker": {
                          "colorbar": {
                            "outlinewidth": 0,
                            "ticks": ""
                          }
                        },
                        "type": "scattermapbox"
                      }
                    ],
                    "scatterpolar": [
                      {
                        "marker": {
                          "colorbar": {
                            "outlinewidth": 0,
                            "ticks": ""
                          }
                        },
                        "type": "scatterpolar"
                      }
                    ],
                    "scatterpolargl": [
                      {
                        "marker": {
                          "colorbar": {
                            "outlinewidth": 0,
                            "ticks": ""
                          }
                        },
                        "type": "scatterpolargl"
                      }
                    ],
                    "scatterternary": [
                      {
                        "marker": {
                          "colorbar": {
                            "outlinewidth": 0,
                            "ticks": ""
                          }
                        },
                        "type": "scatterternary"
                      }
                    ],
                    "surface": [
                      {
                        "colorbar": {
                          "outlinewidth": 0,
                          "ticks": ""
                        },
                        "colorscale": [
                          [
                            0,
                            "#0d0887"
                          ],
                          [
                            0.1111111111111111,
                            "#46039f"
                          ],
                          [
                            0.2222222222222222,
                            "#7201a8"
                          ],
                          [
                            0.3333333333333333,
                            "#9c179e"
                          ],
                          [
                            0.4444444444444444,
                            "#bd3786"
                          ],
                          [
                            0.5555555555555556,
                            "#d8576b"
                          ],
                          [
                            0.6666666666666666,
                            "#ed7953"
                          ],
                          [
                            0.7777777777777778,
                            "#fb9f3a"
                          ],
                          [
                            0.8888888888888888,
                            "#fdca26"
                          ],
                          [
                            1,
                            "#f0f921"
                          ]
                        ],
                        "type": "surface"
                      }
                    ],
                    "table": [
                      {
                        "cells": {
                          "fill": {
                            "color": "#EBF0F8"
                          },
                          "line": {
                            "color": "white"
                          }
                        },
                        "header": {
                          "fill": {
                            "color": "#C8D4E3"
                          },
                          "line": {
                            "color": "white"
                          }
                        },
                        "type": "table"
                      }
                    ]
                  },
                  "layout": {
                    "annotationdefaults": {
                      "arrowcolor": "#2a3f5f",
                      "arrowhead": 0,
                      "arrowwidth": 1
                    },
                    "autotypenumbers": "strict",
                    "coloraxis": {
                      "colorbar": {
                        "outlinewidth": 0,
                        "ticks": ""
                      }
                    },
                    "colorscale": {
                      "diverging": [
                        [
                          0,
                          "#8e0152"
                        ],
                        [
                          0.1,
                          "#c51b7d"
                        ],
                        [
                          0.2,
                          "#de77ae"
                        ],
                        [
                          0.3,
                          "#f1b6da"
                        ],
                        [
                          0.4,
                          "#fde0ef"
                        ],
                        [
                          0.5,
                          "#f7f7f7"
                        ],
                        [
                          0.6,
                          "#e6f5d0"
                        ],
                        [
                          0.7,
                          "#b8e186"
                        ],
                        [
                          0.8,
                          "#7fbc41"
                        ],
                        [
                          0.9,
                          "#4d9221"
                        ],
                        [
                          1,
                          "#276419"
                        ]
                      ],
                      "sequential": [
                        [
                          0,
                          "#0d0887"
                        ],
                        [
                          0.1111111111111111,
                          "#46039f"
                        ],
                        [
                          0.2222222222222222,
                          "#7201a8"
                        ],
                        [
                          0.3333333333333333,
                          "#9c179e"
                        ],
                        [
                          0.4444444444444444,
                          "#bd3786"
                        ],
                        [
                          0.5555555555555556,
                          "#d8576b"
                        ],
                        [
                          0.6666666666666666,
                          "#ed7953"
                        ],
                        [
                          0.7777777777777778,
                          "#fb9f3a"
                        ],
                        [
                          0.8888888888888888,
                          "#fdca26"
                        ],
                        [
                          1,
                          "#f0f921"
                        ]
                      ],
                      "sequentialminus": [
                        [
                          0,
                          "#0d0887"
                        ],
                        [
                          0.1111111111111111,
                          "#46039f"
                        ],
                        [
                          0.2222222222222222,
                          "#7201a8"
                        ],
                        [
                          0.3333333333333333,
                          "#9c179e"
                        ],
                        [
                          0.4444444444444444,
                          "#bd3786"
                        ],
                        [
                          0.5555555555555556,
                          "#d8576b"
                        ],
                        [
                          0.6666666666666666,
                          "#ed7953"
                        ],
                        [
                          0.7777777777777778,
                          "#fb9f3a"
                        ],
                        [
                          0.8888888888888888,
                          "#fdca26"
                        ],
                        [
                          1,
                          "#f0f921"
                        ]
                      ]
                    },
                    "colorway": [
                      "#636efa",
                      "#EF553B",
                      "#00cc96",
                      "#ab63fa",
                      "#FFA15A",
                      "#19d3f3",
                      "#FF6692",
                      "#B6E880",
                      "#FF97FF",
                      "#FECB52"
                    ],
                    "font": {
                      "color": "#2a3f5f"
                    },
                    "geo": {
                      "bgcolor": "white",
                      "lakecolor": "white",
                      "landcolor": "#E5ECF6",
                      "showlakes": true,
                      "showland": true,
                      "subunitcolor": "white"
                    },
                    "hoverlabel": {
                      "align": "left"
                    },
                    "hovermode": "closest",
                    "mapbox": {
                      "style": "light"
                    },
                    "paper_bgcolor": "white",
                    "plot_bgcolor": "#E5ECF6",
                    "polar": {
                      "angularaxis": {
                        "gridcolor": "white",
                        "linecolor": "white",
                        "ticks": ""
                      },
                      "bgcolor": "#E5ECF6",
                      "radialaxis": {
                        "gridcolor": "white",
                        "linecolor": "white",
                        "ticks": ""
                      }
                    },
                    "scene": {
                      "xaxis": {
                        "backgroundcolor": "#E5ECF6",
                        "gridcolor": "white",
                        "gridwidth": 2,
                        "linecolor": "white",
                        "showbackground": true,
                        "ticks": "",
                        "zerolinecolor": "white"
                      },
                      "yaxis": {
                        "backgroundcolor": "#E5ECF6",
                        "gridcolor": "white",
                        "gridwidth": 2,
                        "linecolor": "white",
                        "showbackground": true,
                        "ticks": "",
                        "zerolinecolor": "white"
                      },
                      "zaxis": {
                        "backgroundcolor": "#E5ECF6",
                        "gridcolor": "white",
                        "gridwidth": 2,
                        "linecolor": "white",
                        "showbackground": true,
                        "ticks": "",
                        "zerolinecolor": "white"
                      }
                    },
                    "shapedefaults": {
                      "line": {
                        "color": "#2a3f5f"
                      }
                    },
                    "ternary": {
                      "aaxis": {
                        "gridcolor": "white",
                        "linecolor": "white",
                        "ticks": ""
                      },
                      "baxis": {
                        "gridcolor": "white",
                        "linecolor": "white",
                        "ticks": ""
                      },
                      "bgcolor": "#E5ECF6",
                      "caxis": {
                        "gridcolor": "white",
                        "linecolor": "white",
                        "ticks": ""
                      }
                    },
                    "title": {
                      "x": 0.05
                    },
                    "xaxis": {
                      "automargin": true,
                      "gridcolor": "white",
                      "linecolor": "white",
                      "ticks": "",
                      "title": {
                        "standoff": 15
                      },
                      "zerolinecolor": "white",
                      "zerolinewidth": 2
                    },
                    "yaxis": {
                      "automargin": true,
                      "gridcolor": "white",
                      "linecolor": "white",
                      "ticks": "",
                      "title": {
                        "standoff": 15
                      },
                      "zerolinecolor": "white",
                      "zerolinewidth": 2
                    }
                  }
                }
              }
            }
          },
          "metadata": {},
          "output_type": "display_data"
        }
      ],
      "source": [
        "#Completar\n",
        "px.scatter_3d(x='total_bill',y = 'tip', z='size',data_frame=df,size='tip',color='day')"
      ]
    },
    {
      "cell_type": "markdown",
      "metadata": {
        "id": "vkLup1EhIV4z"
      },
      "source": [
        "# Violin Plot\n",
        "\n",
        "Generar un box plot donde el eje x es \"smoker\" y el eje y es \"total_bill\""
      ]
    },
    {
      "cell_type": "code",
      "execution_count": 82,
      "metadata": {
        "id": "HRtgH3UIUjt0"
      },
      "outputs": [
        {
          "data": {
            "application/vnd.plotly.v1+json": {
              "config": {
                "plotlyServerURL": "https://plot.ly"
              },
              "data": [
                {
                  "alignmentgroup": "True",
                  "hovertemplate": "day=Sun<br>smoker=%{x}<br>total_bill=%{y}<extra></extra>",
                  "legendgroup": "Sun",
                  "marker": {
                    "color": "#636efa"
                  },
                  "name": "Sun",
                  "notched": false,
                  "offsetgroup": "Sun",
                  "orientation": "v",
                  "showlegend": true,
                  "type": "box",
                  "x": [
                    "No",
                    "No",
                    "No",
                    "No",
                    "No",
                    "No",
                    "No",
                    "No",
                    "No",
                    "No",
                    "No",
                    "No",
                    "No",
                    "No",
                    "No",
                    "No",
                    "No",
                    "No",
                    "No",
                    "No",
                    "No",
                    "No",
                    "No",
                    "No",
                    "No",
                    "No",
                    "No",
                    "No",
                    "No",
                    "No",
                    "No",
                    "No",
                    "No",
                    "No",
                    "No",
                    "No",
                    "No",
                    "No",
                    "No",
                    "No",
                    "No",
                    "No",
                    "No",
                    "No",
                    "No",
                    "No",
                    "No",
                    "No",
                    "No",
                    "No",
                    "No",
                    "No",
                    "No",
                    "Yes",
                    "No",
                    "No",
                    "No",
                    "Yes",
                    "Yes",
                    "Yes",
                    "Yes",
                    "Yes",
                    "Yes",
                    "Yes",
                    "Yes",
                    "Yes",
                    "Yes",
                    "Yes",
                    "Yes",
                    "Yes",
                    "No",
                    "Yes",
                    "Yes",
                    "Yes",
                    "Yes",
                    "Yes"
                  ],
                  "x0": " ",
                  "xaxis": "x",
                  "y": [
                    16.99,
                    10.34,
                    21.01,
                    23.68,
                    24.59,
                    25.29,
                    8.77,
                    26.88,
                    15.04,
                    14.78,
                    10.27,
                    35.26,
                    15.42,
                    18.43,
                    14.83,
                    21.58,
                    10.33,
                    16.29,
                    16.97,
                    17.46,
                    13.94,
                    9.68,
                    30.4,
                    18.29,
                    22.23,
                    32.4,
                    28.55,
                    18.04,
                    12.54,
                    10.29,
                    34.81,
                    9.94,
                    25.56,
                    19.49,
                    38.07,
                    23.95,
                    25.71,
                    17.31,
                    29.93,
                    14.07,
                    13.13,
                    17.26,
                    24.55,
                    19.77,
                    29.85,
                    48.17,
                    25,
                    13.39,
                    16.49,
                    21.5,
                    12.66,
                    16.21,
                    13.81,
                    17.51,
                    24.52,
                    20.76,
                    31.71,
                    7.25,
                    31.85,
                    16.82,
                    32.9,
                    17.89,
                    14.48,
                    9.6,
                    34.63,
                    34.65,
                    23.33,
                    45.35,
                    23.17,
                    40.55,
                    20.69,
                    20.9,
                    30.46,
                    18.15,
                    23.1,
                    15.69
                  ],
                  "y0": " ",
                  "yaxis": "y"
                },
                {
                  "alignmentgroup": "True",
                  "hovertemplate": "day=Sat<br>smoker=%{x}<br>total_bill=%{y}<extra></extra>",
                  "legendgroup": "Sat",
                  "marker": {
                    "color": "#EF553B"
                  },
                  "name": "Sat",
                  "notched": false,
                  "offsetgroup": "Sat",
                  "orientation": "v",
                  "showlegend": true,
                  "type": "box",
                  "x": [
                    "No",
                    "No",
                    "No",
                    "No",
                    "No",
                    "No",
                    "No",
                    "No",
                    "No",
                    "No",
                    "No",
                    "No",
                    "No",
                    "No",
                    "No",
                    "No",
                    "No",
                    "No",
                    "No",
                    "No",
                    "No",
                    "No",
                    "Yes",
                    "No",
                    "Yes",
                    "No",
                    "Yes",
                    "Yes",
                    "Yes",
                    "Yes",
                    "No",
                    "No",
                    "No",
                    "Yes",
                    "No",
                    "Yes",
                    "No",
                    "No",
                    "Yes",
                    "Yes",
                    "No",
                    "No",
                    "Yes",
                    "Yes",
                    "Yes",
                    "No",
                    "Yes",
                    "Yes",
                    "Yes",
                    "No",
                    "Yes",
                    "No",
                    "No",
                    "Yes",
                    "Yes",
                    "Yes",
                    "Yes",
                    "Yes",
                    "Yes",
                    "Yes",
                    "Yes",
                    "Yes",
                    "Yes",
                    "No",
                    "Yes",
                    "Yes",
                    "Yes",
                    "Yes",
                    "Yes",
                    "Yes",
                    "Yes",
                    "No",
                    "No",
                    "Yes",
                    "Yes",
                    "Yes",
                    "No",
                    "No",
                    "Yes",
                    "No",
                    "Yes",
                    "Yes",
                    "No",
                    "No",
                    "Yes",
                    "Yes",
                    "No"
                  ],
                  "x0": " ",
                  "xaxis": "x",
                  "y": [
                    20.65,
                    17.92,
                    20.29,
                    15.77,
                    39.42,
                    19.82,
                    17.81,
                    13.37,
                    12.69,
                    21.7,
                    19.65,
                    9.55,
                    18.35,
                    15.06,
                    20.69,
                    17.78,
                    24.06,
                    16.31,
                    16.93,
                    18.69,
                    31.27,
                    16.04,
                    38.01,
                    26.41,
                    11.24,
                    48.27,
                    20.29,
                    13.81,
                    11.02,
                    18.29,
                    17.59,
                    20.08,
                    16.45,
                    3.07,
                    20.23,
                    15.01,
                    12.02,
                    17.07,
                    26.86,
                    25.28,
                    14.73,
                    10.51,
                    17.92,
                    44.3,
                    22.42,
                    20.92,
                    15.36,
                    20.49,
                    25.21,
                    18.24,
                    14.31,
                    14,
                    7.25,
                    10.59,
                    10.63,
                    50.81,
                    15.81,
                    26.59,
                    38.73,
                    24.27,
                    12.76,
                    30.06,
                    25.89,
                    48.33,
                    13.27,
                    28.17,
                    12.9,
                    28.15,
                    11.59,
                    7.74,
                    30.14,
                    20.45,
                    13.28,
                    22.12,
                    24.01,
                    15.69,
                    11.61,
                    10.77,
                    15.53,
                    10.07,
                    12.6,
                    32.83,
                    35.83,
                    29.03,
                    27.18,
                    22.67,
                    17.82
                  ],
                  "y0": " ",
                  "yaxis": "y"
                },
                {
                  "alignmentgroup": "True",
                  "hovertemplate": "day=Thur<br>smoker=%{x}<br>total_bill=%{y}<extra></extra>",
                  "legendgroup": "Thur",
                  "marker": {
                    "color": "#00cc96"
                  },
                  "name": "Thur",
                  "notched": false,
                  "offsetgroup": "Thur",
                  "orientation": "v",
                  "showlegend": true,
                  "type": "box",
                  "x": [
                    "No",
                    "No",
                    "No",
                    "Yes",
                    "No",
                    "No",
                    "Yes",
                    "No",
                    "No",
                    "No",
                    "No",
                    "No",
                    "No",
                    "No",
                    "No",
                    "No",
                    "No",
                    "No",
                    "No",
                    "No",
                    "No",
                    "No",
                    "No",
                    "No",
                    "No",
                    "No",
                    "No",
                    "No",
                    "No",
                    "No",
                    "No",
                    "No",
                    "No",
                    "No",
                    "Yes",
                    "No",
                    "No",
                    "No",
                    "No",
                    "No",
                    "No",
                    "No",
                    "No",
                    "No",
                    "No",
                    "No",
                    "Yes",
                    "Yes",
                    "Yes",
                    "Yes",
                    "No",
                    "Yes",
                    "Yes",
                    "Yes",
                    "Yes",
                    "Yes",
                    "Yes",
                    "Yes",
                    "Yes",
                    "Yes",
                    "Yes",
                    "No"
                  ],
                  "x0": " ",
                  "xaxis": "x",
                  "y": [
                    27.2,
                    22.76,
                    17.29,
                    19.44,
                    16.66,
                    10.07,
                    32.68,
                    15.98,
                    34.83,
                    13.03,
                    18.28,
                    24.71,
                    21.16,
                    10.65,
                    12.43,
                    24.08,
                    11.69,
                    13.42,
                    14.26,
                    15.95,
                    12.48,
                    29.8,
                    8.52,
                    14.52,
                    11.38,
                    22.82,
                    19.08,
                    20.27,
                    11.17,
                    12.26,
                    18.26,
                    8.51,
                    10.33,
                    14.15,
                    16,
                    13.16,
                    17.47,
                    34.3,
                    41.19,
                    27.05,
                    16.43,
                    8.35,
                    18.64,
                    11.87,
                    9.78,
                    7.51,
                    19.81,
                    28.44,
                    15.48,
                    16.58,
                    7.56,
                    10.34,
                    43.11,
                    13,
                    13.51,
                    18.71,
                    12.74,
                    13,
                    16.4,
                    20.53,
                    16.47,
                    18.78
                  ],
                  "y0": " ",
                  "yaxis": "y"
                },
                {
                  "alignmentgroup": "True",
                  "hovertemplate": "day=Fri<br>smoker=%{x}<br>total_bill=%{y}<extra></extra>",
                  "legendgroup": "Fri",
                  "marker": {
                    "color": "#ab63fa"
                  },
                  "name": "Fri",
                  "notched": false,
                  "offsetgroup": "Fri",
                  "orientation": "v",
                  "showlegend": true,
                  "type": "box",
                  "x": [
                    "Yes",
                    "No",
                    "Yes",
                    "Yes",
                    "No",
                    "Yes",
                    "Yes",
                    "Yes",
                    "Yes",
                    "No",
                    "Yes",
                    "Yes",
                    "Yes",
                    "Yes",
                    "Yes",
                    "No",
                    "Yes",
                    "Yes",
                    "Yes"
                  ],
                  "x0": " ",
                  "xaxis": "x",
                  "y": [
                    28.97,
                    22.49,
                    5.75,
                    16.32,
                    22.75,
                    40.17,
                    27.28,
                    12.03,
                    21.01,
                    12.46,
                    11.35,
                    15.38,
                    12.16,
                    13.42,
                    8.58,
                    15.98,
                    13.42,
                    16.27,
                    10.09
                  ],
                  "y0": " ",
                  "yaxis": "y"
                }
              ],
              "layout": {
                "boxmode": "group",
                "legend": {
                  "title": {
                    "text": "day"
                  },
                  "tracegroupgap": 0
                },
                "margin": {
                  "t": 60
                },
                "template": {
                  "data": {
                    "bar": [
                      {
                        "error_x": {
                          "color": "#2a3f5f"
                        },
                        "error_y": {
                          "color": "#2a3f5f"
                        },
                        "marker": {
                          "line": {
                            "color": "#E5ECF6",
                            "width": 0.5
                          },
                          "pattern": {
                            "fillmode": "overlay",
                            "size": 10,
                            "solidity": 0.2
                          }
                        },
                        "type": "bar"
                      }
                    ],
                    "barpolar": [
                      {
                        "marker": {
                          "line": {
                            "color": "#E5ECF6",
                            "width": 0.5
                          },
                          "pattern": {
                            "fillmode": "overlay",
                            "size": 10,
                            "solidity": 0.2
                          }
                        },
                        "type": "barpolar"
                      }
                    ],
                    "carpet": [
                      {
                        "aaxis": {
                          "endlinecolor": "#2a3f5f",
                          "gridcolor": "white",
                          "linecolor": "white",
                          "minorgridcolor": "white",
                          "startlinecolor": "#2a3f5f"
                        },
                        "baxis": {
                          "endlinecolor": "#2a3f5f",
                          "gridcolor": "white",
                          "linecolor": "white",
                          "minorgridcolor": "white",
                          "startlinecolor": "#2a3f5f"
                        },
                        "type": "carpet"
                      }
                    ],
                    "choropleth": [
                      {
                        "colorbar": {
                          "outlinewidth": 0,
                          "ticks": ""
                        },
                        "type": "choropleth"
                      }
                    ],
                    "contour": [
                      {
                        "colorbar": {
                          "outlinewidth": 0,
                          "ticks": ""
                        },
                        "colorscale": [
                          [
                            0,
                            "#0d0887"
                          ],
                          [
                            0.1111111111111111,
                            "#46039f"
                          ],
                          [
                            0.2222222222222222,
                            "#7201a8"
                          ],
                          [
                            0.3333333333333333,
                            "#9c179e"
                          ],
                          [
                            0.4444444444444444,
                            "#bd3786"
                          ],
                          [
                            0.5555555555555556,
                            "#d8576b"
                          ],
                          [
                            0.6666666666666666,
                            "#ed7953"
                          ],
                          [
                            0.7777777777777778,
                            "#fb9f3a"
                          ],
                          [
                            0.8888888888888888,
                            "#fdca26"
                          ],
                          [
                            1,
                            "#f0f921"
                          ]
                        ],
                        "type": "contour"
                      }
                    ],
                    "contourcarpet": [
                      {
                        "colorbar": {
                          "outlinewidth": 0,
                          "ticks": ""
                        },
                        "type": "contourcarpet"
                      }
                    ],
                    "heatmap": [
                      {
                        "colorbar": {
                          "outlinewidth": 0,
                          "ticks": ""
                        },
                        "colorscale": [
                          [
                            0,
                            "#0d0887"
                          ],
                          [
                            0.1111111111111111,
                            "#46039f"
                          ],
                          [
                            0.2222222222222222,
                            "#7201a8"
                          ],
                          [
                            0.3333333333333333,
                            "#9c179e"
                          ],
                          [
                            0.4444444444444444,
                            "#bd3786"
                          ],
                          [
                            0.5555555555555556,
                            "#d8576b"
                          ],
                          [
                            0.6666666666666666,
                            "#ed7953"
                          ],
                          [
                            0.7777777777777778,
                            "#fb9f3a"
                          ],
                          [
                            0.8888888888888888,
                            "#fdca26"
                          ],
                          [
                            1,
                            "#f0f921"
                          ]
                        ],
                        "type": "heatmap"
                      }
                    ],
                    "heatmapgl": [
                      {
                        "colorbar": {
                          "outlinewidth": 0,
                          "ticks": ""
                        },
                        "colorscale": [
                          [
                            0,
                            "#0d0887"
                          ],
                          [
                            0.1111111111111111,
                            "#46039f"
                          ],
                          [
                            0.2222222222222222,
                            "#7201a8"
                          ],
                          [
                            0.3333333333333333,
                            "#9c179e"
                          ],
                          [
                            0.4444444444444444,
                            "#bd3786"
                          ],
                          [
                            0.5555555555555556,
                            "#d8576b"
                          ],
                          [
                            0.6666666666666666,
                            "#ed7953"
                          ],
                          [
                            0.7777777777777778,
                            "#fb9f3a"
                          ],
                          [
                            0.8888888888888888,
                            "#fdca26"
                          ],
                          [
                            1,
                            "#f0f921"
                          ]
                        ],
                        "type": "heatmapgl"
                      }
                    ],
                    "histogram": [
                      {
                        "marker": {
                          "pattern": {
                            "fillmode": "overlay",
                            "size": 10,
                            "solidity": 0.2
                          }
                        },
                        "type": "histogram"
                      }
                    ],
                    "histogram2d": [
                      {
                        "colorbar": {
                          "outlinewidth": 0,
                          "ticks": ""
                        },
                        "colorscale": [
                          [
                            0,
                            "#0d0887"
                          ],
                          [
                            0.1111111111111111,
                            "#46039f"
                          ],
                          [
                            0.2222222222222222,
                            "#7201a8"
                          ],
                          [
                            0.3333333333333333,
                            "#9c179e"
                          ],
                          [
                            0.4444444444444444,
                            "#bd3786"
                          ],
                          [
                            0.5555555555555556,
                            "#d8576b"
                          ],
                          [
                            0.6666666666666666,
                            "#ed7953"
                          ],
                          [
                            0.7777777777777778,
                            "#fb9f3a"
                          ],
                          [
                            0.8888888888888888,
                            "#fdca26"
                          ],
                          [
                            1,
                            "#f0f921"
                          ]
                        ],
                        "type": "histogram2d"
                      }
                    ],
                    "histogram2dcontour": [
                      {
                        "colorbar": {
                          "outlinewidth": 0,
                          "ticks": ""
                        },
                        "colorscale": [
                          [
                            0,
                            "#0d0887"
                          ],
                          [
                            0.1111111111111111,
                            "#46039f"
                          ],
                          [
                            0.2222222222222222,
                            "#7201a8"
                          ],
                          [
                            0.3333333333333333,
                            "#9c179e"
                          ],
                          [
                            0.4444444444444444,
                            "#bd3786"
                          ],
                          [
                            0.5555555555555556,
                            "#d8576b"
                          ],
                          [
                            0.6666666666666666,
                            "#ed7953"
                          ],
                          [
                            0.7777777777777778,
                            "#fb9f3a"
                          ],
                          [
                            0.8888888888888888,
                            "#fdca26"
                          ],
                          [
                            1,
                            "#f0f921"
                          ]
                        ],
                        "type": "histogram2dcontour"
                      }
                    ],
                    "mesh3d": [
                      {
                        "colorbar": {
                          "outlinewidth": 0,
                          "ticks": ""
                        },
                        "type": "mesh3d"
                      }
                    ],
                    "parcoords": [
                      {
                        "line": {
                          "colorbar": {
                            "outlinewidth": 0,
                            "ticks": ""
                          }
                        },
                        "type": "parcoords"
                      }
                    ],
                    "pie": [
                      {
                        "automargin": true,
                        "type": "pie"
                      }
                    ],
                    "scatter": [
                      {
                        "fillpattern": {
                          "fillmode": "overlay",
                          "size": 10,
                          "solidity": 0.2
                        },
                        "type": "scatter"
                      }
                    ],
                    "scatter3d": [
                      {
                        "line": {
                          "colorbar": {
                            "outlinewidth": 0,
                            "ticks": ""
                          }
                        },
                        "marker": {
                          "colorbar": {
                            "outlinewidth": 0,
                            "ticks": ""
                          }
                        },
                        "type": "scatter3d"
                      }
                    ],
                    "scattercarpet": [
                      {
                        "marker": {
                          "colorbar": {
                            "outlinewidth": 0,
                            "ticks": ""
                          }
                        },
                        "type": "scattercarpet"
                      }
                    ],
                    "scattergeo": [
                      {
                        "marker": {
                          "colorbar": {
                            "outlinewidth": 0,
                            "ticks": ""
                          }
                        },
                        "type": "scattergeo"
                      }
                    ],
                    "scattergl": [
                      {
                        "marker": {
                          "colorbar": {
                            "outlinewidth": 0,
                            "ticks": ""
                          }
                        },
                        "type": "scattergl"
                      }
                    ],
                    "scattermapbox": [
                      {
                        "marker": {
                          "colorbar": {
                            "outlinewidth": 0,
                            "ticks": ""
                          }
                        },
                        "type": "scattermapbox"
                      }
                    ],
                    "scatterpolar": [
                      {
                        "marker": {
                          "colorbar": {
                            "outlinewidth": 0,
                            "ticks": ""
                          }
                        },
                        "type": "scatterpolar"
                      }
                    ],
                    "scatterpolargl": [
                      {
                        "marker": {
                          "colorbar": {
                            "outlinewidth": 0,
                            "ticks": ""
                          }
                        },
                        "type": "scatterpolargl"
                      }
                    ],
                    "scatterternary": [
                      {
                        "marker": {
                          "colorbar": {
                            "outlinewidth": 0,
                            "ticks": ""
                          }
                        },
                        "type": "scatterternary"
                      }
                    ],
                    "surface": [
                      {
                        "colorbar": {
                          "outlinewidth": 0,
                          "ticks": ""
                        },
                        "colorscale": [
                          [
                            0,
                            "#0d0887"
                          ],
                          [
                            0.1111111111111111,
                            "#46039f"
                          ],
                          [
                            0.2222222222222222,
                            "#7201a8"
                          ],
                          [
                            0.3333333333333333,
                            "#9c179e"
                          ],
                          [
                            0.4444444444444444,
                            "#bd3786"
                          ],
                          [
                            0.5555555555555556,
                            "#d8576b"
                          ],
                          [
                            0.6666666666666666,
                            "#ed7953"
                          ],
                          [
                            0.7777777777777778,
                            "#fb9f3a"
                          ],
                          [
                            0.8888888888888888,
                            "#fdca26"
                          ],
                          [
                            1,
                            "#f0f921"
                          ]
                        ],
                        "type": "surface"
                      }
                    ],
                    "table": [
                      {
                        "cells": {
                          "fill": {
                            "color": "#EBF0F8"
                          },
                          "line": {
                            "color": "white"
                          }
                        },
                        "header": {
                          "fill": {
                            "color": "#C8D4E3"
                          },
                          "line": {
                            "color": "white"
                          }
                        },
                        "type": "table"
                      }
                    ]
                  },
                  "layout": {
                    "annotationdefaults": {
                      "arrowcolor": "#2a3f5f",
                      "arrowhead": 0,
                      "arrowwidth": 1
                    },
                    "autotypenumbers": "strict",
                    "coloraxis": {
                      "colorbar": {
                        "outlinewidth": 0,
                        "ticks": ""
                      }
                    },
                    "colorscale": {
                      "diverging": [
                        [
                          0,
                          "#8e0152"
                        ],
                        [
                          0.1,
                          "#c51b7d"
                        ],
                        [
                          0.2,
                          "#de77ae"
                        ],
                        [
                          0.3,
                          "#f1b6da"
                        ],
                        [
                          0.4,
                          "#fde0ef"
                        ],
                        [
                          0.5,
                          "#f7f7f7"
                        ],
                        [
                          0.6,
                          "#e6f5d0"
                        ],
                        [
                          0.7,
                          "#b8e186"
                        ],
                        [
                          0.8,
                          "#7fbc41"
                        ],
                        [
                          0.9,
                          "#4d9221"
                        ],
                        [
                          1,
                          "#276419"
                        ]
                      ],
                      "sequential": [
                        [
                          0,
                          "#0d0887"
                        ],
                        [
                          0.1111111111111111,
                          "#46039f"
                        ],
                        [
                          0.2222222222222222,
                          "#7201a8"
                        ],
                        [
                          0.3333333333333333,
                          "#9c179e"
                        ],
                        [
                          0.4444444444444444,
                          "#bd3786"
                        ],
                        [
                          0.5555555555555556,
                          "#d8576b"
                        ],
                        [
                          0.6666666666666666,
                          "#ed7953"
                        ],
                        [
                          0.7777777777777778,
                          "#fb9f3a"
                        ],
                        [
                          0.8888888888888888,
                          "#fdca26"
                        ],
                        [
                          1,
                          "#f0f921"
                        ]
                      ],
                      "sequentialminus": [
                        [
                          0,
                          "#0d0887"
                        ],
                        [
                          0.1111111111111111,
                          "#46039f"
                        ],
                        [
                          0.2222222222222222,
                          "#7201a8"
                        ],
                        [
                          0.3333333333333333,
                          "#9c179e"
                        ],
                        [
                          0.4444444444444444,
                          "#bd3786"
                        ],
                        [
                          0.5555555555555556,
                          "#d8576b"
                        ],
                        [
                          0.6666666666666666,
                          "#ed7953"
                        ],
                        [
                          0.7777777777777778,
                          "#fb9f3a"
                        ],
                        [
                          0.8888888888888888,
                          "#fdca26"
                        ],
                        [
                          1,
                          "#f0f921"
                        ]
                      ]
                    },
                    "colorway": [
                      "#636efa",
                      "#EF553B",
                      "#00cc96",
                      "#ab63fa",
                      "#FFA15A",
                      "#19d3f3",
                      "#FF6692",
                      "#B6E880",
                      "#FF97FF",
                      "#FECB52"
                    ],
                    "font": {
                      "color": "#2a3f5f"
                    },
                    "geo": {
                      "bgcolor": "white",
                      "lakecolor": "white",
                      "landcolor": "#E5ECF6",
                      "showlakes": true,
                      "showland": true,
                      "subunitcolor": "white"
                    },
                    "hoverlabel": {
                      "align": "left"
                    },
                    "hovermode": "closest",
                    "mapbox": {
                      "style": "light"
                    },
                    "paper_bgcolor": "white",
                    "plot_bgcolor": "#E5ECF6",
                    "polar": {
                      "angularaxis": {
                        "gridcolor": "white",
                        "linecolor": "white",
                        "ticks": ""
                      },
                      "bgcolor": "#E5ECF6",
                      "radialaxis": {
                        "gridcolor": "white",
                        "linecolor": "white",
                        "ticks": ""
                      }
                    },
                    "scene": {
                      "xaxis": {
                        "backgroundcolor": "#E5ECF6",
                        "gridcolor": "white",
                        "gridwidth": 2,
                        "linecolor": "white",
                        "showbackground": true,
                        "ticks": "",
                        "zerolinecolor": "white"
                      },
                      "yaxis": {
                        "backgroundcolor": "#E5ECF6",
                        "gridcolor": "white",
                        "gridwidth": 2,
                        "linecolor": "white",
                        "showbackground": true,
                        "ticks": "",
                        "zerolinecolor": "white"
                      },
                      "zaxis": {
                        "backgroundcolor": "#E5ECF6",
                        "gridcolor": "white",
                        "gridwidth": 2,
                        "linecolor": "white",
                        "showbackground": true,
                        "ticks": "",
                        "zerolinecolor": "white"
                      }
                    },
                    "shapedefaults": {
                      "line": {
                        "color": "#2a3f5f"
                      }
                    },
                    "ternary": {
                      "aaxis": {
                        "gridcolor": "white",
                        "linecolor": "white",
                        "ticks": ""
                      },
                      "baxis": {
                        "gridcolor": "white",
                        "linecolor": "white",
                        "ticks": ""
                      },
                      "bgcolor": "#E5ECF6",
                      "caxis": {
                        "gridcolor": "white",
                        "linecolor": "white",
                        "ticks": ""
                      }
                    },
                    "title": {
                      "x": 0.05
                    },
                    "xaxis": {
                      "automargin": true,
                      "gridcolor": "white",
                      "linecolor": "white",
                      "ticks": "",
                      "title": {
                        "standoff": 15
                      },
                      "zerolinecolor": "white",
                      "zerolinewidth": 2
                    },
                    "yaxis": {
                      "automargin": true,
                      "gridcolor": "white",
                      "linecolor": "white",
                      "ticks": "",
                      "title": {
                        "standoff": 15
                      },
                      "zerolinecolor": "white",
                      "zerolinewidth": 2
                    }
                  }
                },
                "xaxis": {
                  "anchor": "y",
                  "domain": [
                    0,
                    1
                  ],
                  "title": {
                    "text": "smoker"
                  }
                },
                "yaxis": {
                  "anchor": "x",
                  "domain": [
                    0,
                    1
                  ],
                  "title": {
                    "text": "total_bill"
                  }
                }
              }
            }
          },
          "metadata": {},
          "output_type": "display_data"
        }
      ],
      "source": [
        "#Completar\n",
        "px.box(x= 'smoker',y='total_bill',data_frame=df,color='day')"
      ]
    },
    {
      "cell_type": "markdown",
      "metadata": {
        "id": "6z32k-gFIeRp"
      },
      "source": [
        "# Pie Plot\n",
        "\n",
        "1. Crear un pie plot en base a names=\"smoker\", values='total_bill'"
      ]
    },
    {
      "cell_type": "code",
      "execution_count": 83,
      "metadata": {
        "id": "9BtdHiSvaHf-"
      },
      "outputs": [
        {
          "data": {
            "application/vnd.plotly.v1+json": {
              "config": {
                "plotlyServerURL": "https://plot.ly"
              },
              "data": [
                {
                  "domain": {
                    "x": [
                      0,
                      1
                    ],
                    "y": [
                      0,
                      1
                    ]
                  },
                  "hovertemplate": "smoker=%{label}<br>total_bill=%{value}<extra></extra>",
                  "labels": [
                    "No",
                    "No",
                    "No",
                    "No",
                    "No",
                    "No",
                    "No",
                    "No",
                    "No",
                    "No",
                    "No",
                    "No",
                    "No",
                    "No",
                    "No",
                    "No",
                    "No",
                    "No",
                    "No",
                    "No",
                    "No",
                    "No",
                    "No",
                    "No",
                    "No",
                    "No",
                    "No",
                    "No",
                    "No",
                    "No",
                    "No",
                    "No",
                    "No",
                    "No",
                    "No",
                    "No",
                    "No",
                    "No",
                    "No",
                    "No",
                    "No",
                    "No",
                    "No",
                    "No",
                    "No",
                    "No",
                    "No",
                    "No",
                    "No",
                    "No",
                    "No",
                    "No",
                    "No",
                    "No",
                    "No",
                    "No",
                    "Yes",
                    "No",
                    "Yes",
                    "No",
                    "Yes",
                    "Yes",
                    "Yes",
                    "Yes",
                    "No",
                    "No",
                    "No",
                    "Yes",
                    "No",
                    "Yes",
                    "No",
                    "No",
                    "Yes",
                    "Yes",
                    "No",
                    "No",
                    "Yes",
                    "No",
                    "No",
                    "No",
                    "Yes",
                    "No",
                    "No",
                    "Yes",
                    "No",
                    "No",
                    "No",
                    "No",
                    "No",
                    "No",
                    "Yes",
                    "No",
                    "Yes",
                    "Yes",
                    "No",
                    "Yes",
                    "Yes",
                    "Yes",
                    "Yes",
                    "No",
                    "Yes",
                    "Yes",
                    "Yes",
                    "Yes",
                    "No",
                    "Yes",
                    "Yes",
                    "Yes",
                    "No",
                    "Yes",
                    "No",
                    "No",
                    "No",
                    "No",
                    "No",
                    "No",
                    "No",
                    "No",
                    "No",
                    "No",
                    "No",
                    "No",
                    "No",
                    "No",
                    "No",
                    "No",
                    "No",
                    "No",
                    "No",
                    "No",
                    "No",
                    "No",
                    "No",
                    "No",
                    "No",
                    "No",
                    "No",
                    "No",
                    "Yes",
                    "No",
                    "No",
                    "No",
                    "No",
                    "No",
                    "No",
                    "No",
                    "No",
                    "No",
                    "No",
                    "No",
                    "No",
                    "No",
                    "No",
                    "No",
                    "No",
                    "No",
                    "No",
                    "No",
                    "No",
                    "No",
                    "No",
                    "No",
                    "No",
                    "No",
                    "Yes",
                    "No",
                    "No",
                    "No",
                    "Yes",
                    "Yes",
                    "Yes",
                    "Yes",
                    "Yes",
                    "Yes",
                    "Yes",
                    "Yes",
                    "Yes",
                    "Yes",
                    "Yes",
                    "Yes",
                    "Yes",
                    "Yes",
                    "Yes",
                    "Yes",
                    "Yes",
                    "No",
                    "Yes",
                    "Yes",
                    "Yes",
                    "Yes",
                    "Yes",
                    "Yes",
                    "Yes",
                    "Yes",
                    "Yes",
                    "No",
                    "Yes",
                    "Yes",
                    "Yes",
                    "Yes",
                    "Yes",
                    "Yes",
                    "Yes",
                    "Yes",
                    "Yes",
                    "Yes",
                    "Yes",
                    "Yes",
                    "Yes",
                    "Yes",
                    "Yes",
                    "Yes",
                    "No",
                    "Yes",
                    "Yes",
                    "Yes",
                    "Yes",
                    "Yes",
                    "Yes",
                    "Yes",
                    "Yes",
                    "Yes",
                    "Yes",
                    "No",
                    "Yes",
                    "Yes",
                    "Yes",
                    "No",
                    "No",
                    "Yes",
                    "Yes",
                    "Yes",
                    "No",
                    "No",
                    "Yes",
                    "No",
                    "Yes",
                    "Yes",
                    "No",
                    "No",
                    "Yes",
                    "Yes",
                    "No",
                    "No"
                  ],
                  "legendgroup": "",
                  "name": "",
                  "showlegend": true,
                  "type": "pie",
                  "values": [
                    16.99,
                    10.34,
                    21.01,
                    23.68,
                    24.59,
                    25.29,
                    8.77,
                    26.88,
                    15.04,
                    14.78,
                    10.27,
                    35.26,
                    15.42,
                    18.43,
                    14.83,
                    21.58,
                    10.33,
                    16.29,
                    16.97,
                    20.65,
                    17.92,
                    20.29,
                    15.77,
                    39.42,
                    19.82,
                    17.81,
                    13.37,
                    12.69,
                    21.7,
                    19.65,
                    9.55,
                    18.35,
                    15.06,
                    20.69,
                    17.78,
                    24.06,
                    16.31,
                    16.93,
                    18.69,
                    31.27,
                    16.04,
                    17.46,
                    13.94,
                    9.68,
                    30.4,
                    18.29,
                    22.23,
                    32.4,
                    28.55,
                    18.04,
                    12.54,
                    10.29,
                    34.81,
                    9.94,
                    25.56,
                    19.49,
                    38.01,
                    26.41,
                    11.24,
                    48.27,
                    20.29,
                    13.81,
                    11.02,
                    18.29,
                    17.59,
                    20.08,
                    16.45,
                    3.07,
                    20.23,
                    15.01,
                    12.02,
                    17.07,
                    26.86,
                    25.28,
                    14.73,
                    10.51,
                    17.92,
                    27.2,
                    22.76,
                    17.29,
                    19.44,
                    16.66,
                    10.07,
                    32.68,
                    15.98,
                    34.83,
                    13.03,
                    18.28,
                    24.71,
                    21.16,
                    28.97,
                    22.49,
                    5.75,
                    16.32,
                    22.75,
                    40.17,
                    27.28,
                    12.03,
                    21.01,
                    12.46,
                    11.35,
                    15.38,
                    44.3,
                    22.42,
                    20.92,
                    15.36,
                    20.49,
                    25.21,
                    18.24,
                    14.31,
                    14,
                    7.25,
                    38.07,
                    23.95,
                    25.71,
                    17.31,
                    29.93,
                    10.65,
                    12.43,
                    24.08,
                    11.69,
                    13.42,
                    14.26,
                    15.95,
                    12.48,
                    29.8,
                    8.52,
                    14.52,
                    11.38,
                    22.82,
                    19.08,
                    20.27,
                    11.17,
                    12.26,
                    18.26,
                    8.51,
                    10.33,
                    14.15,
                    16,
                    13.16,
                    17.47,
                    34.3,
                    41.19,
                    27.05,
                    16.43,
                    8.35,
                    18.64,
                    11.87,
                    9.78,
                    7.51,
                    14.07,
                    13.13,
                    17.26,
                    24.55,
                    19.77,
                    29.85,
                    48.17,
                    25,
                    13.39,
                    16.49,
                    21.5,
                    12.66,
                    16.21,
                    13.81,
                    17.51,
                    24.52,
                    20.76,
                    31.71,
                    10.59,
                    10.63,
                    50.81,
                    15.81,
                    7.25,
                    31.85,
                    16.82,
                    32.9,
                    17.89,
                    14.48,
                    9.6,
                    34.63,
                    34.65,
                    23.33,
                    45.35,
                    23.17,
                    40.55,
                    20.69,
                    20.9,
                    30.46,
                    18.15,
                    23.1,
                    15.69,
                    19.81,
                    28.44,
                    15.48,
                    16.58,
                    7.56,
                    10.34,
                    43.11,
                    13,
                    13.51,
                    18.71,
                    12.74,
                    13,
                    16.4,
                    20.53,
                    16.47,
                    26.59,
                    38.73,
                    24.27,
                    12.76,
                    30.06,
                    25.89,
                    48.33,
                    13.27,
                    28.17,
                    12.9,
                    28.15,
                    11.59,
                    7.74,
                    30.14,
                    12.16,
                    13.42,
                    8.58,
                    15.98,
                    13.42,
                    16.27,
                    10.09,
                    20.45,
                    13.28,
                    22.12,
                    24.01,
                    15.69,
                    11.61,
                    10.77,
                    15.53,
                    10.07,
                    12.6,
                    32.83,
                    35.83,
                    29.03,
                    27.18,
                    22.67,
                    17.82,
                    18.78
                  ]
                }
              ],
              "layout": {
                "legend": {
                  "tracegroupgap": 0
                },
                "margin": {
                  "t": 60
                },
                "template": {
                  "data": {
                    "bar": [
                      {
                        "error_x": {
                          "color": "#2a3f5f"
                        },
                        "error_y": {
                          "color": "#2a3f5f"
                        },
                        "marker": {
                          "line": {
                            "color": "#E5ECF6",
                            "width": 0.5
                          },
                          "pattern": {
                            "fillmode": "overlay",
                            "size": 10,
                            "solidity": 0.2
                          }
                        },
                        "type": "bar"
                      }
                    ],
                    "barpolar": [
                      {
                        "marker": {
                          "line": {
                            "color": "#E5ECF6",
                            "width": 0.5
                          },
                          "pattern": {
                            "fillmode": "overlay",
                            "size": 10,
                            "solidity": 0.2
                          }
                        },
                        "type": "barpolar"
                      }
                    ],
                    "carpet": [
                      {
                        "aaxis": {
                          "endlinecolor": "#2a3f5f",
                          "gridcolor": "white",
                          "linecolor": "white",
                          "minorgridcolor": "white",
                          "startlinecolor": "#2a3f5f"
                        },
                        "baxis": {
                          "endlinecolor": "#2a3f5f",
                          "gridcolor": "white",
                          "linecolor": "white",
                          "minorgridcolor": "white",
                          "startlinecolor": "#2a3f5f"
                        },
                        "type": "carpet"
                      }
                    ],
                    "choropleth": [
                      {
                        "colorbar": {
                          "outlinewidth": 0,
                          "ticks": ""
                        },
                        "type": "choropleth"
                      }
                    ],
                    "contour": [
                      {
                        "colorbar": {
                          "outlinewidth": 0,
                          "ticks": ""
                        },
                        "colorscale": [
                          [
                            0,
                            "#0d0887"
                          ],
                          [
                            0.1111111111111111,
                            "#46039f"
                          ],
                          [
                            0.2222222222222222,
                            "#7201a8"
                          ],
                          [
                            0.3333333333333333,
                            "#9c179e"
                          ],
                          [
                            0.4444444444444444,
                            "#bd3786"
                          ],
                          [
                            0.5555555555555556,
                            "#d8576b"
                          ],
                          [
                            0.6666666666666666,
                            "#ed7953"
                          ],
                          [
                            0.7777777777777778,
                            "#fb9f3a"
                          ],
                          [
                            0.8888888888888888,
                            "#fdca26"
                          ],
                          [
                            1,
                            "#f0f921"
                          ]
                        ],
                        "type": "contour"
                      }
                    ],
                    "contourcarpet": [
                      {
                        "colorbar": {
                          "outlinewidth": 0,
                          "ticks": ""
                        },
                        "type": "contourcarpet"
                      }
                    ],
                    "heatmap": [
                      {
                        "colorbar": {
                          "outlinewidth": 0,
                          "ticks": ""
                        },
                        "colorscale": [
                          [
                            0,
                            "#0d0887"
                          ],
                          [
                            0.1111111111111111,
                            "#46039f"
                          ],
                          [
                            0.2222222222222222,
                            "#7201a8"
                          ],
                          [
                            0.3333333333333333,
                            "#9c179e"
                          ],
                          [
                            0.4444444444444444,
                            "#bd3786"
                          ],
                          [
                            0.5555555555555556,
                            "#d8576b"
                          ],
                          [
                            0.6666666666666666,
                            "#ed7953"
                          ],
                          [
                            0.7777777777777778,
                            "#fb9f3a"
                          ],
                          [
                            0.8888888888888888,
                            "#fdca26"
                          ],
                          [
                            1,
                            "#f0f921"
                          ]
                        ],
                        "type": "heatmap"
                      }
                    ],
                    "heatmapgl": [
                      {
                        "colorbar": {
                          "outlinewidth": 0,
                          "ticks": ""
                        },
                        "colorscale": [
                          [
                            0,
                            "#0d0887"
                          ],
                          [
                            0.1111111111111111,
                            "#46039f"
                          ],
                          [
                            0.2222222222222222,
                            "#7201a8"
                          ],
                          [
                            0.3333333333333333,
                            "#9c179e"
                          ],
                          [
                            0.4444444444444444,
                            "#bd3786"
                          ],
                          [
                            0.5555555555555556,
                            "#d8576b"
                          ],
                          [
                            0.6666666666666666,
                            "#ed7953"
                          ],
                          [
                            0.7777777777777778,
                            "#fb9f3a"
                          ],
                          [
                            0.8888888888888888,
                            "#fdca26"
                          ],
                          [
                            1,
                            "#f0f921"
                          ]
                        ],
                        "type": "heatmapgl"
                      }
                    ],
                    "histogram": [
                      {
                        "marker": {
                          "pattern": {
                            "fillmode": "overlay",
                            "size": 10,
                            "solidity": 0.2
                          }
                        },
                        "type": "histogram"
                      }
                    ],
                    "histogram2d": [
                      {
                        "colorbar": {
                          "outlinewidth": 0,
                          "ticks": ""
                        },
                        "colorscale": [
                          [
                            0,
                            "#0d0887"
                          ],
                          [
                            0.1111111111111111,
                            "#46039f"
                          ],
                          [
                            0.2222222222222222,
                            "#7201a8"
                          ],
                          [
                            0.3333333333333333,
                            "#9c179e"
                          ],
                          [
                            0.4444444444444444,
                            "#bd3786"
                          ],
                          [
                            0.5555555555555556,
                            "#d8576b"
                          ],
                          [
                            0.6666666666666666,
                            "#ed7953"
                          ],
                          [
                            0.7777777777777778,
                            "#fb9f3a"
                          ],
                          [
                            0.8888888888888888,
                            "#fdca26"
                          ],
                          [
                            1,
                            "#f0f921"
                          ]
                        ],
                        "type": "histogram2d"
                      }
                    ],
                    "histogram2dcontour": [
                      {
                        "colorbar": {
                          "outlinewidth": 0,
                          "ticks": ""
                        },
                        "colorscale": [
                          [
                            0,
                            "#0d0887"
                          ],
                          [
                            0.1111111111111111,
                            "#46039f"
                          ],
                          [
                            0.2222222222222222,
                            "#7201a8"
                          ],
                          [
                            0.3333333333333333,
                            "#9c179e"
                          ],
                          [
                            0.4444444444444444,
                            "#bd3786"
                          ],
                          [
                            0.5555555555555556,
                            "#d8576b"
                          ],
                          [
                            0.6666666666666666,
                            "#ed7953"
                          ],
                          [
                            0.7777777777777778,
                            "#fb9f3a"
                          ],
                          [
                            0.8888888888888888,
                            "#fdca26"
                          ],
                          [
                            1,
                            "#f0f921"
                          ]
                        ],
                        "type": "histogram2dcontour"
                      }
                    ],
                    "mesh3d": [
                      {
                        "colorbar": {
                          "outlinewidth": 0,
                          "ticks": ""
                        },
                        "type": "mesh3d"
                      }
                    ],
                    "parcoords": [
                      {
                        "line": {
                          "colorbar": {
                            "outlinewidth": 0,
                            "ticks": ""
                          }
                        },
                        "type": "parcoords"
                      }
                    ],
                    "pie": [
                      {
                        "automargin": true,
                        "type": "pie"
                      }
                    ],
                    "scatter": [
                      {
                        "fillpattern": {
                          "fillmode": "overlay",
                          "size": 10,
                          "solidity": 0.2
                        },
                        "type": "scatter"
                      }
                    ],
                    "scatter3d": [
                      {
                        "line": {
                          "colorbar": {
                            "outlinewidth": 0,
                            "ticks": ""
                          }
                        },
                        "marker": {
                          "colorbar": {
                            "outlinewidth": 0,
                            "ticks": ""
                          }
                        },
                        "type": "scatter3d"
                      }
                    ],
                    "scattercarpet": [
                      {
                        "marker": {
                          "colorbar": {
                            "outlinewidth": 0,
                            "ticks": ""
                          }
                        },
                        "type": "scattercarpet"
                      }
                    ],
                    "scattergeo": [
                      {
                        "marker": {
                          "colorbar": {
                            "outlinewidth": 0,
                            "ticks": ""
                          }
                        },
                        "type": "scattergeo"
                      }
                    ],
                    "scattergl": [
                      {
                        "marker": {
                          "colorbar": {
                            "outlinewidth": 0,
                            "ticks": ""
                          }
                        },
                        "type": "scattergl"
                      }
                    ],
                    "scattermapbox": [
                      {
                        "marker": {
                          "colorbar": {
                            "outlinewidth": 0,
                            "ticks": ""
                          }
                        },
                        "type": "scattermapbox"
                      }
                    ],
                    "scatterpolar": [
                      {
                        "marker": {
                          "colorbar": {
                            "outlinewidth": 0,
                            "ticks": ""
                          }
                        },
                        "type": "scatterpolar"
                      }
                    ],
                    "scatterpolargl": [
                      {
                        "marker": {
                          "colorbar": {
                            "outlinewidth": 0,
                            "ticks": ""
                          }
                        },
                        "type": "scatterpolargl"
                      }
                    ],
                    "scatterternary": [
                      {
                        "marker": {
                          "colorbar": {
                            "outlinewidth": 0,
                            "ticks": ""
                          }
                        },
                        "type": "scatterternary"
                      }
                    ],
                    "surface": [
                      {
                        "colorbar": {
                          "outlinewidth": 0,
                          "ticks": ""
                        },
                        "colorscale": [
                          [
                            0,
                            "#0d0887"
                          ],
                          [
                            0.1111111111111111,
                            "#46039f"
                          ],
                          [
                            0.2222222222222222,
                            "#7201a8"
                          ],
                          [
                            0.3333333333333333,
                            "#9c179e"
                          ],
                          [
                            0.4444444444444444,
                            "#bd3786"
                          ],
                          [
                            0.5555555555555556,
                            "#d8576b"
                          ],
                          [
                            0.6666666666666666,
                            "#ed7953"
                          ],
                          [
                            0.7777777777777778,
                            "#fb9f3a"
                          ],
                          [
                            0.8888888888888888,
                            "#fdca26"
                          ],
                          [
                            1,
                            "#f0f921"
                          ]
                        ],
                        "type": "surface"
                      }
                    ],
                    "table": [
                      {
                        "cells": {
                          "fill": {
                            "color": "#EBF0F8"
                          },
                          "line": {
                            "color": "white"
                          }
                        },
                        "header": {
                          "fill": {
                            "color": "#C8D4E3"
                          },
                          "line": {
                            "color": "white"
                          }
                        },
                        "type": "table"
                      }
                    ]
                  },
                  "layout": {
                    "annotationdefaults": {
                      "arrowcolor": "#2a3f5f",
                      "arrowhead": 0,
                      "arrowwidth": 1
                    },
                    "autotypenumbers": "strict",
                    "coloraxis": {
                      "colorbar": {
                        "outlinewidth": 0,
                        "ticks": ""
                      }
                    },
                    "colorscale": {
                      "diverging": [
                        [
                          0,
                          "#8e0152"
                        ],
                        [
                          0.1,
                          "#c51b7d"
                        ],
                        [
                          0.2,
                          "#de77ae"
                        ],
                        [
                          0.3,
                          "#f1b6da"
                        ],
                        [
                          0.4,
                          "#fde0ef"
                        ],
                        [
                          0.5,
                          "#f7f7f7"
                        ],
                        [
                          0.6,
                          "#e6f5d0"
                        ],
                        [
                          0.7,
                          "#b8e186"
                        ],
                        [
                          0.8,
                          "#7fbc41"
                        ],
                        [
                          0.9,
                          "#4d9221"
                        ],
                        [
                          1,
                          "#276419"
                        ]
                      ],
                      "sequential": [
                        [
                          0,
                          "#0d0887"
                        ],
                        [
                          0.1111111111111111,
                          "#46039f"
                        ],
                        [
                          0.2222222222222222,
                          "#7201a8"
                        ],
                        [
                          0.3333333333333333,
                          "#9c179e"
                        ],
                        [
                          0.4444444444444444,
                          "#bd3786"
                        ],
                        [
                          0.5555555555555556,
                          "#d8576b"
                        ],
                        [
                          0.6666666666666666,
                          "#ed7953"
                        ],
                        [
                          0.7777777777777778,
                          "#fb9f3a"
                        ],
                        [
                          0.8888888888888888,
                          "#fdca26"
                        ],
                        [
                          1,
                          "#f0f921"
                        ]
                      ],
                      "sequentialminus": [
                        [
                          0,
                          "#0d0887"
                        ],
                        [
                          0.1111111111111111,
                          "#46039f"
                        ],
                        [
                          0.2222222222222222,
                          "#7201a8"
                        ],
                        [
                          0.3333333333333333,
                          "#9c179e"
                        ],
                        [
                          0.4444444444444444,
                          "#bd3786"
                        ],
                        [
                          0.5555555555555556,
                          "#d8576b"
                        ],
                        [
                          0.6666666666666666,
                          "#ed7953"
                        ],
                        [
                          0.7777777777777778,
                          "#fb9f3a"
                        ],
                        [
                          0.8888888888888888,
                          "#fdca26"
                        ],
                        [
                          1,
                          "#f0f921"
                        ]
                      ]
                    },
                    "colorway": [
                      "#636efa",
                      "#EF553B",
                      "#00cc96",
                      "#ab63fa",
                      "#FFA15A",
                      "#19d3f3",
                      "#FF6692",
                      "#B6E880",
                      "#FF97FF",
                      "#FECB52"
                    ],
                    "font": {
                      "color": "#2a3f5f"
                    },
                    "geo": {
                      "bgcolor": "white",
                      "lakecolor": "white",
                      "landcolor": "#E5ECF6",
                      "showlakes": true,
                      "showland": true,
                      "subunitcolor": "white"
                    },
                    "hoverlabel": {
                      "align": "left"
                    },
                    "hovermode": "closest",
                    "mapbox": {
                      "style": "light"
                    },
                    "paper_bgcolor": "white",
                    "plot_bgcolor": "#E5ECF6",
                    "polar": {
                      "angularaxis": {
                        "gridcolor": "white",
                        "linecolor": "white",
                        "ticks": ""
                      },
                      "bgcolor": "#E5ECF6",
                      "radialaxis": {
                        "gridcolor": "white",
                        "linecolor": "white",
                        "ticks": ""
                      }
                    },
                    "scene": {
                      "xaxis": {
                        "backgroundcolor": "#E5ECF6",
                        "gridcolor": "white",
                        "gridwidth": 2,
                        "linecolor": "white",
                        "showbackground": true,
                        "ticks": "",
                        "zerolinecolor": "white"
                      },
                      "yaxis": {
                        "backgroundcolor": "#E5ECF6",
                        "gridcolor": "white",
                        "gridwidth": 2,
                        "linecolor": "white",
                        "showbackground": true,
                        "ticks": "",
                        "zerolinecolor": "white"
                      },
                      "zaxis": {
                        "backgroundcolor": "#E5ECF6",
                        "gridcolor": "white",
                        "gridwidth": 2,
                        "linecolor": "white",
                        "showbackground": true,
                        "ticks": "",
                        "zerolinecolor": "white"
                      }
                    },
                    "shapedefaults": {
                      "line": {
                        "color": "#2a3f5f"
                      }
                    },
                    "ternary": {
                      "aaxis": {
                        "gridcolor": "white",
                        "linecolor": "white",
                        "ticks": ""
                      },
                      "baxis": {
                        "gridcolor": "white",
                        "linecolor": "white",
                        "ticks": ""
                      },
                      "bgcolor": "#E5ECF6",
                      "caxis": {
                        "gridcolor": "white",
                        "linecolor": "white",
                        "ticks": ""
                      }
                    },
                    "title": {
                      "x": 0.05
                    },
                    "xaxis": {
                      "automargin": true,
                      "gridcolor": "white",
                      "linecolor": "white",
                      "ticks": "",
                      "title": {
                        "standoff": 15
                      },
                      "zerolinecolor": "white",
                      "zerolinewidth": 2
                    },
                    "yaxis": {
                      "automargin": true,
                      "gridcolor": "white",
                      "linecolor": "white",
                      "ticks": "",
                      "title": {
                        "standoff": 15
                      },
                      "zerolinecolor": "white",
                      "zerolinewidth": 2
                    }
                  }
                }
              }
            }
          },
          "metadata": {},
          "output_type": "display_data"
        }
      ],
      "source": [
        "#Completar\n",
        "px.pie(names='smoker',values='total_bill',data_frame=df)"
      ]
    },
    {
      "cell_type": "markdown",
      "metadata": {
        "id": "D6HePCafaW7g"
      },
      "source": [
        "2. Crear un pie plot en base a names=\"day\", values='tip'"
      ]
    },
    {
      "cell_type": "code",
      "execution_count": 84,
      "metadata": {
        "id": "bX_bml2qD4us"
      },
      "outputs": [
        {
          "data": {
            "application/vnd.plotly.v1+json": {
              "config": {
                "plotlyServerURL": "https://plot.ly"
              },
              "data": [
                {
                  "domain": {
                    "x": [
                      0,
                      1
                    ],
                    "y": [
                      0,
                      1
                    ]
                  },
                  "hovertemplate": "day=%{label}<br>tip=%{value}<extra></extra>",
                  "labels": [
                    "Sun",
                    "Sun",
                    "Sun",
                    "Sun",
                    "Sun",
                    "Sun",
                    "Sun",
                    "Sun",
                    "Sun",
                    "Sun",
                    "Sun",
                    "Sun",
                    "Sun",
                    "Sun",
                    "Sun",
                    "Sun",
                    "Sun",
                    "Sun",
                    "Sun",
                    "Sat",
                    "Sat",
                    "Sat",
                    "Sat",
                    "Sat",
                    "Sat",
                    "Sat",
                    "Sat",
                    "Sat",
                    "Sat",
                    "Sat",
                    "Sat",
                    "Sat",
                    "Sat",
                    "Sat",
                    "Sat",
                    "Sat",
                    "Sat",
                    "Sat",
                    "Sat",
                    "Sat",
                    "Sat",
                    "Sun",
                    "Sun",
                    "Sun",
                    "Sun",
                    "Sun",
                    "Sun",
                    "Sun",
                    "Sun",
                    "Sun",
                    "Sun",
                    "Sun",
                    "Sun",
                    "Sun",
                    "Sun",
                    "Sun",
                    "Sat",
                    "Sat",
                    "Sat",
                    "Sat",
                    "Sat",
                    "Sat",
                    "Sat",
                    "Sat",
                    "Sat",
                    "Sat",
                    "Sat",
                    "Sat",
                    "Sat",
                    "Sat",
                    "Sat",
                    "Sat",
                    "Sat",
                    "Sat",
                    "Sat",
                    "Sat",
                    "Sat",
                    "Thur",
                    "Thur",
                    "Thur",
                    "Thur",
                    "Thur",
                    "Thur",
                    "Thur",
                    "Thur",
                    "Thur",
                    "Thur",
                    "Thur",
                    "Thur",
                    "Thur",
                    "Fri",
                    "Fri",
                    "Fri",
                    "Fri",
                    "Fri",
                    "Fri",
                    "Fri",
                    "Fri",
                    "Fri",
                    "Fri",
                    "Fri",
                    "Fri",
                    "Sat",
                    "Sat",
                    "Sat",
                    "Sat",
                    "Sat",
                    "Sat",
                    "Sat",
                    "Sat",
                    "Sat",
                    "Sat",
                    "Sun",
                    "Sun",
                    "Sun",
                    "Sun",
                    "Sun",
                    "Thur",
                    "Thur",
                    "Thur",
                    "Thur",
                    "Thur",
                    "Thur",
                    "Thur",
                    "Thur",
                    "Thur",
                    "Thur",
                    "Thur",
                    "Thur",
                    "Thur",
                    "Thur",
                    "Thur",
                    "Thur",
                    "Thur",
                    "Thur",
                    "Thur",
                    "Thur",
                    "Thur",
                    "Thur",
                    "Thur",
                    "Thur",
                    "Thur",
                    "Thur",
                    "Thur",
                    "Thur",
                    "Thur",
                    "Thur",
                    "Thur",
                    "Thur",
                    "Thur",
                    "Sun",
                    "Sun",
                    "Sun",
                    "Sun",
                    "Sun",
                    "Sun",
                    "Sun",
                    "Sun",
                    "Sun",
                    "Sun",
                    "Sun",
                    "Sun",
                    "Sun",
                    "Sun",
                    "Sun",
                    "Sun",
                    "Sun",
                    "Sun",
                    "Sat",
                    "Sat",
                    "Sat",
                    "Sat",
                    "Sun",
                    "Sun",
                    "Sun",
                    "Sun",
                    "Sun",
                    "Sun",
                    "Sun",
                    "Sun",
                    "Sun",
                    "Sun",
                    "Sun",
                    "Sun",
                    "Sun",
                    "Sun",
                    "Sun",
                    "Sun",
                    "Sun",
                    "Sun",
                    "Sun",
                    "Thur",
                    "Thur",
                    "Thur",
                    "Thur",
                    "Thur",
                    "Thur",
                    "Thur",
                    "Thur",
                    "Thur",
                    "Thur",
                    "Thur",
                    "Thur",
                    "Thur",
                    "Thur",
                    "Thur",
                    "Sat",
                    "Sat",
                    "Sat",
                    "Sat",
                    "Sat",
                    "Sat",
                    "Sat",
                    "Sat",
                    "Sat",
                    "Sat",
                    "Sat",
                    "Sat",
                    "Sat",
                    "Sat",
                    "Fri",
                    "Fri",
                    "Fri",
                    "Fri",
                    "Fri",
                    "Fri",
                    "Fri",
                    "Sat",
                    "Sat",
                    "Sat",
                    "Sat",
                    "Sat",
                    "Sat",
                    "Sat",
                    "Sat",
                    "Sat",
                    "Sat",
                    "Sat",
                    "Sat",
                    "Sat",
                    "Sat",
                    "Sat",
                    "Sat",
                    "Thur"
                  ],
                  "legendgroup": "",
                  "name": "",
                  "showlegend": true,
                  "type": "pie",
                  "values": [
                    1.01,
                    1.66,
                    3.5,
                    3.31,
                    3.61,
                    4.71,
                    2,
                    3.12,
                    1.96,
                    3.23,
                    1.71,
                    5,
                    1.57,
                    3,
                    3.02,
                    3.92,
                    1.67,
                    3.71,
                    3.5,
                    3.35,
                    4.08,
                    2.75,
                    2.23,
                    7.58,
                    3.18,
                    2.34,
                    2,
                    2,
                    4.3,
                    3,
                    1.45,
                    2.5,
                    3,
                    2.45,
                    3.27,
                    3.6,
                    2,
                    3.07,
                    2.31,
                    5,
                    2.24,
                    2.54,
                    3.06,
                    1.32,
                    5.6,
                    3,
                    5,
                    6,
                    2.05,
                    3,
                    2.5,
                    2.6,
                    5.2,
                    1.56,
                    4.34,
                    3.51,
                    3,
                    1.5,
                    1.76,
                    6.73,
                    3.21,
                    2,
                    1.98,
                    3.76,
                    2.64,
                    3.15,
                    2.47,
                    1,
                    2.01,
                    2.09,
                    1.97,
                    3,
                    3.14,
                    5,
                    2.2,
                    1.25,
                    3.08,
                    4,
                    3,
                    2.71,
                    3,
                    3.4,
                    1.83,
                    5,
                    2.03,
                    5.17,
                    2,
                    4,
                    5.85,
                    3,
                    3,
                    3.5,
                    1,
                    4.3,
                    3.25,
                    4.73,
                    4,
                    1.5,
                    3,
                    1.5,
                    2.5,
                    3,
                    2.5,
                    3.48,
                    4.08,
                    1.64,
                    4.06,
                    4.29,
                    3.76,
                    4,
                    3,
                    1,
                    4,
                    2.55,
                    4,
                    3.5,
                    5.07,
                    1.5,
                    1.8,
                    2.92,
                    2.31,
                    1.68,
                    2.5,
                    2,
                    2.52,
                    4.2,
                    1.48,
                    2,
                    2,
                    2.18,
                    1.5,
                    2.83,
                    1.5,
                    2,
                    3.25,
                    1.25,
                    2,
                    2,
                    2,
                    2.75,
                    3.5,
                    6.7,
                    5,
                    5,
                    2.3,
                    1.5,
                    1.36,
                    1.63,
                    1.73,
                    2,
                    2.5,
                    2,
                    2.74,
                    2,
                    2,
                    5.14,
                    5,
                    3.75,
                    2.61,
                    2,
                    3.5,
                    2.5,
                    2,
                    2,
                    3,
                    3.48,
                    2.24,
                    4.5,
                    1.61,
                    2,
                    10,
                    3.16,
                    5.15,
                    3.18,
                    4,
                    3.11,
                    2,
                    2,
                    4,
                    3.55,
                    3.68,
                    5.65,
                    3.5,
                    6.5,
                    3,
                    5,
                    3.5,
                    2,
                    3.5,
                    4,
                    1.5,
                    4.19,
                    2.56,
                    2.02,
                    4,
                    1.44,
                    2,
                    5,
                    2,
                    2,
                    4,
                    2.01,
                    2,
                    2.5,
                    4,
                    3.23,
                    3.41,
                    3,
                    2.03,
                    2.23,
                    2,
                    5.16,
                    9,
                    2.5,
                    6.5,
                    1.1,
                    3,
                    1.5,
                    1.44,
                    3.09,
                    2.2,
                    3.48,
                    1.92,
                    3,
                    1.58,
                    2.5,
                    2,
                    3,
                    2.72,
                    2.88,
                    2,
                    3,
                    3.39,
                    1.47,
                    3,
                    1.25,
                    1,
                    1.17,
                    4.67,
                    5.92,
                    2,
                    2,
                    1.75,
                    3
                  ]
                }
              ],
              "layout": {
                "legend": {
                  "tracegroupgap": 0
                },
                "margin": {
                  "t": 60
                },
                "template": {
                  "data": {
                    "bar": [
                      {
                        "error_x": {
                          "color": "#2a3f5f"
                        },
                        "error_y": {
                          "color": "#2a3f5f"
                        },
                        "marker": {
                          "line": {
                            "color": "#E5ECF6",
                            "width": 0.5
                          },
                          "pattern": {
                            "fillmode": "overlay",
                            "size": 10,
                            "solidity": 0.2
                          }
                        },
                        "type": "bar"
                      }
                    ],
                    "barpolar": [
                      {
                        "marker": {
                          "line": {
                            "color": "#E5ECF6",
                            "width": 0.5
                          },
                          "pattern": {
                            "fillmode": "overlay",
                            "size": 10,
                            "solidity": 0.2
                          }
                        },
                        "type": "barpolar"
                      }
                    ],
                    "carpet": [
                      {
                        "aaxis": {
                          "endlinecolor": "#2a3f5f",
                          "gridcolor": "white",
                          "linecolor": "white",
                          "minorgridcolor": "white",
                          "startlinecolor": "#2a3f5f"
                        },
                        "baxis": {
                          "endlinecolor": "#2a3f5f",
                          "gridcolor": "white",
                          "linecolor": "white",
                          "minorgridcolor": "white",
                          "startlinecolor": "#2a3f5f"
                        },
                        "type": "carpet"
                      }
                    ],
                    "choropleth": [
                      {
                        "colorbar": {
                          "outlinewidth": 0,
                          "ticks": ""
                        },
                        "type": "choropleth"
                      }
                    ],
                    "contour": [
                      {
                        "colorbar": {
                          "outlinewidth": 0,
                          "ticks": ""
                        },
                        "colorscale": [
                          [
                            0,
                            "#0d0887"
                          ],
                          [
                            0.1111111111111111,
                            "#46039f"
                          ],
                          [
                            0.2222222222222222,
                            "#7201a8"
                          ],
                          [
                            0.3333333333333333,
                            "#9c179e"
                          ],
                          [
                            0.4444444444444444,
                            "#bd3786"
                          ],
                          [
                            0.5555555555555556,
                            "#d8576b"
                          ],
                          [
                            0.6666666666666666,
                            "#ed7953"
                          ],
                          [
                            0.7777777777777778,
                            "#fb9f3a"
                          ],
                          [
                            0.8888888888888888,
                            "#fdca26"
                          ],
                          [
                            1,
                            "#f0f921"
                          ]
                        ],
                        "type": "contour"
                      }
                    ],
                    "contourcarpet": [
                      {
                        "colorbar": {
                          "outlinewidth": 0,
                          "ticks": ""
                        },
                        "type": "contourcarpet"
                      }
                    ],
                    "heatmap": [
                      {
                        "colorbar": {
                          "outlinewidth": 0,
                          "ticks": ""
                        },
                        "colorscale": [
                          [
                            0,
                            "#0d0887"
                          ],
                          [
                            0.1111111111111111,
                            "#46039f"
                          ],
                          [
                            0.2222222222222222,
                            "#7201a8"
                          ],
                          [
                            0.3333333333333333,
                            "#9c179e"
                          ],
                          [
                            0.4444444444444444,
                            "#bd3786"
                          ],
                          [
                            0.5555555555555556,
                            "#d8576b"
                          ],
                          [
                            0.6666666666666666,
                            "#ed7953"
                          ],
                          [
                            0.7777777777777778,
                            "#fb9f3a"
                          ],
                          [
                            0.8888888888888888,
                            "#fdca26"
                          ],
                          [
                            1,
                            "#f0f921"
                          ]
                        ],
                        "type": "heatmap"
                      }
                    ],
                    "heatmapgl": [
                      {
                        "colorbar": {
                          "outlinewidth": 0,
                          "ticks": ""
                        },
                        "colorscale": [
                          [
                            0,
                            "#0d0887"
                          ],
                          [
                            0.1111111111111111,
                            "#46039f"
                          ],
                          [
                            0.2222222222222222,
                            "#7201a8"
                          ],
                          [
                            0.3333333333333333,
                            "#9c179e"
                          ],
                          [
                            0.4444444444444444,
                            "#bd3786"
                          ],
                          [
                            0.5555555555555556,
                            "#d8576b"
                          ],
                          [
                            0.6666666666666666,
                            "#ed7953"
                          ],
                          [
                            0.7777777777777778,
                            "#fb9f3a"
                          ],
                          [
                            0.8888888888888888,
                            "#fdca26"
                          ],
                          [
                            1,
                            "#f0f921"
                          ]
                        ],
                        "type": "heatmapgl"
                      }
                    ],
                    "histogram": [
                      {
                        "marker": {
                          "pattern": {
                            "fillmode": "overlay",
                            "size": 10,
                            "solidity": 0.2
                          }
                        },
                        "type": "histogram"
                      }
                    ],
                    "histogram2d": [
                      {
                        "colorbar": {
                          "outlinewidth": 0,
                          "ticks": ""
                        },
                        "colorscale": [
                          [
                            0,
                            "#0d0887"
                          ],
                          [
                            0.1111111111111111,
                            "#46039f"
                          ],
                          [
                            0.2222222222222222,
                            "#7201a8"
                          ],
                          [
                            0.3333333333333333,
                            "#9c179e"
                          ],
                          [
                            0.4444444444444444,
                            "#bd3786"
                          ],
                          [
                            0.5555555555555556,
                            "#d8576b"
                          ],
                          [
                            0.6666666666666666,
                            "#ed7953"
                          ],
                          [
                            0.7777777777777778,
                            "#fb9f3a"
                          ],
                          [
                            0.8888888888888888,
                            "#fdca26"
                          ],
                          [
                            1,
                            "#f0f921"
                          ]
                        ],
                        "type": "histogram2d"
                      }
                    ],
                    "histogram2dcontour": [
                      {
                        "colorbar": {
                          "outlinewidth": 0,
                          "ticks": ""
                        },
                        "colorscale": [
                          [
                            0,
                            "#0d0887"
                          ],
                          [
                            0.1111111111111111,
                            "#46039f"
                          ],
                          [
                            0.2222222222222222,
                            "#7201a8"
                          ],
                          [
                            0.3333333333333333,
                            "#9c179e"
                          ],
                          [
                            0.4444444444444444,
                            "#bd3786"
                          ],
                          [
                            0.5555555555555556,
                            "#d8576b"
                          ],
                          [
                            0.6666666666666666,
                            "#ed7953"
                          ],
                          [
                            0.7777777777777778,
                            "#fb9f3a"
                          ],
                          [
                            0.8888888888888888,
                            "#fdca26"
                          ],
                          [
                            1,
                            "#f0f921"
                          ]
                        ],
                        "type": "histogram2dcontour"
                      }
                    ],
                    "mesh3d": [
                      {
                        "colorbar": {
                          "outlinewidth": 0,
                          "ticks": ""
                        },
                        "type": "mesh3d"
                      }
                    ],
                    "parcoords": [
                      {
                        "line": {
                          "colorbar": {
                            "outlinewidth": 0,
                            "ticks": ""
                          }
                        },
                        "type": "parcoords"
                      }
                    ],
                    "pie": [
                      {
                        "automargin": true,
                        "type": "pie"
                      }
                    ],
                    "scatter": [
                      {
                        "fillpattern": {
                          "fillmode": "overlay",
                          "size": 10,
                          "solidity": 0.2
                        },
                        "type": "scatter"
                      }
                    ],
                    "scatter3d": [
                      {
                        "line": {
                          "colorbar": {
                            "outlinewidth": 0,
                            "ticks": ""
                          }
                        },
                        "marker": {
                          "colorbar": {
                            "outlinewidth": 0,
                            "ticks": ""
                          }
                        },
                        "type": "scatter3d"
                      }
                    ],
                    "scattercarpet": [
                      {
                        "marker": {
                          "colorbar": {
                            "outlinewidth": 0,
                            "ticks": ""
                          }
                        },
                        "type": "scattercarpet"
                      }
                    ],
                    "scattergeo": [
                      {
                        "marker": {
                          "colorbar": {
                            "outlinewidth": 0,
                            "ticks": ""
                          }
                        },
                        "type": "scattergeo"
                      }
                    ],
                    "scattergl": [
                      {
                        "marker": {
                          "colorbar": {
                            "outlinewidth": 0,
                            "ticks": ""
                          }
                        },
                        "type": "scattergl"
                      }
                    ],
                    "scattermapbox": [
                      {
                        "marker": {
                          "colorbar": {
                            "outlinewidth": 0,
                            "ticks": ""
                          }
                        },
                        "type": "scattermapbox"
                      }
                    ],
                    "scatterpolar": [
                      {
                        "marker": {
                          "colorbar": {
                            "outlinewidth": 0,
                            "ticks": ""
                          }
                        },
                        "type": "scatterpolar"
                      }
                    ],
                    "scatterpolargl": [
                      {
                        "marker": {
                          "colorbar": {
                            "outlinewidth": 0,
                            "ticks": ""
                          }
                        },
                        "type": "scatterpolargl"
                      }
                    ],
                    "scatterternary": [
                      {
                        "marker": {
                          "colorbar": {
                            "outlinewidth": 0,
                            "ticks": ""
                          }
                        },
                        "type": "scatterternary"
                      }
                    ],
                    "surface": [
                      {
                        "colorbar": {
                          "outlinewidth": 0,
                          "ticks": ""
                        },
                        "colorscale": [
                          [
                            0,
                            "#0d0887"
                          ],
                          [
                            0.1111111111111111,
                            "#46039f"
                          ],
                          [
                            0.2222222222222222,
                            "#7201a8"
                          ],
                          [
                            0.3333333333333333,
                            "#9c179e"
                          ],
                          [
                            0.4444444444444444,
                            "#bd3786"
                          ],
                          [
                            0.5555555555555556,
                            "#d8576b"
                          ],
                          [
                            0.6666666666666666,
                            "#ed7953"
                          ],
                          [
                            0.7777777777777778,
                            "#fb9f3a"
                          ],
                          [
                            0.8888888888888888,
                            "#fdca26"
                          ],
                          [
                            1,
                            "#f0f921"
                          ]
                        ],
                        "type": "surface"
                      }
                    ],
                    "table": [
                      {
                        "cells": {
                          "fill": {
                            "color": "#EBF0F8"
                          },
                          "line": {
                            "color": "white"
                          }
                        },
                        "header": {
                          "fill": {
                            "color": "#C8D4E3"
                          },
                          "line": {
                            "color": "white"
                          }
                        },
                        "type": "table"
                      }
                    ]
                  },
                  "layout": {
                    "annotationdefaults": {
                      "arrowcolor": "#2a3f5f",
                      "arrowhead": 0,
                      "arrowwidth": 1
                    },
                    "autotypenumbers": "strict",
                    "coloraxis": {
                      "colorbar": {
                        "outlinewidth": 0,
                        "ticks": ""
                      }
                    },
                    "colorscale": {
                      "diverging": [
                        [
                          0,
                          "#8e0152"
                        ],
                        [
                          0.1,
                          "#c51b7d"
                        ],
                        [
                          0.2,
                          "#de77ae"
                        ],
                        [
                          0.3,
                          "#f1b6da"
                        ],
                        [
                          0.4,
                          "#fde0ef"
                        ],
                        [
                          0.5,
                          "#f7f7f7"
                        ],
                        [
                          0.6,
                          "#e6f5d0"
                        ],
                        [
                          0.7,
                          "#b8e186"
                        ],
                        [
                          0.8,
                          "#7fbc41"
                        ],
                        [
                          0.9,
                          "#4d9221"
                        ],
                        [
                          1,
                          "#276419"
                        ]
                      ],
                      "sequential": [
                        [
                          0,
                          "#0d0887"
                        ],
                        [
                          0.1111111111111111,
                          "#46039f"
                        ],
                        [
                          0.2222222222222222,
                          "#7201a8"
                        ],
                        [
                          0.3333333333333333,
                          "#9c179e"
                        ],
                        [
                          0.4444444444444444,
                          "#bd3786"
                        ],
                        [
                          0.5555555555555556,
                          "#d8576b"
                        ],
                        [
                          0.6666666666666666,
                          "#ed7953"
                        ],
                        [
                          0.7777777777777778,
                          "#fb9f3a"
                        ],
                        [
                          0.8888888888888888,
                          "#fdca26"
                        ],
                        [
                          1,
                          "#f0f921"
                        ]
                      ],
                      "sequentialminus": [
                        [
                          0,
                          "#0d0887"
                        ],
                        [
                          0.1111111111111111,
                          "#46039f"
                        ],
                        [
                          0.2222222222222222,
                          "#7201a8"
                        ],
                        [
                          0.3333333333333333,
                          "#9c179e"
                        ],
                        [
                          0.4444444444444444,
                          "#bd3786"
                        ],
                        [
                          0.5555555555555556,
                          "#d8576b"
                        ],
                        [
                          0.6666666666666666,
                          "#ed7953"
                        ],
                        [
                          0.7777777777777778,
                          "#fb9f3a"
                        ],
                        [
                          0.8888888888888888,
                          "#fdca26"
                        ],
                        [
                          1,
                          "#f0f921"
                        ]
                      ]
                    },
                    "colorway": [
                      "#636efa",
                      "#EF553B",
                      "#00cc96",
                      "#ab63fa",
                      "#FFA15A",
                      "#19d3f3",
                      "#FF6692",
                      "#B6E880",
                      "#FF97FF",
                      "#FECB52"
                    ],
                    "font": {
                      "color": "#2a3f5f"
                    },
                    "geo": {
                      "bgcolor": "white",
                      "lakecolor": "white",
                      "landcolor": "#E5ECF6",
                      "showlakes": true,
                      "showland": true,
                      "subunitcolor": "white"
                    },
                    "hoverlabel": {
                      "align": "left"
                    },
                    "hovermode": "closest",
                    "mapbox": {
                      "style": "light"
                    },
                    "paper_bgcolor": "white",
                    "plot_bgcolor": "#E5ECF6",
                    "polar": {
                      "angularaxis": {
                        "gridcolor": "white",
                        "linecolor": "white",
                        "ticks": ""
                      },
                      "bgcolor": "#E5ECF6",
                      "radialaxis": {
                        "gridcolor": "white",
                        "linecolor": "white",
                        "ticks": ""
                      }
                    },
                    "scene": {
                      "xaxis": {
                        "backgroundcolor": "#E5ECF6",
                        "gridcolor": "white",
                        "gridwidth": 2,
                        "linecolor": "white",
                        "showbackground": true,
                        "ticks": "",
                        "zerolinecolor": "white"
                      },
                      "yaxis": {
                        "backgroundcolor": "#E5ECF6",
                        "gridcolor": "white",
                        "gridwidth": 2,
                        "linecolor": "white",
                        "showbackground": true,
                        "ticks": "",
                        "zerolinecolor": "white"
                      },
                      "zaxis": {
                        "backgroundcolor": "#E5ECF6",
                        "gridcolor": "white",
                        "gridwidth": 2,
                        "linecolor": "white",
                        "showbackground": true,
                        "ticks": "",
                        "zerolinecolor": "white"
                      }
                    },
                    "shapedefaults": {
                      "line": {
                        "color": "#2a3f5f"
                      }
                    },
                    "ternary": {
                      "aaxis": {
                        "gridcolor": "white",
                        "linecolor": "white",
                        "ticks": ""
                      },
                      "baxis": {
                        "gridcolor": "white",
                        "linecolor": "white",
                        "ticks": ""
                      },
                      "bgcolor": "#E5ECF6",
                      "caxis": {
                        "gridcolor": "white",
                        "linecolor": "white",
                        "ticks": ""
                      }
                    },
                    "title": {
                      "x": 0.05
                    },
                    "xaxis": {
                      "automargin": true,
                      "gridcolor": "white",
                      "linecolor": "white",
                      "ticks": "",
                      "title": {
                        "standoff": 15
                      },
                      "zerolinecolor": "white",
                      "zerolinewidth": 2
                    },
                    "yaxis": {
                      "automargin": true,
                      "gridcolor": "white",
                      "linecolor": "white",
                      "ticks": "",
                      "title": {
                        "standoff": 15
                      },
                      "zerolinecolor": "white",
                      "zerolinewidth": 2
                    }
                  }
                }
              }
            }
          },
          "metadata": {},
          "output_type": "display_data"
        }
      ],
      "source": [
        "#Completar\n",
        "px.pie(names='day',values='tip',data_frame=df)"
      ]
    },
    {
      "cell_type": "markdown",
      "metadata": {
        "id": "LHy3o_LwHpAa"
      },
      "source": [
        "# Box\n",
        "\n",
        "Generar un box plot donde el eje x = day y el eje y = total_bill"
      ]
    },
    {
      "cell_type": "code",
      "execution_count": 87,
      "metadata": {
        "id": "32V5IfdxUjmD"
      },
      "outputs": [
        {
          "data": {
            "application/vnd.plotly.v1+json": {
              "config": {
                "plotlyServerURL": "https://plot.ly"
              },
              "data": [
                {
                  "alignmentgroup": "True",
                  "hovertemplate": "day=%{x}<br>total_bill=%{y}<extra></extra>",
                  "legendgroup": "",
                  "marker": {
                    "color": "#636efa"
                  },
                  "name": "",
                  "notched": false,
                  "offsetgroup": "",
                  "orientation": "v",
                  "showlegend": false,
                  "type": "box",
                  "x": [
                    "Sun",
                    "Sun",
                    "Sun",
                    "Sun",
                    "Sun",
                    "Sun",
                    "Sun",
                    "Sun",
                    "Sun",
                    "Sun",
                    "Sun",
                    "Sun",
                    "Sun",
                    "Sun",
                    "Sun",
                    "Sun",
                    "Sun",
                    "Sun",
                    "Sun",
                    "Sat",
                    "Sat",
                    "Sat",
                    "Sat",
                    "Sat",
                    "Sat",
                    "Sat",
                    "Sat",
                    "Sat",
                    "Sat",
                    "Sat",
                    "Sat",
                    "Sat",
                    "Sat",
                    "Sat",
                    "Sat",
                    "Sat",
                    "Sat",
                    "Sat",
                    "Sat",
                    "Sat",
                    "Sat",
                    "Sun",
                    "Sun",
                    "Sun",
                    "Sun",
                    "Sun",
                    "Sun",
                    "Sun",
                    "Sun",
                    "Sun",
                    "Sun",
                    "Sun",
                    "Sun",
                    "Sun",
                    "Sun",
                    "Sun",
                    "Sat",
                    "Sat",
                    "Sat",
                    "Sat",
                    "Sat",
                    "Sat",
                    "Sat",
                    "Sat",
                    "Sat",
                    "Sat",
                    "Sat",
                    "Sat",
                    "Sat",
                    "Sat",
                    "Sat",
                    "Sat",
                    "Sat",
                    "Sat",
                    "Sat",
                    "Sat",
                    "Sat",
                    "Thur",
                    "Thur",
                    "Thur",
                    "Thur",
                    "Thur",
                    "Thur",
                    "Thur",
                    "Thur",
                    "Thur",
                    "Thur",
                    "Thur",
                    "Thur",
                    "Thur",
                    "Fri",
                    "Fri",
                    "Fri",
                    "Fri",
                    "Fri",
                    "Fri",
                    "Fri",
                    "Fri",
                    "Fri",
                    "Fri",
                    "Fri",
                    "Fri",
                    "Sat",
                    "Sat",
                    "Sat",
                    "Sat",
                    "Sat",
                    "Sat",
                    "Sat",
                    "Sat",
                    "Sat",
                    "Sat",
                    "Sun",
                    "Sun",
                    "Sun",
                    "Sun",
                    "Sun",
                    "Thur",
                    "Thur",
                    "Thur",
                    "Thur",
                    "Thur",
                    "Thur",
                    "Thur",
                    "Thur",
                    "Thur",
                    "Thur",
                    "Thur",
                    "Thur",
                    "Thur",
                    "Thur",
                    "Thur",
                    "Thur",
                    "Thur",
                    "Thur",
                    "Thur",
                    "Thur",
                    "Thur",
                    "Thur",
                    "Thur",
                    "Thur",
                    "Thur",
                    "Thur",
                    "Thur",
                    "Thur",
                    "Thur",
                    "Thur",
                    "Thur",
                    "Thur",
                    "Thur",
                    "Sun",
                    "Sun",
                    "Sun",
                    "Sun",
                    "Sun",
                    "Sun",
                    "Sun",
                    "Sun",
                    "Sun",
                    "Sun",
                    "Sun",
                    "Sun",
                    "Sun",
                    "Sun",
                    "Sun",
                    "Sun",
                    "Sun",
                    "Sun",
                    "Sat",
                    "Sat",
                    "Sat",
                    "Sat",
                    "Sun",
                    "Sun",
                    "Sun",
                    "Sun",
                    "Sun",
                    "Sun",
                    "Sun",
                    "Sun",
                    "Sun",
                    "Sun",
                    "Sun",
                    "Sun",
                    "Sun",
                    "Sun",
                    "Sun",
                    "Sun",
                    "Sun",
                    "Sun",
                    "Sun",
                    "Thur",
                    "Thur",
                    "Thur",
                    "Thur",
                    "Thur",
                    "Thur",
                    "Thur",
                    "Thur",
                    "Thur",
                    "Thur",
                    "Thur",
                    "Thur",
                    "Thur",
                    "Thur",
                    "Thur",
                    "Sat",
                    "Sat",
                    "Sat",
                    "Sat",
                    "Sat",
                    "Sat",
                    "Sat",
                    "Sat",
                    "Sat",
                    "Sat",
                    "Sat",
                    "Sat",
                    "Sat",
                    "Sat",
                    "Fri",
                    "Fri",
                    "Fri",
                    "Fri",
                    "Fri",
                    "Fri",
                    "Fri",
                    "Sat",
                    "Sat",
                    "Sat",
                    "Sat",
                    "Sat",
                    "Sat",
                    "Sat",
                    "Sat",
                    "Sat",
                    "Sat",
                    "Sat",
                    "Sat",
                    "Sat",
                    "Sat",
                    "Sat",
                    "Sat",
                    "Thur"
                  ],
                  "x0": " ",
                  "xaxis": "x",
                  "y": [
                    16.99,
                    10.34,
                    21.01,
                    23.68,
                    24.59,
                    25.29,
                    8.77,
                    26.88,
                    15.04,
                    14.78,
                    10.27,
                    35.26,
                    15.42,
                    18.43,
                    14.83,
                    21.58,
                    10.33,
                    16.29,
                    16.97,
                    20.65,
                    17.92,
                    20.29,
                    15.77,
                    39.42,
                    19.82,
                    17.81,
                    13.37,
                    12.69,
                    21.7,
                    19.65,
                    9.55,
                    18.35,
                    15.06,
                    20.69,
                    17.78,
                    24.06,
                    16.31,
                    16.93,
                    18.69,
                    31.27,
                    16.04,
                    17.46,
                    13.94,
                    9.68,
                    30.4,
                    18.29,
                    22.23,
                    32.4,
                    28.55,
                    18.04,
                    12.54,
                    10.29,
                    34.81,
                    9.94,
                    25.56,
                    19.49,
                    38.01,
                    26.41,
                    11.24,
                    48.27,
                    20.29,
                    13.81,
                    11.02,
                    18.29,
                    17.59,
                    20.08,
                    16.45,
                    3.07,
                    20.23,
                    15.01,
                    12.02,
                    17.07,
                    26.86,
                    25.28,
                    14.73,
                    10.51,
                    17.92,
                    27.2,
                    22.76,
                    17.29,
                    19.44,
                    16.66,
                    10.07,
                    32.68,
                    15.98,
                    34.83,
                    13.03,
                    18.28,
                    24.71,
                    21.16,
                    28.97,
                    22.49,
                    5.75,
                    16.32,
                    22.75,
                    40.17,
                    27.28,
                    12.03,
                    21.01,
                    12.46,
                    11.35,
                    15.38,
                    44.3,
                    22.42,
                    20.92,
                    15.36,
                    20.49,
                    25.21,
                    18.24,
                    14.31,
                    14,
                    7.25,
                    38.07,
                    23.95,
                    25.71,
                    17.31,
                    29.93,
                    10.65,
                    12.43,
                    24.08,
                    11.69,
                    13.42,
                    14.26,
                    15.95,
                    12.48,
                    29.8,
                    8.52,
                    14.52,
                    11.38,
                    22.82,
                    19.08,
                    20.27,
                    11.17,
                    12.26,
                    18.26,
                    8.51,
                    10.33,
                    14.15,
                    16,
                    13.16,
                    17.47,
                    34.3,
                    41.19,
                    27.05,
                    16.43,
                    8.35,
                    18.64,
                    11.87,
                    9.78,
                    7.51,
                    14.07,
                    13.13,
                    17.26,
                    24.55,
                    19.77,
                    29.85,
                    48.17,
                    25,
                    13.39,
                    16.49,
                    21.5,
                    12.66,
                    16.21,
                    13.81,
                    17.51,
                    24.52,
                    20.76,
                    31.71,
                    10.59,
                    10.63,
                    50.81,
                    15.81,
                    7.25,
                    31.85,
                    16.82,
                    32.9,
                    17.89,
                    14.48,
                    9.6,
                    34.63,
                    34.65,
                    23.33,
                    45.35,
                    23.17,
                    40.55,
                    20.69,
                    20.9,
                    30.46,
                    18.15,
                    23.1,
                    15.69,
                    19.81,
                    28.44,
                    15.48,
                    16.58,
                    7.56,
                    10.34,
                    43.11,
                    13,
                    13.51,
                    18.71,
                    12.74,
                    13,
                    16.4,
                    20.53,
                    16.47,
                    26.59,
                    38.73,
                    24.27,
                    12.76,
                    30.06,
                    25.89,
                    48.33,
                    13.27,
                    28.17,
                    12.9,
                    28.15,
                    11.59,
                    7.74,
                    30.14,
                    12.16,
                    13.42,
                    8.58,
                    15.98,
                    13.42,
                    16.27,
                    10.09,
                    20.45,
                    13.28,
                    22.12,
                    24.01,
                    15.69,
                    11.61,
                    10.77,
                    15.53,
                    10.07,
                    12.6,
                    32.83,
                    35.83,
                    29.03,
                    27.18,
                    22.67,
                    17.82,
                    18.78
                  ],
                  "y0": " ",
                  "yaxis": "y"
                }
              ],
              "layout": {
                "boxmode": "group",
                "legend": {
                  "tracegroupgap": 0
                },
                "margin": {
                  "t": 60
                },
                "template": {
                  "data": {
                    "bar": [
                      {
                        "error_x": {
                          "color": "#2a3f5f"
                        },
                        "error_y": {
                          "color": "#2a3f5f"
                        },
                        "marker": {
                          "line": {
                            "color": "#E5ECF6",
                            "width": 0.5
                          },
                          "pattern": {
                            "fillmode": "overlay",
                            "size": 10,
                            "solidity": 0.2
                          }
                        },
                        "type": "bar"
                      }
                    ],
                    "barpolar": [
                      {
                        "marker": {
                          "line": {
                            "color": "#E5ECF6",
                            "width": 0.5
                          },
                          "pattern": {
                            "fillmode": "overlay",
                            "size": 10,
                            "solidity": 0.2
                          }
                        },
                        "type": "barpolar"
                      }
                    ],
                    "carpet": [
                      {
                        "aaxis": {
                          "endlinecolor": "#2a3f5f",
                          "gridcolor": "white",
                          "linecolor": "white",
                          "minorgridcolor": "white",
                          "startlinecolor": "#2a3f5f"
                        },
                        "baxis": {
                          "endlinecolor": "#2a3f5f",
                          "gridcolor": "white",
                          "linecolor": "white",
                          "minorgridcolor": "white",
                          "startlinecolor": "#2a3f5f"
                        },
                        "type": "carpet"
                      }
                    ],
                    "choropleth": [
                      {
                        "colorbar": {
                          "outlinewidth": 0,
                          "ticks": ""
                        },
                        "type": "choropleth"
                      }
                    ],
                    "contour": [
                      {
                        "colorbar": {
                          "outlinewidth": 0,
                          "ticks": ""
                        },
                        "colorscale": [
                          [
                            0,
                            "#0d0887"
                          ],
                          [
                            0.1111111111111111,
                            "#46039f"
                          ],
                          [
                            0.2222222222222222,
                            "#7201a8"
                          ],
                          [
                            0.3333333333333333,
                            "#9c179e"
                          ],
                          [
                            0.4444444444444444,
                            "#bd3786"
                          ],
                          [
                            0.5555555555555556,
                            "#d8576b"
                          ],
                          [
                            0.6666666666666666,
                            "#ed7953"
                          ],
                          [
                            0.7777777777777778,
                            "#fb9f3a"
                          ],
                          [
                            0.8888888888888888,
                            "#fdca26"
                          ],
                          [
                            1,
                            "#f0f921"
                          ]
                        ],
                        "type": "contour"
                      }
                    ],
                    "contourcarpet": [
                      {
                        "colorbar": {
                          "outlinewidth": 0,
                          "ticks": ""
                        },
                        "type": "contourcarpet"
                      }
                    ],
                    "heatmap": [
                      {
                        "colorbar": {
                          "outlinewidth": 0,
                          "ticks": ""
                        },
                        "colorscale": [
                          [
                            0,
                            "#0d0887"
                          ],
                          [
                            0.1111111111111111,
                            "#46039f"
                          ],
                          [
                            0.2222222222222222,
                            "#7201a8"
                          ],
                          [
                            0.3333333333333333,
                            "#9c179e"
                          ],
                          [
                            0.4444444444444444,
                            "#bd3786"
                          ],
                          [
                            0.5555555555555556,
                            "#d8576b"
                          ],
                          [
                            0.6666666666666666,
                            "#ed7953"
                          ],
                          [
                            0.7777777777777778,
                            "#fb9f3a"
                          ],
                          [
                            0.8888888888888888,
                            "#fdca26"
                          ],
                          [
                            1,
                            "#f0f921"
                          ]
                        ],
                        "type": "heatmap"
                      }
                    ],
                    "heatmapgl": [
                      {
                        "colorbar": {
                          "outlinewidth": 0,
                          "ticks": ""
                        },
                        "colorscale": [
                          [
                            0,
                            "#0d0887"
                          ],
                          [
                            0.1111111111111111,
                            "#46039f"
                          ],
                          [
                            0.2222222222222222,
                            "#7201a8"
                          ],
                          [
                            0.3333333333333333,
                            "#9c179e"
                          ],
                          [
                            0.4444444444444444,
                            "#bd3786"
                          ],
                          [
                            0.5555555555555556,
                            "#d8576b"
                          ],
                          [
                            0.6666666666666666,
                            "#ed7953"
                          ],
                          [
                            0.7777777777777778,
                            "#fb9f3a"
                          ],
                          [
                            0.8888888888888888,
                            "#fdca26"
                          ],
                          [
                            1,
                            "#f0f921"
                          ]
                        ],
                        "type": "heatmapgl"
                      }
                    ],
                    "histogram": [
                      {
                        "marker": {
                          "pattern": {
                            "fillmode": "overlay",
                            "size": 10,
                            "solidity": 0.2
                          }
                        },
                        "type": "histogram"
                      }
                    ],
                    "histogram2d": [
                      {
                        "colorbar": {
                          "outlinewidth": 0,
                          "ticks": ""
                        },
                        "colorscale": [
                          [
                            0,
                            "#0d0887"
                          ],
                          [
                            0.1111111111111111,
                            "#46039f"
                          ],
                          [
                            0.2222222222222222,
                            "#7201a8"
                          ],
                          [
                            0.3333333333333333,
                            "#9c179e"
                          ],
                          [
                            0.4444444444444444,
                            "#bd3786"
                          ],
                          [
                            0.5555555555555556,
                            "#d8576b"
                          ],
                          [
                            0.6666666666666666,
                            "#ed7953"
                          ],
                          [
                            0.7777777777777778,
                            "#fb9f3a"
                          ],
                          [
                            0.8888888888888888,
                            "#fdca26"
                          ],
                          [
                            1,
                            "#f0f921"
                          ]
                        ],
                        "type": "histogram2d"
                      }
                    ],
                    "histogram2dcontour": [
                      {
                        "colorbar": {
                          "outlinewidth": 0,
                          "ticks": ""
                        },
                        "colorscale": [
                          [
                            0,
                            "#0d0887"
                          ],
                          [
                            0.1111111111111111,
                            "#46039f"
                          ],
                          [
                            0.2222222222222222,
                            "#7201a8"
                          ],
                          [
                            0.3333333333333333,
                            "#9c179e"
                          ],
                          [
                            0.4444444444444444,
                            "#bd3786"
                          ],
                          [
                            0.5555555555555556,
                            "#d8576b"
                          ],
                          [
                            0.6666666666666666,
                            "#ed7953"
                          ],
                          [
                            0.7777777777777778,
                            "#fb9f3a"
                          ],
                          [
                            0.8888888888888888,
                            "#fdca26"
                          ],
                          [
                            1,
                            "#f0f921"
                          ]
                        ],
                        "type": "histogram2dcontour"
                      }
                    ],
                    "mesh3d": [
                      {
                        "colorbar": {
                          "outlinewidth": 0,
                          "ticks": ""
                        },
                        "type": "mesh3d"
                      }
                    ],
                    "parcoords": [
                      {
                        "line": {
                          "colorbar": {
                            "outlinewidth": 0,
                            "ticks": ""
                          }
                        },
                        "type": "parcoords"
                      }
                    ],
                    "pie": [
                      {
                        "automargin": true,
                        "type": "pie"
                      }
                    ],
                    "scatter": [
                      {
                        "fillpattern": {
                          "fillmode": "overlay",
                          "size": 10,
                          "solidity": 0.2
                        },
                        "type": "scatter"
                      }
                    ],
                    "scatter3d": [
                      {
                        "line": {
                          "colorbar": {
                            "outlinewidth": 0,
                            "ticks": ""
                          }
                        },
                        "marker": {
                          "colorbar": {
                            "outlinewidth": 0,
                            "ticks": ""
                          }
                        },
                        "type": "scatter3d"
                      }
                    ],
                    "scattercarpet": [
                      {
                        "marker": {
                          "colorbar": {
                            "outlinewidth": 0,
                            "ticks": ""
                          }
                        },
                        "type": "scattercarpet"
                      }
                    ],
                    "scattergeo": [
                      {
                        "marker": {
                          "colorbar": {
                            "outlinewidth": 0,
                            "ticks": ""
                          }
                        },
                        "type": "scattergeo"
                      }
                    ],
                    "scattergl": [
                      {
                        "marker": {
                          "colorbar": {
                            "outlinewidth": 0,
                            "ticks": ""
                          }
                        },
                        "type": "scattergl"
                      }
                    ],
                    "scattermapbox": [
                      {
                        "marker": {
                          "colorbar": {
                            "outlinewidth": 0,
                            "ticks": ""
                          }
                        },
                        "type": "scattermapbox"
                      }
                    ],
                    "scatterpolar": [
                      {
                        "marker": {
                          "colorbar": {
                            "outlinewidth": 0,
                            "ticks": ""
                          }
                        },
                        "type": "scatterpolar"
                      }
                    ],
                    "scatterpolargl": [
                      {
                        "marker": {
                          "colorbar": {
                            "outlinewidth": 0,
                            "ticks": ""
                          }
                        },
                        "type": "scatterpolargl"
                      }
                    ],
                    "scatterternary": [
                      {
                        "marker": {
                          "colorbar": {
                            "outlinewidth": 0,
                            "ticks": ""
                          }
                        },
                        "type": "scatterternary"
                      }
                    ],
                    "surface": [
                      {
                        "colorbar": {
                          "outlinewidth": 0,
                          "ticks": ""
                        },
                        "colorscale": [
                          [
                            0,
                            "#0d0887"
                          ],
                          [
                            0.1111111111111111,
                            "#46039f"
                          ],
                          [
                            0.2222222222222222,
                            "#7201a8"
                          ],
                          [
                            0.3333333333333333,
                            "#9c179e"
                          ],
                          [
                            0.4444444444444444,
                            "#bd3786"
                          ],
                          [
                            0.5555555555555556,
                            "#d8576b"
                          ],
                          [
                            0.6666666666666666,
                            "#ed7953"
                          ],
                          [
                            0.7777777777777778,
                            "#fb9f3a"
                          ],
                          [
                            0.8888888888888888,
                            "#fdca26"
                          ],
                          [
                            1,
                            "#f0f921"
                          ]
                        ],
                        "type": "surface"
                      }
                    ],
                    "table": [
                      {
                        "cells": {
                          "fill": {
                            "color": "#EBF0F8"
                          },
                          "line": {
                            "color": "white"
                          }
                        },
                        "header": {
                          "fill": {
                            "color": "#C8D4E3"
                          },
                          "line": {
                            "color": "white"
                          }
                        },
                        "type": "table"
                      }
                    ]
                  },
                  "layout": {
                    "annotationdefaults": {
                      "arrowcolor": "#2a3f5f",
                      "arrowhead": 0,
                      "arrowwidth": 1
                    },
                    "autotypenumbers": "strict",
                    "coloraxis": {
                      "colorbar": {
                        "outlinewidth": 0,
                        "ticks": ""
                      }
                    },
                    "colorscale": {
                      "diverging": [
                        [
                          0,
                          "#8e0152"
                        ],
                        [
                          0.1,
                          "#c51b7d"
                        ],
                        [
                          0.2,
                          "#de77ae"
                        ],
                        [
                          0.3,
                          "#f1b6da"
                        ],
                        [
                          0.4,
                          "#fde0ef"
                        ],
                        [
                          0.5,
                          "#f7f7f7"
                        ],
                        [
                          0.6,
                          "#e6f5d0"
                        ],
                        [
                          0.7,
                          "#b8e186"
                        ],
                        [
                          0.8,
                          "#7fbc41"
                        ],
                        [
                          0.9,
                          "#4d9221"
                        ],
                        [
                          1,
                          "#276419"
                        ]
                      ],
                      "sequential": [
                        [
                          0,
                          "#0d0887"
                        ],
                        [
                          0.1111111111111111,
                          "#46039f"
                        ],
                        [
                          0.2222222222222222,
                          "#7201a8"
                        ],
                        [
                          0.3333333333333333,
                          "#9c179e"
                        ],
                        [
                          0.4444444444444444,
                          "#bd3786"
                        ],
                        [
                          0.5555555555555556,
                          "#d8576b"
                        ],
                        [
                          0.6666666666666666,
                          "#ed7953"
                        ],
                        [
                          0.7777777777777778,
                          "#fb9f3a"
                        ],
                        [
                          0.8888888888888888,
                          "#fdca26"
                        ],
                        [
                          1,
                          "#f0f921"
                        ]
                      ],
                      "sequentialminus": [
                        [
                          0,
                          "#0d0887"
                        ],
                        [
                          0.1111111111111111,
                          "#46039f"
                        ],
                        [
                          0.2222222222222222,
                          "#7201a8"
                        ],
                        [
                          0.3333333333333333,
                          "#9c179e"
                        ],
                        [
                          0.4444444444444444,
                          "#bd3786"
                        ],
                        [
                          0.5555555555555556,
                          "#d8576b"
                        ],
                        [
                          0.6666666666666666,
                          "#ed7953"
                        ],
                        [
                          0.7777777777777778,
                          "#fb9f3a"
                        ],
                        [
                          0.8888888888888888,
                          "#fdca26"
                        ],
                        [
                          1,
                          "#f0f921"
                        ]
                      ]
                    },
                    "colorway": [
                      "#636efa",
                      "#EF553B",
                      "#00cc96",
                      "#ab63fa",
                      "#FFA15A",
                      "#19d3f3",
                      "#FF6692",
                      "#B6E880",
                      "#FF97FF",
                      "#FECB52"
                    ],
                    "font": {
                      "color": "#2a3f5f"
                    },
                    "geo": {
                      "bgcolor": "white",
                      "lakecolor": "white",
                      "landcolor": "#E5ECF6",
                      "showlakes": true,
                      "showland": true,
                      "subunitcolor": "white"
                    },
                    "hoverlabel": {
                      "align": "left"
                    },
                    "hovermode": "closest",
                    "mapbox": {
                      "style": "light"
                    },
                    "paper_bgcolor": "white",
                    "plot_bgcolor": "#E5ECF6",
                    "polar": {
                      "angularaxis": {
                        "gridcolor": "white",
                        "linecolor": "white",
                        "ticks": ""
                      },
                      "bgcolor": "#E5ECF6",
                      "radialaxis": {
                        "gridcolor": "white",
                        "linecolor": "white",
                        "ticks": ""
                      }
                    },
                    "scene": {
                      "xaxis": {
                        "backgroundcolor": "#E5ECF6",
                        "gridcolor": "white",
                        "gridwidth": 2,
                        "linecolor": "white",
                        "showbackground": true,
                        "ticks": "",
                        "zerolinecolor": "white"
                      },
                      "yaxis": {
                        "backgroundcolor": "#E5ECF6",
                        "gridcolor": "white",
                        "gridwidth": 2,
                        "linecolor": "white",
                        "showbackground": true,
                        "ticks": "",
                        "zerolinecolor": "white"
                      },
                      "zaxis": {
                        "backgroundcolor": "#E5ECF6",
                        "gridcolor": "white",
                        "gridwidth": 2,
                        "linecolor": "white",
                        "showbackground": true,
                        "ticks": "",
                        "zerolinecolor": "white"
                      }
                    },
                    "shapedefaults": {
                      "line": {
                        "color": "#2a3f5f"
                      }
                    },
                    "ternary": {
                      "aaxis": {
                        "gridcolor": "white",
                        "linecolor": "white",
                        "ticks": ""
                      },
                      "baxis": {
                        "gridcolor": "white",
                        "linecolor": "white",
                        "ticks": ""
                      },
                      "bgcolor": "#E5ECF6",
                      "caxis": {
                        "gridcolor": "white",
                        "linecolor": "white",
                        "ticks": ""
                      }
                    },
                    "title": {
                      "x": 0.05
                    },
                    "xaxis": {
                      "automargin": true,
                      "gridcolor": "white",
                      "linecolor": "white",
                      "ticks": "",
                      "title": {
                        "standoff": 15
                      },
                      "zerolinecolor": "white",
                      "zerolinewidth": 2
                    },
                    "yaxis": {
                      "automargin": true,
                      "gridcolor": "white",
                      "linecolor": "white",
                      "ticks": "",
                      "title": {
                        "standoff": 15
                      },
                      "zerolinecolor": "white",
                      "zerolinewidth": 2
                    }
                  }
                },
                "xaxis": {
                  "anchor": "y",
                  "domain": [
                    0,
                    1
                  ],
                  "title": {
                    "text": "day"
                  }
                },
                "yaxis": {
                  "anchor": "x",
                  "domain": [
                    0,
                    1
                  ],
                  "title": {
                    "text": "total_bill"
                  }
                }
              }
            }
          },
          "metadata": {},
          "output_type": "display_data"
        }
      ],
      "source": [
        "#Completar\n",
        "px.box(x= 'day',y='total_bill',data_frame=df)"
      ]
    },
    {
      "cell_type": "code",
      "execution_count": null,
      "metadata": {},
      "outputs": [],
      "source": []
    }
  ],
  "metadata": {
    "colab": {
      "collapsed_sections": [],
      "name": "Análisis Multivariado II - Alumnos (A Completar).ipynb",
      "provenance": []
    },
    "kernelspec": {
      "display_name": "Python 3",
      "language": "python",
      "name": "python3"
    },
    "language_info": {
      "codemirror_mode": {
        "name": "ipython",
        "version": 3
      },
      "file_extension": ".py",
      "mimetype": "text/x-python",
      "name": "python",
      "nbconvert_exporter": "python",
      "pygments_lexer": "ipython3",
      "version": "3.8.5"
    },
    "varInspector": {
      "cols": {
        "lenName": 16,
        "lenType": 16,
        "lenVar": 40
      },
      "kernels_config": {
        "python": {
          "delete_cmd_postfix": "",
          "delete_cmd_prefix": "del ",
          "library": "var_list.py",
          "varRefreshCmd": "print(var_dic_list())"
        },
        "r": {
          "delete_cmd_postfix": ") ",
          "delete_cmd_prefix": "rm(",
          "library": "var_list.r",
          "varRefreshCmd": "cat(var_dic_list()) "
        }
      },
      "types_to_exclude": [
        "module",
        "function",
        "builtin_function_or_method",
        "instance",
        "_Feature"
      ],
      "window_display": false
    }
  },
  "nbformat": 4,
  "nbformat_minor": 0
}
